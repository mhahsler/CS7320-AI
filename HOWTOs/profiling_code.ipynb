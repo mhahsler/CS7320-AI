{
 "cells": [
  {
   "cell_type": "markdown",
   "metadata": {},
   "source": [
    "# HOWTO: Profiling Python Code\n",
    "by [Michael Hahsler](http://michael.hahsler.net)"
   ]
  },
  {
   "cell_type": "markdown",
   "metadata": {},
   "source": [
    "\n",
    "It is often important to compare the run-time of different algorithms or to find out where an implementation wastes time or consumes too much memory. \n",
    "Details on timing code and memory profiling in notebooks is explained in:\n",
    "https://jakevdp.github.io/PythonDataScienceHandbook/01.07-timing-and-profiling.html"
   ]
  },
  {
   "cell_type": "markdown",
   "metadata": {},
   "source": [
    "## Manual timing using the time package"
   ]
  },
  {
   "cell_type": "code",
   "execution_count": 1,
   "metadata": {},
   "outputs": [
    {
     "name": "stdout",
     "output_type": "stream",
     "text": [
      "Counting to 100000 took 7.45 milliseconds wall-clock time\n"
     ]
    }
   ],
   "source": [
    "import time\n",
    "\n",
    "t0 = time.time()\n",
    "for i in range(100000): pass\n",
    "t1 = time.time()\n",
    "\n",
    "print(f\"Counting to 100000 took {round((t1-t0) * 1e3, 3)} milliseconds wall-clock time\")"
   ]
  },
  {
   "cell_type": "markdown",
   "metadata": {},
   "source": [
    "## Using the timit package\n",
    "\n",
    "The `timit` package is useful to measure time for code that is called repeatedly. Note that repeatedly executing code is much faster in Python."
   ]
  },
  {
   "cell_type": "code",
   "execution_count": 2,
   "metadata": {},
   "outputs": [
    {
     "name": "stdout",
     "output_type": "stream",
     "text": [
      "This took on average: 2.433601480006473 milliseconds\n"
     ]
    }
   ],
   "source": [
    "import timeit\n",
    "\n",
    "N = 100\n",
    "\n",
    "tm = timeit.timeit('for i in range(100000): pass', \n",
    "                   globals = globals(), number = N)\n",
    "\n",
    "print(f\"This took on average: {tm/N * 1e3} milliseconds\")"
   ]
  },
  {
   "cell_type": "markdown",
   "metadata": {},
   "source": [
    "## Timing with magic lines"
   ]
  },
  {
   "cell_type": "code",
   "execution_count": 3,
   "metadata": {},
   "outputs": [
    {
     "name": "stdout",
     "output_type": "stream",
     "text": [
      "CPU times: user 6.09 ms, sys: 0 ns, total: 6.09 ms\n",
      "Wall time: 5.19 ms\n"
     ]
    }
   ],
   "source": [
    "%time for i in range(100000): pass"
   ]
  },
  {
   "cell_type": "markdown",
   "metadata": {},
   "source": [
    "Timeit runns the code several times to get a better estimate"
   ]
  },
  {
   "cell_type": "code",
   "execution_count": 4,
   "metadata": {},
   "outputs": [
    {
     "name": "stdout",
     "output_type": "stream",
     "text": [
      "1.9 ms ± 80.4 µs per loop (mean ± std. dev. of 7 runs, 100 loops each)\n"
     ]
    }
   ],
   "source": [
    "%timeit for i in range(100000): pass"
   ]
  },
  {
   "cell_type": "markdown",
   "metadata": {},
   "source": [
    "## Using cProfile\n",
    "\n",
    "Profiling can be used to find the part of your program that uses up most of the time.\n",
    "See: https://docs.python.org/3/library/profile.html "
   ]
  },
  {
   "cell_type": "code",
   "execution_count": 5,
   "metadata": {},
   "outputs": [
    {
     "name": "stdout",
     "output_type": "stream",
     "text": [
      "         1004 function calls in 0.017 seconds\n",
      "\n",
      "   Ordered by: standard name\n",
      "\n",
      "   ncalls  tottime  percall  cumtime  percall filename:lineno(function)\n",
      "        1    0.002    0.002    0.017    0.017 1525638392.py:3(my_function)\n",
      "        1    0.000    0.000    0.017    0.017 <string>:1(<module>)\n",
      "        1    0.000    0.000    0.017    0.017 {built-in method builtins.exec}\n",
      "     1000    0.015    0.000    0.015    0.000 {built-in method builtins.sum}\n",
      "        1    0.000    0.000    0.000    0.000 {method 'disable' of '_lsprof.Profiler' objects}\n",
      "\n",
      "\n"
     ]
    }
   ],
   "source": [
    "import cProfile\n",
    "\n",
    "def my_function(n = 1000):\n",
    "    for i in range(n):\n",
    "        sum(range(n))\n",
    "\n",
    "cProfile.run('my_function()')"
   ]
  },
  {
   "cell_type": "markdown",
   "metadata": {},
   "source": [
    "We see that most time (see `tottime`) is spent in the 1000 calls to `builtins.sum`.\n",
    "\n",
    "For notebooks you can also use the magic command `%prun`."
   ]
  },
  {
   "cell_type": "code",
   "execution_count": 6,
   "metadata": {},
   "outputs": [
    {
     "name": "stdout",
     "output_type": "stream",
     "text": [
      " "
     ]
    },
    {
     "data": {
      "text/plain": [
       "         1004 function calls in 0.026 seconds\n",
       "\n",
       "   Ordered by: internal time\n",
       "\n",
       "   ncalls  tottime  percall  cumtime  percall filename:lineno(function)\n",
       "     1000    0.022    0.000    0.022    0.000 {built-in method builtins.sum}\n",
       "        1    0.004    0.004    0.025    0.025 571169245.py:1(my_function)\n",
       "        1    0.000    0.000    0.026    0.026 {built-in method builtins.exec}\n",
       "        1    0.000    0.000    0.025    0.025 <string>:1(<module>)\n",
       "        1    0.000    0.000    0.000    0.000 {method 'disable' of '_lsprof.Profiler' objects}"
      ]
     },
     "metadata": {},
     "output_type": "display_data"
    }
   ],
   "source": [
    "def my_function(n = 1000):\n",
    "    for i in range(n):\n",
    "        sum(range(n))\n",
    "\n",
    "%prun my_function()"
   ]
  }
 ],
 "metadata": {
  "kernelspec": {
   "display_name": "Python 3 (ipykernel)",
   "language": "python",
   "name": "python3"
  },
  "language_info": {
   "codemirror_mode": {
    "name": "ipython",
    "version": 3
   },
   "file_extension": ".py",
   "mimetype": "text/x-python",
   "name": "python",
   "nbconvert_exporter": "python",
   "pygments_lexer": "ipython3",
   "version": "3.9.5"
  }
 },
 "nbformat": 4,
 "nbformat_minor": 4
}
