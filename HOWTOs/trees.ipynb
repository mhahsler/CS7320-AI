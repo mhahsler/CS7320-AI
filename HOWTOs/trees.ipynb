{
 "cells": [
  {
   "cell_type": "markdown",
   "id": "69ed5839-aa7f-470d-a5ed-424c4534525d",
   "metadata": {},
   "source": [
    "# HOWTO: Simple Trees used for Search-based AI in Python\n",
    "by [Michael Hahsler](http://michael.hahsler.net)"
   ]
  },
  {
   "cell_type": "markdown",
   "id": "fc4f9d6c",
   "metadata": {},
   "source": [
    "\n",
    "To understand AI search trees, you need to understand how tree data structures in general work. If you are not sure, then you can watch \n",
    "the video [Binary Search Trees Python Tutorial](https://www.youtube.com/watch?v=pkYVOmU3MgA)\n",
    "from the course Data Structures and Algorithms in Python - Full Course for Beginners.\n",
    "\n",
    "Search trees used in AI slightly differ from the usual binary search trees taught in data structures courses. Here are some key differences:\n",
    "\n",
    "* AI search trees are dynamically built during search. Branches no longer needed during \n",
    "    search may be removed to save memory (e.g., in DFS).\n",
    "* AI search trees are typically not binary trees, but nodes can have many children\n",
    "    (often representing actions).\n",
    "* For AI search trees we typically do not use links from parents to children, but \n",
    "    child notes have a link (references in Python) to their parent. The reason is that going down the tree, new nodes \n",
    "    are creates so we automatically have a reference. Links are only used to go back up the tree.\n",
    "\n",
    "Here is an implementation of the basic node structure for an AI search tree (see Fig 3.7 on page 73). The state in the example is a position represented as `(row, col)`. I have added a method that extracts the path from the root node to the current node. It can be used to get the path when the search is completed."
   ]
  },
  {
   "cell_type": "code",
   "execution_count": 45,
   "id": "da4fb2da-f7f4-41d6-9005-5e87ffc48c94",
   "metadata": {},
   "outputs": [],
   "source": [
    "class Node:\n",
    "    def __init__(self, pos, parent, action, cost):\n",
    "        self.pos = tuple(pos)    # the state; positions are (row,col)\n",
    "        self.parent = parent     # reference to parent node. None means root node.\n",
    "        self.action = action     # action used in the transition function (root node has None)\n",
    "        self.cost = cost         # for uniform cost this is the depth. It is also g(n) for A* search\n",
    "\n",
    "    def __str__(self):\n",
    "        \"\"\"print the node in a human readable format\"\"\"\n",
    "        return f\"Node - pos = {self.pos}; action = {self.action}; cost = {self.cost}\"\n",
    "    \n",
    "    def get_path_from_root(self):\n",
    "        \"\"\"returns nodes on the path from the root to the current node.\"\"\"\n",
    "        node = self\n",
    "        path = [node]\n",
    "    \n",
    "        while not node.parent is None:\n",
    "            node = node.parent\n",
    "            path.append(node)\n",
    "        \n",
    "        path.reverse()\n",
    "        \n",
    "        return(path)"
   ]
  },
  {
   "cell_type": "markdown",
   "id": "e95cf87d-6ad3-421b-b98f-dec49dd8eb6f",
   "metadata": {},
   "source": [
    "## Example\n",
    "\n",
    "Create the root node and append the node for going east with a cost of 1. The example also illustrates memory management using reference counts and garbage collection (see [Python references](https://www.pythontutorial.net/advanced-python/python-references/))."
   ]
  },
  {
   "cell_type": "code",
   "execution_count": 46,
   "id": "aceb7078-07e6-4904-a8ae-6ce42beea87a",
   "metadata": {},
   "outputs": [],
   "source": [
    "# import sys to access reference counts\n",
    "import sys"
   ]
  },
  {
   "cell_type": "markdown",
   "id": "831bf2eb-e16c-4542-8f82-74e26cf0c203",
   "metadata": {},
   "source": [
    "Create the root node for position (0,0), no action was needed to get to the state represented by the root node, and the path cost to get there is 0."
   ]
  },
  {
   "cell_type": "code",
   "execution_count": 47,
   "id": "394f20e9-6542-4926-a4d8-92436d502ee6",
   "metadata": {},
   "outputs": [
    {
     "name": "stdout",
     "output_type": "stream",
     "text": [
      "root: Node - pos = (0, 0); action = None; cost = 0\n",
      "root (reference): <__main__.Node object at 0x7fd74d556b00>\n",
      "Root's reference count for garbage collection: 1\n"
     ]
    }
   ],
   "source": [
    "root = Node(pos = (0,0), parent = None, action = None, cost = 0)\n",
    "print(\"root:\", root)\n",
    "print(\"root (reference):\", repr(root))\n",
    "# Note: -1 is used because passing root to the getrefcount function adds a reference\n",
    "print(\"Root's reference count for garbage collection:\", sys.getrefcount(root) - 1) "
   ]
  },
  {
   "cell_type": "markdown",
   "id": "b166707f-c0d1-439d-bcbd-5476164bc2e3",
   "metadata": {},
   "source": [
    "Go east with cost 1 (from the parent root)."
   ]
  },
  {
   "cell_type": "code",
   "execution_count": 48,
   "id": "c5ff24f9-b905-481e-a7c8-84663227ed66",
   "metadata": {},
   "outputs": [
    {
     "name": "stdout",
     "output_type": "stream",
     "text": [
      "node2: Node - pos = (0, 1); action = E; cost = 1\n",
      "parent of node2:  Node - pos = (0, 0); action = None; cost = 0\n",
      "parent of node2 (reference):  <__main__.Node object at 0x7fd74d556b00>\n",
      "Root is now referenced two times (root variable, parent of node2). Reference count for garbage collection (root node): 2\n"
     ]
    }
   ],
   "source": [
    "node2 = Node(pos = (0,1), parent = root, action = \"E\", cost = 1)\n",
    "print(\"node2:\", node2)\n",
    "print(\"parent of node2: \", node2.parent)\n",
    "print(\"parent of node2 (reference): \", repr(node2.parent))\n",
    "print(\"Root is now referenced two times (root variable, parent of node2). Reference count for garbage collection (root node):\", sys.getrefcount(root) -1 )"
   ]
  },
  {
   "cell_type": "markdown",
   "id": "4a5fc49f-1dc5-42e7-bf2e-59246c8b19f5",
   "metadata": {},
   "source": [
    "Note that the root node is safe from garbage collection as long as we have also a reference in node2 (parent)."
   ]
  },
  {
   "cell_type": "code",
   "execution_count": 49,
   "id": "2e7abf8e-4721-45da-8ebc-ebc596e82398",
   "metadata": {},
   "outputs": [
    {
     "name": "stdout",
     "output_type": "stream",
     "text": [
      "None\n",
      "parent of node2 (reference to root node):  Node - pos = (0, 0); action = None; cost = 0\n",
      "parent of node2 (reference to root node):  <__main__.Node object at 0x7fd74d556b00>\n",
      "Reference count for garbage collection (root node): 1\n"
     ]
    }
   ],
   "source": [
    "root = None\n",
    "print(root)\n",
    "print(\"parent of node2 (reference to root node): \", node2.parent)\n",
    "print(\"parent of node2 (reference to root node): \", repr(node2.parent))\n",
    "print(\"Reference count for garbage collection (root node):\", sys.getrefcount(node2.parent)-1)"
   ]
  },
  {
   "cell_type": "markdown",
   "id": "d839b579-7bae-432e-a094-95730cca4215",
   "metadata": {},
   "source": [
    "Path from root to node2"
   ]
  },
  {
   "cell_type": "code",
   "execution_count": 50,
   "id": "ca98455e-5046-475e-aedc-ddea0b7c6330",
   "metadata": {},
   "outputs": [
    {
     "name": "stdout",
     "output_type": "stream",
     "text": [
      "References: [<__main__.Node object at 0x7fd74d556b00>, <__main__.Node object at 0x7fd74d4123b0>]\n",
      "Positions: [(0, 0), (0, 1)]\n",
      "Actions: [None, 'E']\n",
      "Path Cost: [0, 1]\n"
     ]
    }
   ],
   "source": [
    "path = node2.get_path_from_root()\n",
    "print(\"References:\", path)\n",
    "print(\"Positions:\", [n.pos for n in path])\n",
    "print(\"Actions:\", [n.action for n in path])\n",
    "print(\"Path Cost:\", [n.cost for n in path])"
   ]
  },
  {
   "cell_type": "markdown",
   "id": "a59abe44-191b-4409-a2ee-4b673ee3c7a7",
   "metadata": {},
   "source": [
    "Once we delete the reference to node2, the reference count for all nodes goes to zero and the whole tree is exposed to garbage collection."
   ]
  },
  {
   "cell_type": "code",
   "execution_count": 51,
   "id": "5c82dc9e-b919-409d-8fe6-c358341f5e4c",
   "metadata": {},
   "outputs": [],
   "source": [
    "node2 = None"
   ]
  }
 ],
 "metadata": {
  "kernelspec": {
   "display_name": "Python 3 (ipykernel)",
   "language": "python",
   "name": "python3"
  },
  "language_info": {
   "codemirror_mode": {
    "name": "ipython",
    "version": 3
   },
   "file_extension": ".py",
   "mimetype": "text/x-python",
   "name": "python",
   "nbconvert_exporter": "python",
   "pygments_lexer": "ipython3",
   "version": "3.10.12"
  }
 },
 "nbformat": 4,
 "nbformat_minor": 5
}
