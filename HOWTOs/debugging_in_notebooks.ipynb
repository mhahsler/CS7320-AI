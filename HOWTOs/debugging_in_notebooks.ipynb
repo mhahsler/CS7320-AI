{
 "cells": [
  {
   "cell_type": "markdown",
   "metadata": {},
   "source": [
    "# HOWTO: Debugging in Jupyter Notebooks\n",
    "by Michael Hahsler"
   ]
  },
  {
   "cell_type": "markdown",
   "metadata": {},
   "source": [
    "\n",
    "Debugging is very important when you develop algorithms. We typically use verbose output and the debugger built into the IDE (here VS Code) together.\n",
    "\n",
    "## Verbose Output\n",
    "\n",
    "Always add a verbose option to your algorithms by adding a boolean verbose parameter to the function call. It should print step by step information so you can verify what is going on.\n",
    "\n",
    "Example:"
   ]
  },
  {
   "cell_type": "code",
   "execution_count": 8,
   "metadata": {},
   "outputs": [],
   "source": [
    "def complicated_algorithm(max, verbose = False):\n",
    "    result = 0\n",
    "    for i in range(max):\n",
    "        result += i\n",
    "        if verbose:\n",
    "            print(f\"i={i}, result={result}\")\n",
    "    return result"
   ]
  },
  {
   "cell_type": "code",
   "execution_count": 9,
   "metadata": {},
   "outputs": [
    {
     "name": "stdout",
     "output_type": "stream",
     "text": [
      "i=0, result=0\n",
      "i=1, result=1\n",
      "i=2, result=3\n",
      "i=3, result=6\n",
      "i=4, result=10\n"
     ]
    },
    {
     "data": {
      "text/plain": [
       "10"
      ]
     },
     "execution_count": 9,
     "metadata": {},
     "output_type": "execute_result"
    }
   ],
   "source": [
    "complicated_algorithm(5, verbose=True)"
   ]
  },
  {
   "cell_type": "code",
   "execution_count": 10,
   "metadata": {},
   "outputs": [
    {
     "data": {
      "text/plain": [
       "4950"
      ]
     },
     "execution_count": 10,
     "metadata": {},
     "output_type": "execute_result"
    }
   ],
   "source": [
    "complicated_algorithm(100, verbose=False)"
   ]
  },
  {
   "cell_type": "markdown",
   "metadata": {},
   "source": [
    "\n",
    "## Debugger\n",
    "\n",
    "Debugging Jupyter Notebooks within VS Code allows for interactive inspection of code execution and variable states. The process involves setting breakpoints and utilizing the integrated debugging tools.\n",
    "\n",
    "Steps to debug a Jupyter Notebook in VS Code:\n",
    "1. Find the Cell that has the issues.\n",
    "2. Set Breakpoints: Click in the left margin (gutter) next to the line of code where you want the execution to pause. A red dot will appear, indicating a breakpoint. \n",
    "3. Initiate Debugging: Click the down arrow next to the Run symbol of the cell and select `Debug Cell`. If you call functions in a different cell then\n",
    "have to set the breakpoint there and debug the cell that calls the code. Make sure that you reload the code using the run symbol. \n",
    "4. The code will stop at the breakpoint and debug controls will appear. You can step through the code and see variable values.\n",
    "5. End debugging by clicking the stop button in the debug control panel and remove the break point by clicking on the red dot."
   ]
  }
 ],
 "metadata": {
  "kernelspec": {
   "display_name": ".venv",
   "language": "python",
   "name": "python3"
  },
  "language_info": {
   "codemirror_mode": {
    "name": "ipython",
    "version": 3
   },
   "file_extension": ".py",
   "mimetype": "text/x-python",
   "name": "python",
   "nbconvert_exporter": "python",
   "pygments_lexer": "ipython3",
   "version": "3.12.3"
  }
 },
 "nbformat": 4,
 "nbformat_minor": 4
}
