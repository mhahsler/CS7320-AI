{
 "cells": [
  {
   "cell_type": "markdown",
   "metadata": {},
   "source": [
    "# HOWTO: How the Environment Interacts With the Agent and How to Store State Information in the Agent\n",
    "by [Michael Hahsler](http://michael.hahsler.net)"
   ]
  },
  {
   "cell_type": "markdown",
   "metadata": {},
   "source": [
    "\n",
    "The agent in this example tries to move always to the next position if it receives the percept that the way is currently not blocked. The sent's possible actions are \"stay\" or \"advance\". The agent keeps track of its position using the internal state variable `position`. We use a class and member variables to store the state."
   ]
  },
  {
   "cell_type": "code",
   "execution_count": 18,
   "metadata": {},
   "outputs": [],
   "source": [
    "class Agent:\n",
    "    def __init__(self, initial_position = 0, name = \"An Agent\"):\n",
    "        self.position = initial_position # this is the state of the agent\n",
    "        self.name = name\n",
    "    \n",
    "    def act(self, percept_blocked):\n",
    "        print(\"    \", self.name, \": My percept_blocked is\", percept_blocked, \"and I am now in position\", self.position)\n",
    "    \n",
    "        if percept_blocked: \n",
    "            return(\"stay\")\n",
    "        \n",
    "        self.position = self.position + 1\n",
    "        \n",
    "        print(\"    \", self.name, \": I advance to position\", self.position)  \n",
    "        \n",
    "        return(\"advance\")"
   ]
  },
  {
   "cell_type": "markdown",
   "metadata": {},
   "source": [
    "The environment may have its own state which can be stored as a local variable in the environment function. __Note:__ The agent and the environment do not share any variables (each has its own position variable). Communication between the environment and the agent consists only of percepts and actions!"
   ]
  },
  {
   "cell_type": "code",
   "execution_count": 19,
   "metadata": {},
   "outputs": [],
   "source": [
    "import numpy as np\n",
    "\n",
    "def agent_environment(agent_act, n):   \n",
    "    \"\"\"prepares the environment and runs the agent program for n steps.\"\"\"\n",
    "    agent_position = 0 # this is the environment's state. The agent cannot see it\n",
    "    \n",
    "    for i in range(n): \n",
    "        print(\"Step\", i)\n",
    "        \n",
    "        # prepare precepts for the agent\n",
    "        blocked = np.random.choice([True, False], p = [0.5, 0.5])\n",
    "        print(\"  Environment: Agent's action is in position\", agent_position, \"and is blocked\", blocked)\n",
    "        \n",
    "        # call the agent program\n",
    "        action = agent_act(percept_blocked = blocked)\n",
    "        print(\"  Environment: Agent's action is\", action)\n",
    "        \n",
    "        # evaluate the effect of the action on the environment\n",
    "        if action == \"advance\" and not blocked:\n",
    "            agent_position = agent_position + 1\n",
    "            \n",
    "        print(\"  Environment: Agent is now in position\", agent_position)"
   ]
  },
  {
   "cell_type": "markdown",
   "metadata": {},
   "source": [
    "We can now create several agents and use them in the environment by passing on the method with the agent function. "
   ]
  },
  {
   "cell_type": "code",
   "execution_count": 20,
   "metadata": {},
   "outputs": [
    {
     "name": "stdout",
     "output_type": "stream",
     "text": [
      "Running Agent 1\n",
      "Step 0\n",
      "  Environment: Agent's action is in position 0 and is blocked True\n",
      "     Agent 1 : My percept_blocked is True and I am now in position 0\n",
      "  Environment: Agent's action is stay\n",
      "  Environment: Agent is now in position 0\n",
      "Step 1\n",
      "  Environment: Agent's action is in position 0 and is blocked False\n",
      "     Agent 1 : My percept_blocked is False and I am now in position 0\n",
      "     Agent 1 : I advance to position 1\n",
      "  Environment: Agent's action is advance\n",
      "  Environment: Agent is now in position 1\n",
      "Step 2\n",
      "  Environment: Agent's action is in position 1 and is blocked True\n",
      "     Agent 1 : My percept_blocked is True and I am now in position 1\n",
      "  Environment: Agent's action is stay\n",
      "  Environment: Agent is now in position 1\n",
      "Step 3\n",
      "  Environment: Agent's action is in position 1 and is blocked False\n",
      "     Agent 1 : My percept_blocked is False and I am now in position 1\n",
      "     Agent 1 : I advance to position 2\n",
      "  Environment: Agent's action is advance\n",
      "  Environment: Agent is now in position 2\n",
      "Step 4\n",
      "  Environment: Agent's action is in position 2 and is blocked True\n",
      "     Agent 1 : My percept_blocked is True and I am now in position 2\n",
      "  Environment: Agent's action is stay\n",
      "  Environment: Agent is now in position 2\n",
      "\n",
      "Running Agent 2\n",
      "Step 0\n",
      "  Environment: Agent's action is in position 0 and is blocked False\n",
      "     Agent 2 : My percept_blocked is False and I am now in position 0\n",
      "     Agent 2 : I advance to position 1\n",
      "  Environment: Agent's action is advance\n",
      "  Environment: Agent is now in position 1\n",
      "Step 1\n",
      "  Environment: Agent's action is in position 1 and is blocked False\n",
      "     Agent 2 : My percept_blocked is False and I am now in position 1\n",
      "     Agent 2 : I advance to position 2\n",
      "  Environment: Agent's action is advance\n",
      "  Environment: Agent is now in position 2\n",
      "\n",
      "Running Agent 1 again\n",
      "Step 0\n",
      "  Environment: Agent's action is in position 0 and is blocked True\n",
      "     Agent 1 : My percept_blocked is True and I am now in position 2\n",
      "  Environment: Agent's action is stay\n",
      "  Environment: Agent is now in position 0\n"
     ]
    }
   ],
   "source": [
    "agent1 = Agent(name = \"Agent 1\")\n",
    "agent2 = Agent(name = \"Agent 2\")\n",
    "\n",
    "print(\"Running Agent 1\")\n",
    "agent_environment(agent1.act, 5)\n",
    "\n",
    "print(\"\\nRunning Agent 2\")\n",
    "agent_environment(agent2.act, 2)\n",
    "\n",
    "print(\"\\nRunning Agent 1 again\")\n",
    "agent_environment(agent1.act, 1)"
   ]
  }
 ],
 "metadata": {
  "interpreter": {
   "hash": "916dbcbb3f70747c44a77c7bcd40155683ae19c65e1c03b4aa3499c5328201f1"
  },
  "kernelspec": {
   "display_name": "Python 3.10.4 64-bit",
   "language": "python",
   "name": "python3"
  },
  "language_info": {
   "codemirror_mode": {
    "name": "ipython",
    "version": 3
   },
   "file_extension": ".py",
   "mimetype": "text/x-python",
   "name": "python",
   "nbconvert_exporter": "python",
   "pygments_lexer": "ipython3",
   "version": "3.10.12"
  }
 },
 "nbformat": 4,
 "nbformat_minor": 4
}
