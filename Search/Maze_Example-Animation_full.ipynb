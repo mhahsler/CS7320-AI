{
 "cells": [
  {
   "cell_type": "markdown",
   "metadata": {},
   "source": [
    "# Visualizing Search Strategies: Maze\n",
    "\n",
    "__Notes:__\n",
    "\n",
    "* Breaking ties: \n",
    "    * The order in which the children are explored (see `available directions`) makes a big difference for DFS and dealing with empty spaces. I explore the directions in random order which makes the algorithm stochastic!\n",
    "    * Ties for $h(n)$ and $f(n)$ need to be broken in a consistent manner. I use the most recently added node. To try to keep moving into the same direction.\n",
    "* Cycles: Cycles are avoided using the reached data structure. For DFS, we can use the reached structure for checking or, without a reached structure implement cycle checking with only parents. \n",
    "* Depth-limited search needs ideas from best-first search to work with open spaces!\n",
    "\n"
   ]
  },
  {
   "cell_type": "code",
   "execution_count": 1,
   "metadata": {},
   "outputs": [
    {
     "name": "stdout",
     "output_type": "stream",
     "text": [
      "Helper functions for the Maze Assignment by M. Hahsler\n",
      "Usage: \n",
      "  import maze_helper as mh\n",
      "  mh.show_some_mazes()\n",
      "  \n",
      "Here is an example maze:\n",
      "\n",
      "XXXXXXXXXXXXXXXXXXXXXX\n",
      "X XX        X X      X\n",
      "X    XXXXXX X XXXXXX X\n",
      "XXXXXX     S  X      X\n",
      "X    X XXXXXX XX XXXXX\n",
      "X XXXX X         X   X\n",
      "X        XXX XXX   X X\n",
      "XXXXXXXXXX    XXXXXX X\n",
      "XG         XX        X\n",
      "XXXXXXXXXXXXXXXXXXXXXX\n",
      "\n",
      "The goal is at (np.int64(8), np.int64(1)).\n",
      "Position(0,0): X\n",
      "Position(8,1):  \n"
     ]
    },
    {
     "data": {
      "image/png": "[encoded data removed]",
      "text/plain": [
       "<Figure size 640x480 with 1 Axes>"
      ]
     },
     "metadata": {
      "image/png": {
       "height": 352,
       "width": 543
      }
     },
     "output_type": "display_data"
    }
   ],
   "source": [
    "%run maze_helper.py\n",
    "%matplotlib inline\n",
    "%config InlineBackend.figure_format = 'retina'\n",
    "\n",
    "import numpy as np\n",
    "\n",
    "#f = open(\"small_maze.txt\", \"r\")\n",
    "#f = open(\"medium_maze.txt\", \"r\")\n",
    "#f = open(\"large_maze.txt\", \"r\")    # this has only one solution!\n",
    "f = open(\"open_maze.txt\", \"r\")\n",
    "#f = open(\"empty_maze.txt\", \"r\")\n",
    "#f = open(\"empty_2_maze.txt\", \"r\")\n",
    "#f = open(\"wall_maze.txt\", \"r\")\n",
    "#f = open(\"loops_maze.txt\", \"r\")\n",
    "#f = open(\"L_maze.txt\", \"r\")\n",
    "\n",
    "maze_str = f.read()\n",
    "maze = parse_maze(maze_str)\n",
    "\n",
    "# look at two positions in the maze\n",
    "print(\"Position(0,0):\", maze[0, 0])\n",
    "print(\"Position(8,1):\", maze[8, 1])\n",
    "\n",
    "show_maze(maze)"
   ]
  },
  {
   "cell_type": "code",
   "execution_count": 2,
   "metadata": {},
   "outputs": [],
   "source": [
    "import numpy as np\n",
    "from matplotlib import colors\n",
    "from matplotlib import animation, rc\n",
    "from IPython.display import HTML\n",
    "rc('animation', html='html5')\n",
    "\n",
    "# numpy comparison warnings\n",
    "import warnings\n",
    "warnings.simplefilter(action='ignore', category=FutureWarning)\n",
    "\n",
    "def maze_to_matrix(maze):  \n",
    "    \"\"\"convert a maze a numeric numpy array for visualization via imshow.\"\"\"\n",
    "\n",
    "    # make a deep copy first so the original maze is not changed\n",
    "    maze = np.copy(maze)\n",
    "    \n",
    "    # Converts all tile types to integers\n",
    "    maze[maze == ' '] = 0\n",
    "    maze[maze == 'X'] = 1 # wall\n",
    "    maze[maze == 'S'] = 2 # start\n",
    "    maze[maze == 'G'] = 3 # goal\n",
    "    maze[maze == 'P'] = 4 # position/final path\n",
    "    maze[maze == '.'] = 5 # explored squares\n",
    "    maze[maze == 'F'] = 6 # frontier\n",
    "    maze = maze.astype(int)\n",
    "    \n",
    "    return(maze)\n",
    "    \n",
    " \n",
    "# Given a list of mazes, will return an animation of the search\n",
    "# Based on show_maze but modified to generate animation\n",
    "# Sadly I can not embed the animations in the PDF I have to submit :(\n",
    "def animate_maze(result, repeat = False):\n",
    "        \"\"\"Build an animation from a list of mazes.\"\"\"\n",
    "        \n",
    "        if result['path'] != None:       \n",
    "            print(f\"Path length: {len(result['path'])-1}\")\n",
    "            print(f\"Reached squares: {len(result['reached'])}\")\n",
    "            print(f\"Action sequence: {result['actions']}\")\n",
    "        else:\n",
    "            print(\"No solution found.\")\n",
    "        \n",
    "        \n",
    "        mazes = result['maze_anim']\n",
    "        \n",
    "        cmap = colors.ListedColormap(['white', 'black', 'blue', 'green', 'red', 'gray', 'orange'])\n",
    " \n",
    "        goal = find_pos(mazes[0], 'G')\n",
    "        start = find_pos(mazes[0], 'S')\n",
    " \n",
    "        mazes = [maze_to_matrix(m) for m in mazes]\n",
    "\n",
    "        fig, ax = plt.subplots()\n",
    "        im = ax.imshow(maze_to_matrix(mazes[0]), cmap = cmap, norm = colors.BoundaryNorm(list(range(cmap.N + 1)), cmap.N))\n",
    " \n",
    "        plt.text(start[1], start[0], \"S\", fontsize = 10, color = \"white\",\n",
    "                horizontalalignment = 'center',\n",
    "                verticalalignment = 'center')\n",
    " \n",
    "        plt.text(goal[1], goal[0], \"G\", fontsize = 10, color = \"white\",\n",
    "                horizontalalignment = 'center',\n",
    "                verticalalignment = 'center')\n",
    "\n",
    "        def step(i):  \n",
    "                im.set_array(maze_to_matrix(mazes[i]))\n",
    "                return([im])\n",
    " \n",
    "        ani = animation.FuncAnimation(\n",
    "            fig, \n",
    "            step, \n",
    "            frames = len(mazes),\n",
    "            repeat = repeat\n",
    "        )\n",
    " \n",
    "        plt.close()\n",
    "\n",
    "        return ani\n"
   ]
  },
  {
   "cell_type": "markdown",
   "metadata": {},
   "source": [
    "## Implementation"
   ]
  },
  {
   "cell_type": "code",
   "execution_count": 3,
   "metadata": {},
   "outputs": [
    {
     "name": "stdout",
     "output_type": "stream",
     "text": [
      "Directions are checked in the order ['N', 'E', 'S', 'W']\n"
     ]
    }
   ],
   "source": [
    "# tree_search.py has my actual implementation\n",
    "from tree_search_solution import *\n",
    "import tree_search_solution as tree_search"
   ]
  },
  {
   "cell_type": "markdown",
   "metadata": {},
   "source": [
    "### Heuristics\n",
    "\n",
    "Heuristics $h(n)$"
   ]
  },
  {
   "cell_type": "code",
   "execution_count": 4,
   "metadata": {},
   "outputs": [
    {
     "name": "stdout",
     "output_type": "stream",
     "text": [
      "2\n"
     ]
    }
   ],
   "source": [
    "def manhattan(pos1, pos2):\n",
    "    \"\"\"returns the Manhattan distance between two positions\"\"\"\n",
    "    return(np.sum(np.abs(np.subtract(pos1, pos2))))\n",
    "    \n",
    "print(manhattan((0,0), (1,1)))"
   ]
  },
  {
   "cell_type": "code",
   "execution_count": 5,
   "metadata": {},
   "outputs": [
    {
     "name": "stdout",
     "output_type": "stream",
     "text": [
      "1.4142135623730951\n"
     ]
    }
   ],
   "source": [
    "def euclidean(pos1, pos2):\n",
    "    \"\"\"returns the Euclidean distance between two positions\"\"\"\n",
    "    return(np.sqrt(np.sum(np.square(np.subtract(pos1, pos2)))))\n",
    "\n",
    "print(euclidean([0,0], [1,1]))"
   ]
  },
  {
   "cell_type": "code",
   "execution_count": 6,
   "metadata": {},
   "outputs": [],
   "source": [
    "tree_search.heuristic = manhattan\n",
    "#tree_search.heuristic = euclidean"
   ]
  },
  {
   "cell_type": "markdown",
   "metadata": {},
   "source": [
    "## Experiments"
   ]
  },
  {
   "cell_type": "markdown",
   "metadata": {},
   "source": [
    "### BFS\n",
    "\n",
    "I use a best-first search implementation with FIFO frontier."
   ]
  },
  {
   "cell_type": "code",
   "execution_count": 7,
   "metadata": {
    "tags": []
   },
   "outputs": [
    {
     "name": "stdout",
     "output_type": "stream",
     "text": [
      "Directions are checked in the order ['N', 'E', 'S', 'W']\n"
     ]
    },
    {
     "name": "stdout",
     "output_type": "stream",
     "text": [
      "CPU times: user 109 ms, sys: 17 ms, total: 126 ms\n",
      "Wall time: 112 ms\n",
      "Path length: 54\n",
      "Reached squares: 682\n",
      "Action sequence: ['S', 'S', 'S', 'S', 'S', 'W', 'W', 'W', 'W', 'W', 'W', 'W', 'W', 'W', 'W', 'W', 'W', 'W', 'W', 'W', 'W', 'S', 'S', 'S', 'S', 'S', 'S', 'S', 'S', 'S', 'S', 'S', 'S', 'S', 'S', 'S', 'W', 'W', 'W', 'W', 'W', 'W', 'W', 'W', 'W', 'W', 'W', 'W', 'W', 'W', 'W', 'W', 'W', 'W']\n"
     ]
    },
    {
     "ename": "RuntimeError",
     "evalue": "Requested MovieWriter (ffmpeg) not available",
     "output_type": "error",
     "traceback": [
      "\u001b[31m---------------------------------------------------------------------------\u001b[39m",
      "\u001b[31mRuntimeError\u001b[39m                              Traceback (most recent call last)",
      "\u001b[36mFile \u001b[39m\u001b[32m~/github/CS7320-AI/.venv/lib/python3.12/site-packages/IPython/core/formatters.py:406\u001b[39m, in \u001b[36mBaseFormatter.__call__\u001b[39m\u001b[34m(self, obj)\u001b[39m\n\u001b[32m    404\u001b[39m     method = get_real_method(obj, \u001b[38;5;28mself\u001b[39m.print_method)\n\u001b[32m    405\u001b[39m     \u001b[38;5;28;01mif\u001b[39;00m method \u001b[38;5;129;01mis\u001b[39;00m \u001b[38;5;129;01mnot\u001b[39;00m \u001b[38;5;28;01mNone\u001b[39;00m:\n\u001b[32m--> \u001b[39m\u001b[32m406\u001b[39m         \u001b[38;5;28;01mreturn\u001b[39;00m \u001b[43mmethod\u001b[49m\u001b[43m(\u001b[49m\u001b[43m)\u001b[49m\n\u001b[32m    407\u001b[39m     \u001b[38;5;28;01mreturn\u001b[39;00m \u001b[38;5;28;01mNone\u001b[39;00m\n\u001b[32m    408\u001b[39m \u001b[38;5;28;01melse\u001b[39;00m:\n",
      "\u001b[36mFile \u001b[39m\u001b[32m~/github/CS7320-AI/.venv/lib/python3.12/site-packages/matplotlib/animation.py:1385\u001b[39m, in \u001b[36mAnimation._repr_html_\u001b[39m\u001b[34m(self)\u001b[39m\n\u001b[32m   1383\u001b[39m fmt = mpl.rcParams[\u001b[33m'\u001b[39m\u001b[33manimation.html\u001b[39m\u001b[33m'\u001b[39m]\n\u001b[32m   1384\u001b[39m \u001b[38;5;28;01mif\u001b[39;00m fmt == \u001b[33m'\u001b[39m\u001b[33mhtml5\u001b[39m\u001b[33m'\u001b[39m:\n\u001b[32m-> \u001b[39m\u001b[32m1385\u001b[39m     \u001b[38;5;28;01mreturn\u001b[39;00m \u001b[38;5;28;43mself\u001b[39;49m\u001b[43m.\u001b[49m\u001b[43mto_html5_video\u001b[49m\u001b[43m(\u001b[49m\u001b[43m)\u001b[49m\n\u001b[32m   1386\u001b[39m \u001b[38;5;28;01melif\u001b[39;00m fmt == \u001b[33m'\u001b[39m\u001b[33mjshtml\u001b[39m\u001b[33m'\u001b[39m:\n\u001b[32m   1387\u001b[39m     \u001b[38;5;28;01mreturn\u001b[39;00m \u001b[38;5;28mself\u001b[39m.to_jshtml()\n",
      "\u001b[36mFile \u001b[39m\u001b[32m~/github/CS7320-AI/.venv/lib/python3.12/site-packages/matplotlib/animation.py:1302\u001b[39m, in \u001b[36mAnimation.to_html5_video\u001b[39m\u001b[34m(self, embed_limit)\u001b[39m\n\u001b[32m   1299\u001b[39m path = Path(tmpdir, \u001b[33m\"\u001b[39m\u001b[33mtemp.m4v\u001b[39m\u001b[33m\"\u001b[39m)\n\u001b[32m   1300\u001b[39m \u001b[38;5;66;03m# We create a writer manually so that we can get the\u001b[39;00m\n\u001b[32m   1301\u001b[39m \u001b[38;5;66;03m# appropriate size for the tag\u001b[39;00m\n\u001b[32m-> \u001b[39m\u001b[32m1302\u001b[39m Writer = \u001b[43mwriters\u001b[49m\u001b[43m[\u001b[49m\u001b[43mmpl\u001b[49m\u001b[43m.\u001b[49m\u001b[43mrcParams\u001b[49m\u001b[43m[\u001b[49m\u001b[33;43m'\u001b[39;49m\u001b[33;43manimation.writer\u001b[39;49m\u001b[33;43m'\u001b[39;49m\u001b[43m]\u001b[49m\u001b[43m]\u001b[49m\n\u001b[32m   1303\u001b[39m writer = Writer(codec=\u001b[33m'\u001b[39m\u001b[33mh264\u001b[39m\u001b[33m'\u001b[39m,\n\u001b[32m   1304\u001b[39m                 bitrate=mpl.rcParams[\u001b[33m'\u001b[39m\u001b[33manimation.bitrate\u001b[39m\u001b[33m'\u001b[39m],\n\u001b[32m   1305\u001b[39m                 fps=\u001b[32m1000.\u001b[39m / \u001b[38;5;28mself\u001b[39m._interval)\n\u001b[32m   1306\u001b[39m \u001b[38;5;28mself\u001b[39m.save(\u001b[38;5;28mstr\u001b[39m(path), writer=writer)\n",
      "\u001b[36mFile \u001b[39m\u001b[32m~/github/CS7320-AI/.venv/lib/python3.12/site-packages/matplotlib/animation.py:121\u001b[39m, in \u001b[36mMovieWriterRegistry.__getitem__\u001b[39m\u001b[34m(self, name)\u001b[39m\n\u001b[32m    119\u001b[39m \u001b[38;5;28;01mif\u001b[39;00m \u001b[38;5;28mself\u001b[39m.is_available(name):\n\u001b[32m    120\u001b[39m     \u001b[38;5;28;01mreturn\u001b[39;00m \u001b[38;5;28mself\u001b[39m._registered[name]\n\u001b[32m--> \u001b[39m\u001b[32m121\u001b[39m \u001b[38;5;28;01mraise\u001b[39;00m \u001b[38;5;167;01mRuntimeError\u001b[39;00m(\u001b[33mf\u001b[39m\u001b[33m\"\u001b[39m\u001b[33mRequested MovieWriter (\u001b[39m\u001b[38;5;132;01m{\u001b[39;00mname\u001b[38;5;132;01m}\u001b[39;00m\u001b[33m) not available\u001b[39m\u001b[33m\"\u001b[39m)\n",
      "\u001b[31mRuntimeError\u001b[39m: Requested MovieWriter (ffmpeg) not available"
     ]
    },
    {
     "data": {
      "text/plain": [
       "<matplotlib.animation.FuncAnimation at 0x75d67412c950>"
      ]
     },
     "execution_count": 7,
     "metadata": {},
     "output_type": "execute_result"
    }
   ],
   "source": [
    "tree_search.set_order(\"NESW\")\n",
    "#tree_search.set_order(random=True)\n",
    "%time result = best_first_search(maze, strategy = \"BFS\", debug = False, vis = False, animation = True)\n",
    "\n",
    "animate_maze(result)"
   ]
  },
  {
   "cell_type": "code",
   "execution_count": 8,
   "metadata": {},
   "outputs": [
    {
     "name": "stdout",
     "output_type": "stream",
     "text": [
      "Directions are checked at every step in random order.\n",
      "CPU times: user 126 ms, sys: 804 μs, total: 127 ms\n",
      "Wall time: 121 ms\n",
      "Path length: 54\n",
      "Reached squares: 683\n",
      "Action sequence: ['S', 'S', 'W', 'S', 'S', 'S', 'W', 'W', 'W', 'W', 'W', 'W', 'W', 'W', 'W', 'W', 'W', 'W', 'W', 'W', 'W', 'W', 'S', 'W', 'S', 'S', 'W', 'W', 'W', 'S', 'S', 'S', 'S', 'S', 'S', 'S', 'S', 'S', 'W', 'W', 'S', 'W', 'S', 'S', 'W', 'W', 'W', 'W', 'W', 'W', 'W', 'W', 'W', 'W']\n"
     ]
    },
    {
     "ename": "RuntimeError",
     "evalue": "Requested MovieWriter (ffmpeg) not available",
     "output_type": "error",
     "traceback": [
      "\u001b[31m---------------------------------------------------------------------------\u001b[39m",
      "\u001b[31mRuntimeError\u001b[39m                              Traceback (most recent call last)",
      "\u001b[36mFile \u001b[39m\u001b[32m~/github/CS7320-AI/.venv/lib/python3.12/site-packages/IPython/core/formatters.py:406\u001b[39m, in \u001b[36mBaseFormatter.__call__\u001b[39m\u001b[34m(self, obj)\u001b[39m\n\u001b[32m    404\u001b[39m     method = get_real_method(obj, \u001b[38;5;28mself\u001b[39m.print_method)\n\u001b[32m    405\u001b[39m     \u001b[38;5;28;01mif\u001b[39;00m method \u001b[38;5;129;01mis\u001b[39;00m \u001b[38;5;129;01mnot\u001b[39;00m \u001b[38;5;28;01mNone\u001b[39;00m:\n\u001b[32m--> \u001b[39m\u001b[32m406\u001b[39m         \u001b[38;5;28;01mreturn\u001b[39;00m \u001b[43mmethod\u001b[49m\u001b[43m(\u001b[49m\u001b[43m)\u001b[49m\n\u001b[32m    407\u001b[39m     \u001b[38;5;28;01mreturn\u001b[39;00m \u001b[38;5;28;01mNone\u001b[39;00m\n\u001b[32m    408\u001b[39m \u001b[38;5;28;01melse\u001b[39;00m:\n",
      "\u001b[36mFile \u001b[39m\u001b[32m~/github/CS7320-AI/.venv/lib/python3.12/site-packages/matplotlib/animation.py:1385\u001b[39m, in \u001b[36mAnimation._repr_html_\u001b[39m\u001b[34m(self)\u001b[39m\n\u001b[32m   1383\u001b[39m fmt = mpl.rcParams[\u001b[33m'\u001b[39m\u001b[33manimation.html\u001b[39m\u001b[33m'\u001b[39m]\n\u001b[32m   1384\u001b[39m \u001b[38;5;28;01mif\u001b[39;00m fmt == \u001b[33m'\u001b[39m\u001b[33mhtml5\u001b[39m\u001b[33m'\u001b[39m:\n\u001b[32m-> \u001b[39m\u001b[32m1385\u001b[39m     \u001b[38;5;28;01mreturn\u001b[39;00m \u001b[38;5;28;43mself\u001b[39;49m\u001b[43m.\u001b[49m\u001b[43mto_html5_video\u001b[49m\u001b[43m(\u001b[49m\u001b[43m)\u001b[49m\n\u001b[32m   1386\u001b[39m \u001b[38;5;28;01melif\u001b[39;00m fmt == \u001b[33m'\u001b[39m\u001b[33mjshtml\u001b[39m\u001b[33m'\u001b[39m:\n\u001b[32m   1387\u001b[39m     \u001b[38;5;28;01mreturn\u001b[39;00m \u001b[38;5;28mself\u001b[39m.to_jshtml()\n",
      "\u001b[36mFile \u001b[39m\u001b[32m~/github/CS7320-AI/.venv/lib/python3.12/site-packages/matplotlib/animation.py:1302\u001b[39m, in \u001b[36mAnimation.to_html5_video\u001b[39m\u001b[34m(self, embed_limit)\u001b[39m\n\u001b[32m   1299\u001b[39m path = Path(tmpdir, \u001b[33m\"\u001b[39m\u001b[33mtemp.m4v\u001b[39m\u001b[33m\"\u001b[39m)\n\u001b[32m   1300\u001b[39m \u001b[38;5;66;03m# We create a writer manually so that we can get the\u001b[39;00m\n\u001b[32m   1301\u001b[39m \u001b[38;5;66;03m# appropriate size for the tag\u001b[39;00m\n\u001b[32m-> \u001b[39m\u001b[32m1302\u001b[39m Writer = \u001b[43mwriters\u001b[49m\u001b[43m[\u001b[49m\u001b[43mmpl\u001b[49m\u001b[43m.\u001b[49m\u001b[43mrcParams\u001b[49m\u001b[43m[\u001b[49m\u001b[33;43m'\u001b[39;49m\u001b[33;43manimation.writer\u001b[39;49m\u001b[33;43m'\u001b[39;49m\u001b[43m]\u001b[49m\u001b[43m]\u001b[49m\n\u001b[32m   1303\u001b[39m writer = Writer(codec=\u001b[33m'\u001b[39m\u001b[33mh264\u001b[39m\u001b[33m'\u001b[39m,\n\u001b[32m   1304\u001b[39m                 bitrate=mpl.rcParams[\u001b[33m'\u001b[39m\u001b[33manimation.bitrate\u001b[39m\u001b[33m'\u001b[39m],\n\u001b[32m   1305\u001b[39m                 fps=\u001b[32m1000.\u001b[39m / \u001b[38;5;28mself\u001b[39m._interval)\n\u001b[32m   1306\u001b[39m \u001b[38;5;28mself\u001b[39m.save(\u001b[38;5;28mstr\u001b[39m(path), writer=writer)\n",
      "\u001b[36mFile \u001b[39m\u001b[32m~/github/CS7320-AI/.venv/lib/python3.12/site-packages/matplotlib/animation.py:121\u001b[39m, in \u001b[36mMovieWriterRegistry.__getitem__\u001b[39m\u001b[34m(self, name)\u001b[39m\n\u001b[32m    119\u001b[39m \u001b[38;5;28;01mif\u001b[39;00m \u001b[38;5;28mself\u001b[39m.is_available(name):\n\u001b[32m    120\u001b[39m     \u001b[38;5;28;01mreturn\u001b[39;00m \u001b[38;5;28mself\u001b[39m._registered[name]\n\u001b[32m--> \u001b[39m\u001b[32m121\u001b[39m \u001b[38;5;28;01mraise\u001b[39;00m \u001b[38;5;167;01mRuntimeError\u001b[39;00m(\u001b[33mf\u001b[39m\u001b[33m\"\u001b[39m\u001b[33mRequested MovieWriter (\u001b[39m\u001b[38;5;132;01m{\u001b[39;00mname\u001b[38;5;132;01m}\u001b[39;00m\u001b[33m) not available\u001b[39m\u001b[33m\"\u001b[39m)\n",
      "\u001b[31mRuntimeError\u001b[39m: Requested MovieWriter (ffmpeg) not available"
     ]
    },
    {
     "data": {
      "text/plain": [
       "<matplotlib.animation.FuncAnimation at 0x75d6740e7fe0>"
      ]
     },
     "execution_count": 8,
     "metadata": {},
     "output_type": "execute_result"
    }
   ],
   "source": [
    "#tree_search.set_order(\"NESW\")\n",
    "tree_search.set_order(random=True)\n",
    "%time result = best_first_search(maze, strategy = \"BFS\", debug = False, vis = False, animation = True)\n",
    "\n",
    "animate_maze(result)"
   ]
  },
  {
   "cell_type": "markdown",
   "metadata": {},
   "source": [
    "The order in which we add to the frontier in the expand function makes no difference for BFS."
   ]
  },
  {
   "cell_type": "markdown",
   "metadata": {},
   "source": [
    "### DFS with no reached data structure\n",
    "\n",
    "This has space complexity $O(bm)$ instead of $O(b^m)$ when we reuse the tree search algorithm from BFS!\n",
    "\n",
    "Since we cannot check all cycles, we still may get infinite loops. Here are possible solutions:\n",
    "* Stop after a fixed number of tries and return no solution `max_tries`.\n",
    "* IDS solves this problem."
   ]
  },
  {
   "cell_type": "code",
   "execution_count": 9,
   "metadata": {},
   "outputs": [
    {
     "name": "stdout",
     "output_type": "stream",
     "text": [
      "Directions are checked in the order ['N', 'E', 'S', 'W']\n",
      "CPU times: user 25.6 ms, sys: 17.9 ms, total: 43.5 ms\n",
      "Wall time: 37.3 ms\n",
      "Path length: 54\n",
      "Reached squares: 275\n",
      "Action sequence: ['W', 'W', 'W', 'W', 'W', 'W', 'W', 'W', 'W', 'W', 'W', 'W', 'W', 'W', 'W', 'W', 'W', 'W', 'W', 'W', 'W', 'S', 'S', 'S', 'S', 'S', 'S', 'S', 'S', 'S', 'S', 'S', 'S', 'S', 'S', 'S', 'S', 'S', 'W', 'W', 'W', 'W', 'W', 'W', 'W', 'W', 'W', 'W', 'W', 'W', 'W', 'S', 'S', 'S']\n"
     ]
    },
    {
     "ename": "RuntimeError",
     "evalue": "Requested MovieWriter (ffmpeg) not available",
     "output_type": "error",
     "traceback": [
      "\u001b[31m---------------------------------------------------------------------------\u001b[39m",
      "\u001b[31mRuntimeError\u001b[39m                              Traceback (most recent call last)",
      "\u001b[36mFile \u001b[39m\u001b[32m~/github/CS7320-AI/.venv/lib/python3.12/site-packages/IPython/core/formatters.py:406\u001b[39m, in \u001b[36mBaseFormatter.__call__\u001b[39m\u001b[34m(self, obj)\u001b[39m\n\u001b[32m    404\u001b[39m     method = get_real_method(obj, \u001b[38;5;28mself\u001b[39m.print_method)\n\u001b[32m    405\u001b[39m     \u001b[38;5;28;01mif\u001b[39;00m method \u001b[38;5;129;01mis\u001b[39;00m \u001b[38;5;129;01mnot\u001b[39;00m \u001b[38;5;28;01mNone\u001b[39;00m:\n\u001b[32m--> \u001b[39m\u001b[32m406\u001b[39m         \u001b[38;5;28;01mreturn\u001b[39;00m \u001b[43mmethod\u001b[49m\u001b[43m(\u001b[49m\u001b[43m)\u001b[49m\n\u001b[32m    407\u001b[39m     \u001b[38;5;28;01mreturn\u001b[39;00m \u001b[38;5;28;01mNone\u001b[39;00m\n\u001b[32m    408\u001b[39m \u001b[38;5;28;01melse\u001b[39;00m:\n",
      "\u001b[36mFile \u001b[39m\u001b[32m~/github/CS7320-AI/.venv/lib/python3.12/site-packages/matplotlib/animation.py:1385\u001b[39m, in \u001b[36mAnimation._repr_html_\u001b[39m\u001b[34m(self)\u001b[39m\n\u001b[32m   1383\u001b[39m fmt = mpl.rcParams[\u001b[33m'\u001b[39m\u001b[33manimation.html\u001b[39m\u001b[33m'\u001b[39m]\n\u001b[32m   1384\u001b[39m \u001b[38;5;28;01mif\u001b[39;00m fmt == \u001b[33m'\u001b[39m\u001b[33mhtml5\u001b[39m\u001b[33m'\u001b[39m:\n\u001b[32m-> \u001b[39m\u001b[32m1385\u001b[39m     \u001b[38;5;28;01mreturn\u001b[39;00m \u001b[38;5;28;43mself\u001b[39;49m\u001b[43m.\u001b[49m\u001b[43mto_html5_video\u001b[49m\u001b[43m(\u001b[49m\u001b[43m)\u001b[49m\n\u001b[32m   1386\u001b[39m \u001b[38;5;28;01melif\u001b[39;00m fmt == \u001b[33m'\u001b[39m\u001b[33mjshtml\u001b[39m\u001b[33m'\u001b[39m:\n\u001b[32m   1387\u001b[39m     \u001b[38;5;28;01mreturn\u001b[39;00m \u001b[38;5;28mself\u001b[39m.to_jshtml()\n",
      "\u001b[36mFile \u001b[39m\u001b[32m~/github/CS7320-AI/.venv/lib/python3.12/site-packages/matplotlib/animation.py:1302\u001b[39m, in \u001b[36mAnimation.to_html5_video\u001b[39m\u001b[34m(self, embed_limit)\u001b[39m\n\u001b[32m   1299\u001b[39m path = Path(tmpdir, \u001b[33m\"\u001b[39m\u001b[33mtemp.m4v\u001b[39m\u001b[33m\"\u001b[39m)\n\u001b[32m   1300\u001b[39m \u001b[38;5;66;03m# We create a writer manually so that we can get the\u001b[39;00m\n\u001b[32m   1301\u001b[39m \u001b[38;5;66;03m# appropriate size for the tag\u001b[39;00m\n\u001b[32m-> \u001b[39m\u001b[32m1302\u001b[39m Writer = \u001b[43mwriters\u001b[49m\u001b[43m[\u001b[49m\u001b[43mmpl\u001b[49m\u001b[43m.\u001b[49m\u001b[43mrcParams\u001b[49m\u001b[43m[\u001b[49m\u001b[33;43m'\u001b[39;49m\u001b[33;43manimation.writer\u001b[39;49m\u001b[33;43m'\u001b[39;49m\u001b[43m]\u001b[49m\u001b[43m]\u001b[49m\n\u001b[32m   1303\u001b[39m writer = Writer(codec=\u001b[33m'\u001b[39m\u001b[33mh264\u001b[39m\u001b[33m'\u001b[39m,\n\u001b[32m   1304\u001b[39m                 bitrate=mpl.rcParams[\u001b[33m'\u001b[39m\u001b[33manimation.bitrate\u001b[39m\u001b[33m'\u001b[39m],\n\u001b[32m   1305\u001b[39m                 fps=\u001b[32m1000.\u001b[39m / \u001b[38;5;28mself\u001b[39m._interval)\n\u001b[32m   1306\u001b[39m \u001b[38;5;28mself\u001b[39m.save(\u001b[38;5;28mstr\u001b[39m(path), writer=writer)\n",
      "\u001b[36mFile \u001b[39m\u001b[32m~/github/CS7320-AI/.venv/lib/python3.12/site-packages/matplotlib/animation.py:121\u001b[39m, in \u001b[36mMovieWriterRegistry.__getitem__\u001b[39m\u001b[34m(self, name)\u001b[39m\n\u001b[32m    119\u001b[39m \u001b[38;5;28;01mif\u001b[39;00m \u001b[38;5;28mself\u001b[39m.is_available(name):\n\u001b[32m    120\u001b[39m     \u001b[38;5;28;01mreturn\u001b[39;00m \u001b[38;5;28mself\u001b[39m._registered[name]\n\u001b[32m--> \u001b[39m\u001b[32m121\u001b[39m \u001b[38;5;28;01mraise\u001b[39;00m \u001b[38;5;167;01mRuntimeError\u001b[39;00m(\u001b[33mf\u001b[39m\u001b[33m\"\u001b[39m\u001b[33mRequested MovieWriter (\u001b[39m\u001b[38;5;132;01m{\u001b[39;00mname\u001b[38;5;132;01m}\u001b[39;00m\u001b[33m) not available\u001b[39m\u001b[33m\"\u001b[39m)\n",
      "\u001b[31mRuntimeError\u001b[39m: Requested MovieWriter (ffmpeg) not available"
     ]
    },
    {
     "data": {
      "text/plain": [
       "<matplotlib.animation.FuncAnimation at 0x75d6765131a0>"
      ]
     },
     "execution_count": 9,
     "metadata": {},
     "output_type": "execute_result"
    }
   ],
   "source": [
    "# Note: DFS uses LIFO so the directions come from the stack in reverse order!\n",
    "\n",
    "# Can get stuck for empty maze since cycle checking is not strong enough! \n",
    "# I use a maximum number of tries and stop if the goal is not reached.\n",
    "tree_search.set_order(\"NESW\")\n",
    "#tree_search.set_order(\"SENW\")\n",
    "#tree_search.set_order(\"WSEN\")\n",
    "#tree_search.set_order(random=True)\n",
    "\n",
    "%time result = DFS(maze, vis = False, max_tries = 100000, debug_reached = True, animation = True)\n",
    "\n",
    "animate_maze(result)"
   ]
  },
  {
   "cell_type": "code",
   "execution_count": 10,
   "metadata": {},
   "outputs": [
    {
     "name": "stdout",
     "output_type": "stream",
     "text": [
      "Directions are checked in the order ['E', 'N', 'W', 'S']\n",
      "CPU times: user 6.35 ms, sys: 220 μs, total: 6.57 ms\n",
      "Wall time: 5.2 ms\n",
      "Path length: 68\n",
      "Reached squares: 140\n",
      "Action sequence: ['S', 'S', 'S', 'S', 'S', 'S', 'S', 'S', 'S', 'S', 'S', 'S', 'W', 'W', 'W', 'W', 'W', 'W', 'W', 'W', 'W', 'W', 'W', 'W', 'W', 'W', 'N', 'N', 'N', 'N', 'N', 'N', 'N', 'W', 'W', 'S', 'S', 'S', 'S', 'S', 'S', 'S', 'S', 'S', 'S', 'S', 'S', 'S', 'S', 'S', 'W', 'W', 'W', 'W', 'W', 'W', 'W', 'W', 'W', 'W', 'W', 'W', 'W', 'W', 'W', 'W', 'W', 'W']\n"
     ]
    },
    {
     "ename": "RuntimeError",
     "evalue": "Requested MovieWriter (ffmpeg) not available",
     "output_type": "error",
     "traceback": [
      "\u001b[31m---------------------------------------------------------------------------\u001b[39m",
      "\u001b[31mRuntimeError\u001b[39m                              Traceback (most recent call last)",
      "\u001b[36mFile \u001b[39m\u001b[32m~/github/CS7320-AI/.venv/lib/python3.12/site-packages/IPython/core/formatters.py:406\u001b[39m, in \u001b[36mBaseFormatter.__call__\u001b[39m\u001b[34m(self, obj)\u001b[39m\n\u001b[32m    404\u001b[39m     method = get_real_method(obj, \u001b[38;5;28mself\u001b[39m.print_method)\n\u001b[32m    405\u001b[39m     \u001b[38;5;28;01mif\u001b[39;00m method \u001b[38;5;129;01mis\u001b[39;00m \u001b[38;5;129;01mnot\u001b[39;00m \u001b[38;5;28;01mNone\u001b[39;00m:\n\u001b[32m--> \u001b[39m\u001b[32m406\u001b[39m         \u001b[38;5;28;01mreturn\u001b[39;00m \u001b[43mmethod\u001b[49m\u001b[43m(\u001b[49m\u001b[43m)\u001b[49m\n\u001b[32m    407\u001b[39m     \u001b[38;5;28;01mreturn\u001b[39;00m \u001b[38;5;28;01mNone\u001b[39;00m\n\u001b[32m    408\u001b[39m \u001b[38;5;28;01melse\u001b[39;00m:\n",
      "\u001b[36mFile \u001b[39m\u001b[32m~/github/CS7320-AI/.venv/lib/python3.12/site-packages/matplotlib/animation.py:1385\u001b[39m, in \u001b[36mAnimation._repr_html_\u001b[39m\u001b[34m(self)\u001b[39m\n\u001b[32m   1383\u001b[39m fmt = mpl.rcParams[\u001b[33m'\u001b[39m\u001b[33manimation.html\u001b[39m\u001b[33m'\u001b[39m]\n\u001b[32m   1384\u001b[39m \u001b[38;5;28;01mif\u001b[39;00m fmt == \u001b[33m'\u001b[39m\u001b[33mhtml5\u001b[39m\u001b[33m'\u001b[39m:\n\u001b[32m-> \u001b[39m\u001b[32m1385\u001b[39m     \u001b[38;5;28;01mreturn\u001b[39;00m \u001b[38;5;28;43mself\u001b[39;49m\u001b[43m.\u001b[49m\u001b[43mto_html5_video\u001b[49m\u001b[43m(\u001b[49m\u001b[43m)\u001b[49m\n\u001b[32m   1386\u001b[39m \u001b[38;5;28;01melif\u001b[39;00m fmt == \u001b[33m'\u001b[39m\u001b[33mjshtml\u001b[39m\u001b[33m'\u001b[39m:\n\u001b[32m   1387\u001b[39m     \u001b[38;5;28;01mreturn\u001b[39;00m \u001b[38;5;28mself\u001b[39m.to_jshtml()\n",
      "\u001b[36mFile \u001b[39m\u001b[32m~/github/CS7320-AI/.venv/lib/python3.12/site-packages/matplotlib/animation.py:1302\u001b[39m, in \u001b[36mAnimation.to_html5_video\u001b[39m\u001b[34m(self, embed_limit)\u001b[39m\n\u001b[32m   1299\u001b[39m path = Path(tmpdir, \u001b[33m\"\u001b[39m\u001b[33mtemp.m4v\u001b[39m\u001b[33m\"\u001b[39m)\n\u001b[32m   1300\u001b[39m \u001b[38;5;66;03m# We create a writer manually so that we can get the\u001b[39;00m\n\u001b[32m   1301\u001b[39m \u001b[38;5;66;03m# appropriate size for the tag\u001b[39;00m\n\u001b[32m-> \u001b[39m\u001b[32m1302\u001b[39m Writer = \u001b[43mwriters\u001b[49m\u001b[43m[\u001b[49m\u001b[43mmpl\u001b[49m\u001b[43m.\u001b[49m\u001b[43mrcParams\u001b[49m\u001b[43m[\u001b[49m\u001b[33;43m'\u001b[39;49m\u001b[33;43manimation.writer\u001b[39;49m\u001b[33;43m'\u001b[39;49m\u001b[43m]\u001b[49m\u001b[43m]\u001b[49m\n\u001b[32m   1303\u001b[39m writer = Writer(codec=\u001b[33m'\u001b[39m\u001b[33mh264\u001b[39m\u001b[33m'\u001b[39m,\n\u001b[32m   1304\u001b[39m                 bitrate=mpl.rcParams[\u001b[33m'\u001b[39m\u001b[33manimation.bitrate\u001b[39m\u001b[33m'\u001b[39m],\n\u001b[32m   1305\u001b[39m                 fps=\u001b[32m1000.\u001b[39m / \u001b[38;5;28mself\u001b[39m._interval)\n\u001b[32m   1306\u001b[39m \u001b[38;5;28mself\u001b[39m.save(\u001b[38;5;28mstr\u001b[39m(path), writer=writer)\n",
      "\u001b[36mFile \u001b[39m\u001b[32m~/github/CS7320-AI/.venv/lib/python3.12/site-packages/matplotlib/animation.py:121\u001b[39m, in \u001b[36mMovieWriterRegistry.__getitem__\u001b[39m\u001b[34m(self, name)\u001b[39m\n\u001b[32m    119\u001b[39m \u001b[38;5;28;01mif\u001b[39;00m \u001b[38;5;28mself\u001b[39m.is_available(name):\n\u001b[32m    120\u001b[39m     \u001b[38;5;28;01mreturn\u001b[39;00m \u001b[38;5;28mself\u001b[39m._registered[name]\n\u001b[32m--> \u001b[39m\u001b[32m121\u001b[39m \u001b[38;5;28;01mraise\u001b[39;00m \u001b[38;5;167;01mRuntimeError\u001b[39;00m(\u001b[33mf\u001b[39m\u001b[33m\"\u001b[39m\u001b[33mRequested MovieWriter (\u001b[39m\u001b[38;5;132;01m{\u001b[39;00mname\u001b[38;5;132;01m}\u001b[39;00m\u001b[33m) not available\u001b[39m\u001b[33m\"\u001b[39m)\n",
      "\u001b[31mRuntimeError\u001b[39m: Requested MovieWriter (ffmpeg) not available"
     ]
    },
    {
     "data": {
      "text/plain": [
       "<matplotlib.animation.FuncAnimation at 0x75d67633a360>"
      ]
     },
     "execution_count": 10,
     "metadata": {},
     "output_type": "execute_result"
    }
   ],
   "source": [
    "# Note: DFS uses LIFO so the directions come from the stack in reverse order!\n",
    "\n",
    "# I use a maximum number of tries and stop if the goal is not reached.\n",
    "#tree_search.set_order(\"NESW\")\n",
    "tree_search.set_order(\"ENWS\")\n",
    "#tree_search.set_order(\"WSEN\")\n",
    "#tree_search.set_order(random=True)\n",
    "\n",
    "%time result = DFS(maze, vis = False, max_tries = 100000, debug_reached = True, animation = True)\n",
    "\n",
    "animate_maze(result)"
   ]
  },
  {
   "cell_type": "code",
   "execution_count": 11,
   "metadata": {},
   "outputs": [
    {
     "name": "stdout",
     "output_type": "stream",
     "text": [
      "Directions are checked at every step in random order.\n",
      "CPU times: user 68.6 ms, sys: 4.7 ms, total: 73.3 ms\n",
      "Wall time: 63.2 ms\n",
      "Path length: 226\n",
      "Reached squares: 493\n",
      "Action sequence: ['W', 'W', 'S', 'W', 'W', 'W', 'N', 'W', 'W', 'S', 'E', 'S', 'E', 'S', 'W', 'W', 'S', 'E', 'S', 'S', 'E', 'E', 'E', 'N', 'E', 'E', 'E', 'S', 'S', 'W', 'S', 'S', 'W', 'W', 'N', 'N', 'W', 'W', 'S', 'S', 'E', 'S', 'S', 'E', 'S', 'W', 'W', 'N', 'W', 'W', 'W', 'W', 'N', 'N', 'W', 'S', 'S', 'S', 'W', 'N', 'N', 'W', 'S', 'W', 'N', 'W', 'N', 'N', 'E', 'N', 'W', 'N', 'N', 'N', 'E', 'E', 'S', 'E', 'E', 'E', 'S', 'S', 'W', 'W', 'W', 'S', 'E', 'E', 'E', 'E', 'E', 'E', 'N', 'W', 'N', 'N', 'W', 'N', 'W', 'N', 'E', 'N', 'W', 'N', 'N', 'W', 'W', 'S', 'S', 'W', 'S', 'W', 'W', 'N', 'W', 'W', 'N', 'N', 'W', 'S', 'S', 'W', 'W', 'W', 'W', 'S', 'S', 'E', 'N', 'E', 'E', 'E', 'E', 'S', 'E', 'S', 'W', 'W', 'N', 'W', 'W', 'S', 'S', 'W', 'S', 'E', 'S', 'E', 'S', 'E', 'N', 'E', 'S', 'S', 'S', 'W', 'W', 'S', 'S', 'W', 'N', 'N', 'W', 'W', 'S', 'S', 'E', 'S', 'W', 'S', 'E', 'S', 'W', 'S', 'W', 'S', 'E', 'E', 'N', 'E', 'N', 'E', 'S', 'S', 'S', 'S', 'W', 'N', 'W', 'S', 'W', 'N', 'W', 'W', 'N', 'W', 'N', 'N', 'E', 'N', 'W', 'W', 'W', 'W', 'W', 'N', 'W', 'W', 'S', 'E', 'S', 'W', 'W', 'W', 'S', 'S', 'S', 'S', 'W', 'N', 'N', 'N', 'W', 'S', 'S', 'S']\n"
     ]
    },
    {
     "ename": "RuntimeError",
     "evalue": "Requested MovieWriter (ffmpeg) not available",
     "output_type": "error",
     "traceback": [
      "\u001b[31m---------------------------------------------------------------------------\u001b[39m",
      "\u001b[31mRuntimeError\u001b[39m                              Traceback (most recent call last)",
      "\u001b[36mFile \u001b[39m\u001b[32m~/github/CS7320-AI/.venv/lib/python3.12/site-packages/IPython/core/formatters.py:406\u001b[39m, in \u001b[36mBaseFormatter.__call__\u001b[39m\u001b[34m(self, obj)\u001b[39m\n\u001b[32m    404\u001b[39m     method = get_real_method(obj, \u001b[38;5;28mself\u001b[39m.print_method)\n\u001b[32m    405\u001b[39m     \u001b[38;5;28;01mif\u001b[39;00m method \u001b[38;5;129;01mis\u001b[39;00m \u001b[38;5;129;01mnot\u001b[39;00m \u001b[38;5;28;01mNone\u001b[39;00m:\n\u001b[32m--> \u001b[39m\u001b[32m406\u001b[39m         \u001b[38;5;28;01mreturn\u001b[39;00m \u001b[43mmethod\u001b[49m\u001b[43m(\u001b[49m\u001b[43m)\u001b[49m\n\u001b[32m    407\u001b[39m     \u001b[38;5;28;01mreturn\u001b[39;00m \u001b[38;5;28;01mNone\u001b[39;00m\n\u001b[32m    408\u001b[39m \u001b[38;5;28;01melse\u001b[39;00m:\n",
      "\u001b[36mFile \u001b[39m\u001b[32m~/github/CS7320-AI/.venv/lib/python3.12/site-packages/matplotlib/animation.py:1385\u001b[39m, in \u001b[36mAnimation._repr_html_\u001b[39m\u001b[34m(self)\u001b[39m\n\u001b[32m   1383\u001b[39m fmt = mpl.rcParams[\u001b[33m'\u001b[39m\u001b[33manimation.html\u001b[39m\u001b[33m'\u001b[39m]\n\u001b[32m   1384\u001b[39m \u001b[38;5;28;01mif\u001b[39;00m fmt == \u001b[33m'\u001b[39m\u001b[33mhtml5\u001b[39m\u001b[33m'\u001b[39m:\n\u001b[32m-> \u001b[39m\u001b[32m1385\u001b[39m     \u001b[38;5;28;01mreturn\u001b[39;00m \u001b[38;5;28;43mself\u001b[39;49m\u001b[43m.\u001b[49m\u001b[43mto_html5_video\u001b[49m\u001b[43m(\u001b[49m\u001b[43m)\u001b[49m\n\u001b[32m   1386\u001b[39m \u001b[38;5;28;01melif\u001b[39;00m fmt == \u001b[33m'\u001b[39m\u001b[33mjshtml\u001b[39m\u001b[33m'\u001b[39m:\n\u001b[32m   1387\u001b[39m     \u001b[38;5;28;01mreturn\u001b[39;00m \u001b[38;5;28mself\u001b[39m.to_jshtml()\n",
      "\u001b[36mFile \u001b[39m\u001b[32m~/github/CS7320-AI/.venv/lib/python3.12/site-packages/matplotlib/animation.py:1302\u001b[39m, in \u001b[36mAnimation.to_html5_video\u001b[39m\u001b[34m(self, embed_limit)\u001b[39m\n\u001b[32m   1299\u001b[39m path = Path(tmpdir, \u001b[33m\"\u001b[39m\u001b[33mtemp.m4v\u001b[39m\u001b[33m\"\u001b[39m)\n\u001b[32m   1300\u001b[39m \u001b[38;5;66;03m# We create a writer manually so that we can get the\u001b[39;00m\n\u001b[32m   1301\u001b[39m \u001b[38;5;66;03m# appropriate size for the tag\u001b[39;00m\n\u001b[32m-> \u001b[39m\u001b[32m1302\u001b[39m Writer = \u001b[43mwriters\u001b[49m\u001b[43m[\u001b[49m\u001b[43mmpl\u001b[49m\u001b[43m.\u001b[49m\u001b[43mrcParams\u001b[49m\u001b[43m[\u001b[49m\u001b[33;43m'\u001b[39;49m\u001b[33;43manimation.writer\u001b[39;49m\u001b[33;43m'\u001b[39;49m\u001b[43m]\u001b[49m\u001b[43m]\u001b[49m\n\u001b[32m   1303\u001b[39m writer = Writer(codec=\u001b[33m'\u001b[39m\u001b[33mh264\u001b[39m\u001b[33m'\u001b[39m,\n\u001b[32m   1304\u001b[39m                 bitrate=mpl.rcParams[\u001b[33m'\u001b[39m\u001b[33manimation.bitrate\u001b[39m\u001b[33m'\u001b[39m],\n\u001b[32m   1305\u001b[39m                 fps=\u001b[32m1000.\u001b[39m / \u001b[38;5;28mself\u001b[39m._interval)\n\u001b[32m   1306\u001b[39m \u001b[38;5;28mself\u001b[39m.save(\u001b[38;5;28mstr\u001b[39m(path), writer=writer)\n",
      "\u001b[36mFile \u001b[39m\u001b[32m~/github/CS7320-AI/.venv/lib/python3.12/site-packages/matplotlib/animation.py:121\u001b[39m, in \u001b[36mMovieWriterRegistry.__getitem__\u001b[39m\u001b[34m(self, name)\u001b[39m\n\u001b[32m    119\u001b[39m \u001b[38;5;28;01mif\u001b[39;00m \u001b[38;5;28mself\u001b[39m.is_available(name):\n\u001b[32m    120\u001b[39m     \u001b[38;5;28;01mreturn\u001b[39;00m \u001b[38;5;28mself\u001b[39m._registered[name]\n\u001b[32m--> \u001b[39m\u001b[32m121\u001b[39m \u001b[38;5;28;01mraise\u001b[39;00m \u001b[38;5;167;01mRuntimeError\u001b[39;00m(\u001b[33mf\u001b[39m\u001b[33m\"\u001b[39m\u001b[33mRequested MovieWriter (\u001b[39m\u001b[38;5;132;01m{\u001b[39;00mname\u001b[38;5;132;01m}\u001b[39;00m\u001b[33m) not available\u001b[39m\u001b[33m\"\u001b[39m)\n",
      "\u001b[31mRuntimeError\u001b[39m: Requested MovieWriter (ffmpeg) not available"
     ]
    },
    {
     "data": {
      "text/plain": [
       "<matplotlib.animation.FuncAnimation at 0x75d6740ef680>"
      ]
     },
     "execution_count": 11,
     "metadata": {},
     "output_type": "execute_result"
    }
   ],
   "source": [
    "# Note: DFS uses LIFO so the directions come from the stack in reverse order!\n",
    "\n",
    "# Can get stuck for empty maze since cycle checking is not strong enough! \n",
    "# I use a maximum number of tries and stop if the goal is not reached.\n",
    "#tree_search.set_order(\"NESW\")\n",
    "#tree_search.set_order(\"SENW\")\n",
    "#tree_search.set_order(\"WSEN\")\n",
    "tree_search.set_order(random=True)\n",
    "\n",
    "%time result = DFS(maze, vis = False, max_tries = 100000, debug_reached = True, animation = True)\n",
    "\n",
    "animate_maze(result)"
   ]
  },
  {
   "cell_type": "markdown",
   "metadata": {},
   "source": [
    "The order in which we expand the frontier makes a big difference for DFS. However, the best order depends on the maze.\n",
    "Randomization with multiple restarts is probably a good idea.\n",
    "\n",
    "\n",
    "We could do a random walk and not check for cycles. This is guaranteed to reach eventually any square including the goal, \n",
    "but creates a long path. The path could be simplified leading to the [Tremaux's algorithm](https://en.wikipedia.org/wiki/Maze_solving_algorithm)."
   ]
  },
  {
   "cell_type": "markdown",
   "metadata": {},
   "source": [
    "### Run randomized DFS multiple times and use the best solution.\n",
    "\n",
    "__Note:__ IDS takes a similar amount of time and memory, but is guaranteed optimal."
   ]
  },
  {
   "cell_type": "code",
   "execution_count": 12,
   "metadata": {},
   "outputs": [
    {
     "name": "stdout",
     "output_type": "stream",
     "text": [
      "Directions are checked at every step in random order.\n",
      "CPU times: user 1.61 s, sys: 21.4 ms, total: 1.63 s\n",
      "Wall time: 4.42 s\n",
      "Solutions have path_lengths of [158, 180, 180, 188, 240, 250, 222, 246, 128, 212, 244, 212, 246, 166, 216, 138, 232, 204, 232, 194, 232, 238, 194, 246, 196, 210, 218, 180, 230, 192, 150, 188, 214, 168, 200, 206, 172, 158, 232, 182, 178, 130, 208, 274, 214, 168, 232, 268, 180, 126, 152, 236, 248, 180, 176, 160, 170, 224, 184, 180, 222, 198, 218, 180, 216, 178, 186, 154, 224, 178, 246, 178, 182, 246, 192, 142, 176, 222, 152, 200, 182, 210, 152, 266, 154, 244, 266, 208, 294, 300, 232, 204, 162, 244, 170, 222, 170, 208, 180, 204]\n",
      "Path length: 126\n",
      "Reached squares: 0\n"
     ]
    },
    {
     "data": {
      "image/png": "[encoded data removed]",
      "text/plain": [
       "<Figure size 640x480 with 1 Axes>"
      ]
     },
     "metadata": {
      "image/png": {
       "height": 352,
       "width": 543
      }
     },
     "output_type": "display_data"
    }
   ],
   "source": [
    "tree_search.set_order(random = True)\n",
    "\n",
    "N = 100\n",
    "%time results = [ DFS(maze, max_tries = 10000, vis = False) for _ in range(N) ]\n",
    "\n",
    "# check if we found a solution and display the best solution\n",
    "results = [ r for r in results if not r['path'] is None ]\n",
    "if len(results) > 0:\n",
    "    path_lengths = [ len(r['path'])-1 for r in results ]\n",
    "\n",
    "    print(f\"Solutions have path_lengths of {path_lengths}\")\n",
    "\n",
    "    result = results[min_index(path_lengths)]\n",
    "    show_path(maze, result)\n",
    "else:\n",
    "    print(\"No solution found!\")"
   ]
  },
  {
   "cell_type": "markdown",
   "metadata": {},
   "source": [
    "### Depth limited DFS\n",
    "\n",
    "DFS does not store the explored search tree for visualization so we show it using the tree search implementation."
   ]
  },
  {
   "cell_type": "code",
   "execution_count": 13,
   "metadata": {},
   "outputs": [
    {
     "name": "stdout",
     "output_type": "stream",
     "text": [
      "Directions are checked at every step in random order.\n",
      "CPU times: user 1.75 ms, sys: 140 μs, total: 1.89 ms\n",
      "Wall time: 1.53 ms\n",
      "No solution found.\n"
     ]
    },
    {
     "ename": "RuntimeError",
     "evalue": "Requested MovieWriter (ffmpeg) not available",
     "output_type": "error",
     "traceback": [
      "\u001b[31m---------------------------------------------------------------------------\u001b[39m",
      "\u001b[31mRuntimeError\u001b[39m                              Traceback (most recent call last)",
      "\u001b[36mFile \u001b[39m\u001b[32m~/github/CS7320-AI/.venv/lib/python3.12/site-packages/IPython/core/formatters.py:406\u001b[39m, in \u001b[36mBaseFormatter.__call__\u001b[39m\u001b[34m(self, obj)\u001b[39m\n\u001b[32m    404\u001b[39m     method = get_real_method(obj, \u001b[38;5;28mself\u001b[39m.print_method)\n\u001b[32m    405\u001b[39m     \u001b[38;5;28;01mif\u001b[39;00m method \u001b[38;5;129;01mis\u001b[39;00m \u001b[38;5;129;01mnot\u001b[39;00m \u001b[38;5;28;01mNone\u001b[39;00m:\n\u001b[32m--> \u001b[39m\u001b[32m406\u001b[39m         \u001b[38;5;28;01mreturn\u001b[39;00m \u001b[43mmethod\u001b[49m\u001b[43m(\u001b[49m\u001b[43m)\u001b[49m\n\u001b[32m    407\u001b[39m     \u001b[38;5;28;01mreturn\u001b[39;00m \u001b[38;5;28;01mNone\u001b[39;00m\n\u001b[32m    408\u001b[39m \u001b[38;5;28;01melse\u001b[39;00m:\n",
      "\u001b[36mFile \u001b[39m\u001b[32m~/github/CS7320-AI/.venv/lib/python3.12/site-packages/matplotlib/animation.py:1385\u001b[39m, in \u001b[36mAnimation._repr_html_\u001b[39m\u001b[34m(self)\u001b[39m\n\u001b[32m   1383\u001b[39m fmt = mpl.rcParams[\u001b[33m'\u001b[39m\u001b[33manimation.html\u001b[39m\u001b[33m'\u001b[39m]\n\u001b[32m   1384\u001b[39m \u001b[38;5;28;01mif\u001b[39;00m fmt == \u001b[33m'\u001b[39m\u001b[33mhtml5\u001b[39m\u001b[33m'\u001b[39m:\n\u001b[32m-> \u001b[39m\u001b[32m1385\u001b[39m     \u001b[38;5;28;01mreturn\u001b[39;00m \u001b[38;5;28;43mself\u001b[39;49m\u001b[43m.\u001b[49m\u001b[43mto_html5_video\u001b[49m\u001b[43m(\u001b[49m\u001b[43m)\u001b[49m\n\u001b[32m   1386\u001b[39m \u001b[38;5;28;01melif\u001b[39;00m fmt == \u001b[33m'\u001b[39m\u001b[33mjshtml\u001b[39m\u001b[33m'\u001b[39m:\n\u001b[32m   1387\u001b[39m     \u001b[38;5;28;01mreturn\u001b[39;00m \u001b[38;5;28mself\u001b[39m.to_jshtml()\n",
      "\u001b[36mFile \u001b[39m\u001b[32m~/github/CS7320-AI/.venv/lib/python3.12/site-packages/matplotlib/animation.py:1302\u001b[39m, in \u001b[36mAnimation.to_html5_video\u001b[39m\u001b[34m(self, embed_limit)\u001b[39m\n\u001b[32m   1299\u001b[39m path = Path(tmpdir, \u001b[33m\"\u001b[39m\u001b[33mtemp.m4v\u001b[39m\u001b[33m\"\u001b[39m)\n\u001b[32m   1300\u001b[39m \u001b[38;5;66;03m# We create a writer manually so that we can get the\u001b[39;00m\n\u001b[32m   1301\u001b[39m \u001b[38;5;66;03m# appropriate size for the tag\u001b[39;00m\n\u001b[32m-> \u001b[39m\u001b[32m1302\u001b[39m Writer = \u001b[43mwriters\u001b[49m\u001b[43m[\u001b[49m\u001b[43mmpl\u001b[49m\u001b[43m.\u001b[49m\u001b[43mrcParams\u001b[49m\u001b[43m[\u001b[49m\u001b[33;43m'\u001b[39;49m\u001b[33;43manimation.writer\u001b[39;49m\u001b[33;43m'\u001b[39;49m\u001b[43m]\u001b[49m\u001b[43m]\u001b[49m\n\u001b[32m   1303\u001b[39m writer = Writer(codec=\u001b[33m'\u001b[39m\u001b[33mh264\u001b[39m\u001b[33m'\u001b[39m,\n\u001b[32m   1304\u001b[39m                 bitrate=mpl.rcParams[\u001b[33m'\u001b[39m\u001b[33manimation.bitrate\u001b[39m\u001b[33m'\u001b[39m],\n\u001b[32m   1305\u001b[39m                 fps=\u001b[32m1000.\u001b[39m / \u001b[38;5;28mself\u001b[39m._interval)\n\u001b[32m   1306\u001b[39m \u001b[38;5;28mself\u001b[39m.save(\u001b[38;5;28mstr\u001b[39m(path), writer=writer)\n",
      "\u001b[36mFile \u001b[39m\u001b[32m~/github/CS7320-AI/.venv/lib/python3.12/site-packages/matplotlib/animation.py:121\u001b[39m, in \u001b[36mMovieWriterRegistry.__getitem__\u001b[39m\u001b[34m(self, name)\u001b[39m\n\u001b[32m    119\u001b[39m \u001b[38;5;28;01mif\u001b[39;00m \u001b[38;5;28mself\u001b[39m.is_available(name):\n\u001b[32m    120\u001b[39m     \u001b[38;5;28;01mreturn\u001b[39;00m \u001b[38;5;28mself\u001b[39m._registered[name]\n\u001b[32m--> \u001b[39m\u001b[32m121\u001b[39m \u001b[38;5;28;01mraise\u001b[39;00m \u001b[38;5;167;01mRuntimeError\u001b[39;00m(\u001b[33mf\u001b[39m\u001b[33m\"\u001b[39m\u001b[33mRequested MovieWriter (\u001b[39m\u001b[38;5;132;01m{\u001b[39;00mname\u001b[38;5;132;01m}\u001b[39;00m\u001b[33m) not available\u001b[39m\u001b[33m\"\u001b[39m)\n",
      "\u001b[31mRuntimeError\u001b[39m: Requested MovieWriter (ffmpeg) not available"
     ]
    },
    {
     "data": {
      "text/plain": [
       "<matplotlib.animation.FuncAnimation at 0x75d6767808c0>"
      ]
     },
     "execution_count": 13,
     "metadata": {},
     "output_type": "execute_result"
    }
   ],
   "source": [
    "tree_search.set_order(random = True)\n",
    "\n",
    "#%time result = DFS(maze, limit = 10, debug = False, vis = False)\n",
    "%time result = best_first_search(maze, strategy = \"DFS\", limit = 5, debug = False, vis = False, animation = True)\n",
    "\n",
    "animate_maze(result)"
   ]
  },
  {
   "cell_type": "code",
   "execution_count": 14,
   "metadata": {},
   "outputs": [
    {
     "name": "stdout",
     "output_type": "stream",
     "text": [
      "Directions are checked in the order ['N', 'E', 'S', 'W']\n",
      "CPU times: user 1.98 ms, sys: 0 ns, total: 1.98 ms\n",
      "Wall time: 1.53 ms\n",
      "Reached squares: 17\n"
     ]
    },
    {
     "data": {
      "image/png": "[encoded data removed]",
      "text/plain": [
       "<Figure size 640x480 with 1 Axes>"
      ]
     },
     "metadata": {
      "image/png": {
       "height": 352,
       "width": 543
      }
     },
     "output_type": "display_data"
    },
    {
     "name": "stdout",
     "output_type": "stream",
     "text": [
      "No solution found.\n"
     ]
    },
    {
     "ename": "RuntimeError",
     "evalue": "Requested MovieWriter (ffmpeg) not available",
     "output_type": "error",
     "traceback": [
      "\u001b[31m---------------------------------------------------------------------------\u001b[39m",
      "\u001b[31mRuntimeError\u001b[39m                              Traceback (most recent call last)",
      "\u001b[36mFile \u001b[39m\u001b[32m~/github/CS7320-AI/.venv/lib/python3.12/site-packages/IPython/core/formatters.py:406\u001b[39m, in \u001b[36mBaseFormatter.__call__\u001b[39m\u001b[34m(self, obj)\u001b[39m\n\u001b[32m    404\u001b[39m     method = get_real_method(obj, \u001b[38;5;28mself\u001b[39m.print_method)\n\u001b[32m    405\u001b[39m     \u001b[38;5;28;01mif\u001b[39;00m method \u001b[38;5;129;01mis\u001b[39;00m \u001b[38;5;129;01mnot\u001b[39;00m \u001b[38;5;28;01mNone\u001b[39;00m:\n\u001b[32m--> \u001b[39m\u001b[32m406\u001b[39m         \u001b[38;5;28;01mreturn\u001b[39;00m \u001b[43mmethod\u001b[49m\u001b[43m(\u001b[49m\u001b[43m)\u001b[49m\n\u001b[32m    407\u001b[39m     \u001b[38;5;28;01mreturn\u001b[39;00m \u001b[38;5;28;01mNone\u001b[39;00m\n\u001b[32m    408\u001b[39m \u001b[38;5;28;01melse\u001b[39;00m:\n",
      "\u001b[36mFile \u001b[39m\u001b[32m~/github/CS7320-AI/.venv/lib/python3.12/site-packages/matplotlib/animation.py:1385\u001b[39m, in \u001b[36mAnimation._repr_html_\u001b[39m\u001b[34m(self)\u001b[39m\n\u001b[32m   1383\u001b[39m fmt = mpl.rcParams[\u001b[33m'\u001b[39m\u001b[33manimation.html\u001b[39m\u001b[33m'\u001b[39m]\n\u001b[32m   1384\u001b[39m \u001b[38;5;28;01mif\u001b[39;00m fmt == \u001b[33m'\u001b[39m\u001b[33mhtml5\u001b[39m\u001b[33m'\u001b[39m:\n\u001b[32m-> \u001b[39m\u001b[32m1385\u001b[39m     \u001b[38;5;28;01mreturn\u001b[39;00m \u001b[38;5;28;43mself\u001b[39;49m\u001b[43m.\u001b[49m\u001b[43mto_html5_video\u001b[49m\u001b[43m(\u001b[49m\u001b[43m)\u001b[49m\n\u001b[32m   1386\u001b[39m \u001b[38;5;28;01melif\u001b[39;00m fmt == \u001b[33m'\u001b[39m\u001b[33mjshtml\u001b[39m\u001b[33m'\u001b[39m:\n\u001b[32m   1387\u001b[39m     \u001b[38;5;28;01mreturn\u001b[39;00m \u001b[38;5;28mself\u001b[39m.to_jshtml()\n",
      "\u001b[36mFile \u001b[39m\u001b[32m~/github/CS7320-AI/.venv/lib/python3.12/site-packages/matplotlib/animation.py:1302\u001b[39m, in \u001b[36mAnimation.to_html5_video\u001b[39m\u001b[34m(self, embed_limit)\u001b[39m\n\u001b[32m   1299\u001b[39m path = Path(tmpdir, \u001b[33m\"\u001b[39m\u001b[33mtemp.m4v\u001b[39m\u001b[33m\"\u001b[39m)\n\u001b[32m   1300\u001b[39m \u001b[38;5;66;03m# We create a writer manually so that we can get the\u001b[39;00m\n\u001b[32m   1301\u001b[39m \u001b[38;5;66;03m# appropriate size for the tag\u001b[39;00m\n\u001b[32m-> \u001b[39m\u001b[32m1302\u001b[39m Writer = \u001b[43mwriters\u001b[49m\u001b[43m[\u001b[49m\u001b[43mmpl\u001b[49m\u001b[43m.\u001b[49m\u001b[43mrcParams\u001b[49m\u001b[43m[\u001b[49m\u001b[33;43m'\u001b[39;49m\u001b[33;43manimation.writer\u001b[39;49m\u001b[33;43m'\u001b[39;49m\u001b[43m]\u001b[49m\u001b[43m]\u001b[49m\n\u001b[32m   1303\u001b[39m writer = Writer(codec=\u001b[33m'\u001b[39m\u001b[33mh264\u001b[39m\u001b[33m'\u001b[39m,\n\u001b[32m   1304\u001b[39m                 bitrate=mpl.rcParams[\u001b[33m'\u001b[39m\u001b[33manimation.bitrate\u001b[39m\u001b[33m'\u001b[39m],\n\u001b[32m   1305\u001b[39m                 fps=\u001b[32m1000.\u001b[39m / \u001b[38;5;28mself\u001b[39m._interval)\n\u001b[32m   1306\u001b[39m \u001b[38;5;28mself\u001b[39m.save(\u001b[38;5;28mstr\u001b[39m(path), writer=writer)\n",
      "\u001b[36mFile \u001b[39m\u001b[32m~/github/CS7320-AI/.venv/lib/python3.12/site-packages/matplotlib/animation.py:121\u001b[39m, in \u001b[36mMovieWriterRegistry.__getitem__\u001b[39m\u001b[34m(self, name)\u001b[39m\n\u001b[32m    119\u001b[39m \u001b[38;5;28;01mif\u001b[39;00m \u001b[38;5;28mself\u001b[39m.is_available(name):\n\u001b[32m    120\u001b[39m     \u001b[38;5;28;01mreturn\u001b[39;00m \u001b[38;5;28mself\u001b[39m._registered[name]\n\u001b[32m--> \u001b[39m\u001b[32m121\u001b[39m \u001b[38;5;28;01mraise\u001b[39;00m \u001b[38;5;167;01mRuntimeError\u001b[39;00m(\u001b[33mf\u001b[39m\u001b[33m\"\u001b[39m\u001b[33mRequested MovieWriter (\u001b[39m\u001b[38;5;132;01m{\u001b[39;00mname\u001b[38;5;132;01m}\u001b[39;00m\u001b[33m) not available\u001b[39m\u001b[33m\"\u001b[39m)\n",
      "\u001b[31mRuntimeError\u001b[39m: Requested MovieWriter (ffmpeg) not available"
     ]
    },
    {
     "data": {
      "text/plain": [
       "<matplotlib.animation.FuncAnimation at 0x75d676767590>"
      ]
     },
     "execution_count": 14,
     "metadata": {},
     "output_type": "execute_result"
    }
   ],
   "source": [
    "#tree_search.set_order(random=True)\n",
    "tree_search.set_order(\"NESW\")\n",
    "\n",
    "%time result = DFS(maze, limit = 5, vis = False, debug_reached = True, animation = True)\n",
    "\n",
    "show_path(maze, result)\n",
    "\n",
    "animate_maze(result)"
   ]
  },
  {
   "cell_type": "markdown",
   "metadata": {},
   "source": [
    "### IDS\n",
    "\n",
    "__Notes:__ \n",
    "\n",
    "* IDS with DFS does not store reached squares, so gray areas are not shown!\n",
    "\n",
    "* IDS depends on the cycle checking of DFS and therefore is also affected by these problems."
   ]
  },
  {
   "cell_type": "code",
   "execution_count": 15,
   "metadata": {},
   "outputs": [
    {
     "name": "stdout",
     "output_type": "stream",
     "text": [
      "Directions are checked at every step in random order.\n",
      "CPU times: user 1.9 s, sys: 4.53 ms, total: 1.91 s\n",
      "Wall time: 1.75 s\n",
      "Path length: 124\n",
      "Reached squares: 0\n"
     ]
    },
    {
     "data": {
      "image/png": "[encoded data removed]",
      "text/plain": [
       "<Figure size 640x480 with 1 Axes>"
      ]
     },
     "metadata": {
      "image/png": {
       "height": 352,
       "width": 543
      }
     },
     "output_type": "display_data"
    }
   ],
   "source": [
    "#tree_search.set_order(\"NESW\")\n",
    "#tree_search.set_order(\"SENW\")\n",
    "#tree_search.set_order(\"WSEN\")\n",
    "tree_search.set_order(random = True)\n",
    "\n",
    "%time result = IDS(maze, max_tries = 100000)\n",
    "show_path(maze, result)"
   ]
  },
  {
   "cell_type": "code",
   "execution_count": 16,
   "metadata": {},
   "outputs": [
    {
     "name": "stdout",
     "output_type": "stream",
     "text": [
      "Directions are checked at every step in random order.\n",
      "CPU times: user 1.31 s, sys: 4.32 ms, total: 1.31 s\n",
      "Wall time: 1.2 s\n",
      "Path length: 54\n",
      "Reached squares: 682\n"
     ]
    },
    {
     "data": {
      "image/png": "[encoded data removed]",
      "text/plain": [
       "<Figure size 640x480 with 1 Axes>"
      ]
     },
     "metadata": {
      "image/png": {
       "height": 352,
       "width": 543
      }
     },
     "output_type": "display_data"
    }
   ],
   "source": [
    "# Use a reached structure. This does not use DFS in the proper way.\n",
    "\n",
    "#tree_search.set_order(\"NESW\")\n",
    "#tree_search.set_order(\"SENW\")\n",
    "#tree_search.set_order(\"WSEN\")\n",
    "tree_search.set_order(random = True)\n",
    "\n",
    "%time result = IDS_reached(maze, debug = False)\n",
    "show_path(maze, result)"
   ]
  },
  {
   "cell_type": "markdown",
   "metadata": {},
   "source": [
    "### GBFS"
   ]
  },
  {
   "cell_type": "code",
   "execution_count": 17,
   "metadata": {},
   "outputs": [
    {
     "name": "stdout",
     "output_type": "stream",
     "text": [
      "Directions are checked in the order ['S', 'E', 'N', 'W']\n",
      "CPU times: user 127 ms, sys: 9 ms, total: 136 ms\n",
      "Wall time: 118 ms\n",
      "Path length: 54\n",
      "Reached squares: 273\n",
      "Action sequence: ['W', 'W', 'W', 'W', 'W', 'W', 'W', 'W', 'W', 'W', 'W', 'W', 'W', 'W', 'W', 'W', 'W', 'W', 'W', 'W', 'W', 'S', 'S', 'S', 'S', 'S', 'S', 'S', 'S', 'S', 'S', 'S', 'S', 'S', 'S', 'S', 'S', 'S', 'W', 'W', 'W', 'W', 'W', 'W', 'W', 'W', 'W', 'W', 'W', 'W', 'W', 'S', 'S', 'S']\n"
     ]
    },
    {
     "ename": "RuntimeError",
     "evalue": "Requested MovieWriter (ffmpeg) not available",
     "output_type": "error",
     "traceback": [
      "\u001b[31m---------------------------------------------------------------------------\u001b[39m",
      "\u001b[31mRuntimeError\u001b[39m                              Traceback (most recent call last)",
      "\u001b[36mFile \u001b[39m\u001b[32m~/github/CS7320-AI/.venv/lib/python3.12/site-packages/IPython/core/formatters.py:406\u001b[39m, in \u001b[36mBaseFormatter.__call__\u001b[39m\u001b[34m(self, obj)\u001b[39m\n\u001b[32m    404\u001b[39m     method = get_real_method(obj, \u001b[38;5;28mself\u001b[39m.print_method)\n\u001b[32m    405\u001b[39m     \u001b[38;5;28;01mif\u001b[39;00m method \u001b[38;5;129;01mis\u001b[39;00m \u001b[38;5;129;01mnot\u001b[39;00m \u001b[38;5;28;01mNone\u001b[39;00m:\n\u001b[32m--> \u001b[39m\u001b[32m406\u001b[39m         \u001b[38;5;28;01mreturn\u001b[39;00m \u001b[43mmethod\u001b[49m\u001b[43m(\u001b[49m\u001b[43m)\u001b[49m\n\u001b[32m    407\u001b[39m     \u001b[38;5;28;01mreturn\u001b[39;00m \u001b[38;5;28;01mNone\u001b[39;00m\n\u001b[32m    408\u001b[39m \u001b[38;5;28;01melse\u001b[39;00m:\n",
      "\u001b[36mFile \u001b[39m\u001b[32m~/github/CS7320-AI/.venv/lib/python3.12/site-packages/matplotlib/animation.py:1385\u001b[39m, in \u001b[36mAnimation._repr_html_\u001b[39m\u001b[34m(self)\u001b[39m\n\u001b[32m   1383\u001b[39m fmt = mpl.rcParams[\u001b[33m'\u001b[39m\u001b[33manimation.html\u001b[39m\u001b[33m'\u001b[39m]\n\u001b[32m   1384\u001b[39m \u001b[38;5;28;01mif\u001b[39;00m fmt == \u001b[33m'\u001b[39m\u001b[33mhtml5\u001b[39m\u001b[33m'\u001b[39m:\n\u001b[32m-> \u001b[39m\u001b[32m1385\u001b[39m     \u001b[38;5;28;01mreturn\u001b[39;00m \u001b[38;5;28;43mself\u001b[39;49m\u001b[43m.\u001b[49m\u001b[43mto_html5_video\u001b[49m\u001b[43m(\u001b[49m\u001b[43m)\u001b[49m\n\u001b[32m   1386\u001b[39m \u001b[38;5;28;01melif\u001b[39;00m fmt == \u001b[33m'\u001b[39m\u001b[33mjshtml\u001b[39m\u001b[33m'\u001b[39m:\n\u001b[32m   1387\u001b[39m     \u001b[38;5;28;01mreturn\u001b[39;00m \u001b[38;5;28mself\u001b[39m.to_jshtml()\n",
      "\u001b[36mFile \u001b[39m\u001b[32m~/github/CS7320-AI/.venv/lib/python3.12/site-packages/matplotlib/animation.py:1302\u001b[39m, in \u001b[36mAnimation.to_html5_video\u001b[39m\u001b[34m(self, embed_limit)\u001b[39m\n\u001b[32m   1299\u001b[39m path = Path(tmpdir, \u001b[33m\"\u001b[39m\u001b[33mtemp.m4v\u001b[39m\u001b[33m\"\u001b[39m)\n\u001b[32m   1300\u001b[39m \u001b[38;5;66;03m# We create a writer manually so that we can get the\u001b[39;00m\n\u001b[32m   1301\u001b[39m \u001b[38;5;66;03m# appropriate size for the tag\u001b[39;00m\n\u001b[32m-> \u001b[39m\u001b[32m1302\u001b[39m Writer = \u001b[43mwriters\u001b[49m\u001b[43m[\u001b[49m\u001b[43mmpl\u001b[49m\u001b[43m.\u001b[49m\u001b[43mrcParams\u001b[49m\u001b[43m[\u001b[49m\u001b[33;43m'\u001b[39;49m\u001b[33;43manimation.writer\u001b[39;49m\u001b[33;43m'\u001b[39;49m\u001b[43m]\u001b[49m\u001b[43m]\u001b[49m\n\u001b[32m   1303\u001b[39m writer = Writer(codec=\u001b[33m'\u001b[39m\u001b[33mh264\u001b[39m\u001b[33m'\u001b[39m,\n\u001b[32m   1304\u001b[39m                 bitrate=mpl.rcParams[\u001b[33m'\u001b[39m\u001b[33manimation.bitrate\u001b[39m\u001b[33m'\u001b[39m],\n\u001b[32m   1305\u001b[39m                 fps=\u001b[32m1000.\u001b[39m / \u001b[38;5;28mself\u001b[39m._interval)\n\u001b[32m   1306\u001b[39m \u001b[38;5;28mself\u001b[39m.save(\u001b[38;5;28mstr\u001b[39m(path), writer=writer)\n",
      "\u001b[36mFile \u001b[39m\u001b[32m~/github/CS7320-AI/.venv/lib/python3.12/site-packages/matplotlib/animation.py:121\u001b[39m, in \u001b[36mMovieWriterRegistry.__getitem__\u001b[39m\u001b[34m(self, name)\u001b[39m\n\u001b[32m    119\u001b[39m \u001b[38;5;28;01mif\u001b[39;00m \u001b[38;5;28mself\u001b[39m.is_available(name):\n\u001b[32m    120\u001b[39m     \u001b[38;5;28;01mreturn\u001b[39;00m \u001b[38;5;28mself\u001b[39m._registered[name]\n\u001b[32m--> \u001b[39m\u001b[32m121\u001b[39m \u001b[38;5;28;01mraise\u001b[39;00m \u001b[38;5;167;01mRuntimeError\u001b[39;00m(\u001b[33mf\u001b[39m\u001b[33m\"\u001b[39m\u001b[33mRequested MovieWriter (\u001b[39m\u001b[38;5;132;01m{\u001b[39;00mname\u001b[38;5;132;01m}\u001b[39;00m\u001b[33m) not available\u001b[39m\u001b[33m\"\u001b[39m)\n",
      "\u001b[31mRuntimeError\u001b[39m: Requested MovieWriter (ffmpeg) not available"
     ]
    },
    {
     "data": {
      "text/plain": [
       "<matplotlib.animation.FuncAnimation at 0x75d6738a2a50>"
      ]
     },
     "execution_count": 17,
     "metadata": {},
     "output_type": "execute_result"
    }
   ],
   "source": [
    "# Note: DFS uses LIFO so the directions come from the stack in reverse order!\n",
    "#tree_search.set_order(\"NESW\")\n",
    "tree_search.set_order(\"SENW\")\n",
    "#tree_search.set_order(\"WSEN\")\n",
    "#tree_search.set_order(random=True)\n",
    "\n",
    "%time result = best_first_search(maze, strategy = \"GBFS\", debug = False, vis = False, animation = True)\n",
    "\n",
    "animate_maze(result)"
   ]
  },
  {
   "cell_type": "code",
   "execution_count": 18,
   "metadata": {},
   "outputs": [
    {
     "name": "stdout",
     "output_type": "stream",
     "text": [
      "Directions are checked in the order ['W', 'S', 'E', 'N']\n",
      "CPU times: user 12 ms, sys: 172 μs, total: 12.2 ms\n",
      "Wall time: 10.1 ms\n",
      "Path length: 68\n",
      "Reached squares: 153\n",
      "Action sequence: ['S', 'S', 'S', 'S', 'S', 'S', 'S', 'S', 'S', 'S', 'S', 'S', 'W', 'W', 'W', 'W', 'W', 'W', 'W', 'W', 'W', 'W', 'W', 'W', 'W', 'W', 'N', 'N', 'N', 'N', 'N', 'N', 'N', 'W', 'W', 'S', 'S', 'S', 'S', 'S', 'S', 'S', 'S', 'S', 'S', 'S', 'S', 'S', 'S', 'S', 'W', 'W', 'W', 'W', 'W', 'W', 'W', 'W', 'W', 'W', 'W', 'W', 'W', 'W', 'W', 'W', 'W', 'W']\n"
     ]
    },
    {
     "ename": "RuntimeError",
     "evalue": "Requested MovieWriter (ffmpeg) not available",
     "output_type": "error",
     "traceback": [
      "\u001b[31m---------------------------------------------------------------------------\u001b[39m",
      "\u001b[31mRuntimeError\u001b[39m                              Traceback (most recent call last)",
      "\u001b[36mFile \u001b[39m\u001b[32m~/github/CS7320-AI/.venv/lib/python3.12/site-packages/IPython/core/formatters.py:406\u001b[39m, in \u001b[36mBaseFormatter.__call__\u001b[39m\u001b[34m(self, obj)\u001b[39m\n\u001b[32m    404\u001b[39m     method = get_real_method(obj, \u001b[38;5;28mself\u001b[39m.print_method)\n\u001b[32m    405\u001b[39m     \u001b[38;5;28;01mif\u001b[39;00m method \u001b[38;5;129;01mis\u001b[39;00m \u001b[38;5;129;01mnot\u001b[39;00m \u001b[38;5;28;01mNone\u001b[39;00m:\n\u001b[32m--> \u001b[39m\u001b[32m406\u001b[39m         \u001b[38;5;28;01mreturn\u001b[39;00m \u001b[43mmethod\u001b[49m\u001b[43m(\u001b[49m\u001b[43m)\u001b[49m\n\u001b[32m    407\u001b[39m     \u001b[38;5;28;01mreturn\u001b[39;00m \u001b[38;5;28;01mNone\u001b[39;00m\n\u001b[32m    408\u001b[39m \u001b[38;5;28;01melse\u001b[39;00m:\n",
      "\u001b[36mFile \u001b[39m\u001b[32m~/github/CS7320-AI/.venv/lib/python3.12/site-packages/matplotlib/animation.py:1385\u001b[39m, in \u001b[36mAnimation._repr_html_\u001b[39m\u001b[34m(self)\u001b[39m\n\u001b[32m   1383\u001b[39m fmt = mpl.rcParams[\u001b[33m'\u001b[39m\u001b[33manimation.html\u001b[39m\u001b[33m'\u001b[39m]\n\u001b[32m   1384\u001b[39m \u001b[38;5;28;01mif\u001b[39;00m fmt == \u001b[33m'\u001b[39m\u001b[33mhtml5\u001b[39m\u001b[33m'\u001b[39m:\n\u001b[32m-> \u001b[39m\u001b[32m1385\u001b[39m     \u001b[38;5;28;01mreturn\u001b[39;00m \u001b[38;5;28;43mself\u001b[39;49m\u001b[43m.\u001b[49m\u001b[43mto_html5_video\u001b[49m\u001b[43m(\u001b[49m\u001b[43m)\u001b[49m\n\u001b[32m   1386\u001b[39m \u001b[38;5;28;01melif\u001b[39;00m fmt == \u001b[33m'\u001b[39m\u001b[33mjshtml\u001b[39m\u001b[33m'\u001b[39m:\n\u001b[32m   1387\u001b[39m     \u001b[38;5;28;01mreturn\u001b[39;00m \u001b[38;5;28mself\u001b[39m.to_jshtml()\n",
      "\u001b[36mFile \u001b[39m\u001b[32m~/github/CS7320-AI/.venv/lib/python3.12/site-packages/matplotlib/animation.py:1302\u001b[39m, in \u001b[36mAnimation.to_html5_video\u001b[39m\u001b[34m(self, embed_limit)\u001b[39m\n\u001b[32m   1299\u001b[39m path = Path(tmpdir, \u001b[33m\"\u001b[39m\u001b[33mtemp.m4v\u001b[39m\u001b[33m\"\u001b[39m)\n\u001b[32m   1300\u001b[39m \u001b[38;5;66;03m# We create a writer manually so that we can get the\u001b[39;00m\n\u001b[32m   1301\u001b[39m \u001b[38;5;66;03m# appropriate size for the tag\u001b[39;00m\n\u001b[32m-> \u001b[39m\u001b[32m1302\u001b[39m Writer = \u001b[43mwriters\u001b[49m\u001b[43m[\u001b[49m\u001b[43mmpl\u001b[49m\u001b[43m.\u001b[49m\u001b[43mrcParams\u001b[49m\u001b[43m[\u001b[49m\u001b[33;43m'\u001b[39;49m\u001b[33;43manimation.writer\u001b[39;49m\u001b[33;43m'\u001b[39;49m\u001b[43m]\u001b[49m\u001b[43m]\u001b[49m\n\u001b[32m   1303\u001b[39m writer = Writer(codec=\u001b[33m'\u001b[39m\u001b[33mh264\u001b[39m\u001b[33m'\u001b[39m,\n\u001b[32m   1304\u001b[39m                 bitrate=mpl.rcParams[\u001b[33m'\u001b[39m\u001b[33manimation.bitrate\u001b[39m\u001b[33m'\u001b[39m],\n\u001b[32m   1305\u001b[39m                 fps=\u001b[32m1000.\u001b[39m / \u001b[38;5;28mself\u001b[39m._interval)\n\u001b[32m   1306\u001b[39m \u001b[38;5;28mself\u001b[39m.save(\u001b[38;5;28mstr\u001b[39m(path), writer=writer)\n",
      "\u001b[36mFile \u001b[39m\u001b[32m~/github/CS7320-AI/.venv/lib/python3.12/site-packages/matplotlib/animation.py:121\u001b[39m, in \u001b[36mMovieWriterRegistry.__getitem__\u001b[39m\u001b[34m(self, name)\u001b[39m\n\u001b[32m    119\u001b[39m \u001b[38;5;28;01mif\u001b[39;00m \u001b[38;5;28mself\u001b[39m.is_available(name):\n\u001b[32m    120\u001b[39m     \u001b[38;5;28;01mreturn\u001b[39;00m \u001b[38;5;28mself\u001b[39m._registered[name]\n\u001b[32m--> \u001b[39m\u001b[32m121\u001b[39m \u001b[38;5;28;01mraise\u001b[39;00m \u001b[38;5;167;01mRuntimeError\u001b[39;00m(\u001b[33mf\u001b[39m\u001b[33m\"\u001b[39m\u001b[33mRequested MovieWriter (\u001b[39m\u001b[38;5;132;01m{\u001b[39;00mname\u001b[38;5;132;01m}\u001b[39;00m\u001b[33m) not available\u001b[39m\u001b[33m\"\u001b[39m)\n",
      "\u001b[31mRuntimeError\u001b[39m: Requested MovieWriter (ffmpeg) not available"
     ]
    },
    {
     "data": {
      "text/plain": [
       "<matplotlib.animation.FuncAnimation at 0x75d673898bf0>"
      ]
     },
     "execution_count": 18,
     "metadata": {},
     "output_type": "execute_result"
    }
   ],
   "source": [
    "# Note: DFS uses LIFO so the directions come from the stack in reverse order!\n",
    "#tree_search.set_order(\"NESW\")\n",
    "#tree_search.set_order(\"SENW\")\n",
    "tree_search.set_order(\"WSEN\")\n",
    "#tree_search.set_order(random=True)\n",
    "\n",
    "%time result = best_first_search(maze, strategy = \"GBFS\", debug = False, vis = False, animation = True)\n",
    "\n",
    "animate_maze(result)"
   ]
  },
  {
   "cell_type": "code",
   "execution_count": 19,
   "metadata": {},
   "outputs": [
    {
     "name": "stdout",
     "output_type": "stream",
     "text": [
      "Directions are checked at every step in random order.\n",
      "CPU times: user 15.5 ms, sys: 0 ns, total: 15.5 ms\n",
      "Wall time: 12.9 ms\n",
      "Path length: 66\n",
      "Reached squares: 158\n",
      "Action sequence: ['S', 'S', 'W', 'W', 'S', 'S', 'S', 'W', 'S', 'S', 'W', 'S', 'S', 'W', 'S', 'S', 'W', 'W', 'W', 'W', 'W', 'W', 'W', 'W', 'W', 'N', 'N', 'N', 'N', 'N', 'N', 'W', 'W', 'W', 'S', 'W', 'W', 'W', 'S', 'S', 'W', 'S', 'S', 'S', 'S', 'S', 'S', 'S', 'S', 'S', 'S', 'W', 'S', 'S', 'W', 'W', 'W', 'W', 'W', 'W', 'W', 'W', 'W', 'W', 'W', 'W']\n"
     ]
    },
    {
     "ename": "RuntimeError",
     "evalue": "Requested MovieWriter (ffmpeg) not available",
     "output_type": "error",
     "traceback": [
      "\u001b[31m---------------------------------------------------------------------------\u001b[39m",
      "\u001b[31mRuntimeError\u001b[39m                              Traceback (most recent call last)",
      "\u001b[36mFile \u001b[39m\u001b[32m~/github/CS7320-AI/.venv/lib/python3.12/site-packages/IPython/core/formatters.py:406\u001b[39m, in \u001b[36mBaseFormatter.__call__\u001b[39m\u001b[34m(self, obj)\u001b[39m\n\u001b[32m    404\u001b[39m     method = get_real_method(obj, \u001b[38;5;28mself\u001b[39m.print_method)\n\u001b[32m    405\u001b[39m     \u001b[38;5;28;01mif\u001b[39;00m method \u001b[38;5;129;01mis\u001b[39;00m \u001b[38;5;129;01mnot\u001b[39;00m \u001b[38;5;28;01mNone\u001b[39;00m:\n\u001b[32m--> \u001b[39m\u001b[32m406\u001b[39m         \u001b[38;5;28;01mreturn\u001b[39;00m \u001b[43mmethod\u001b[49m\u001b[43m(\u001b[49m\u001b[43m)\u001b[49m\n\u001b[32m    407\u001b[39m     \u001b[38;5;28;01mreturn\u001b[39;00m \u001b[38;5;28;01mNone\u001b[39;00m\n\u001b[32m    408\u001b[39m \u001b[38;5;28;01melse\u001b[39;00m:\n",
      "\u001b[36mFile \u001b[39m\u001b[32m~/github/CS7320-AI/.venv/lib/python3.12/site-packages/matplotlib/animation.py:1385\u001b[39m, in \u001b[36mAnimation._repr_html_\u001b[39m\u001b[34m(self)\u001b[39m\n\u001b[32m   1383\u001b[39m fmt = mpl.rcParams[\u001b[33m'\u001b[39m\u001b[33manimation.html\u001b[39m\u001b[33m'\u001b[39m]\n\u001b[32m   1384\u001b[39m \u001b[38;5;28;01mif\u001b[39;00m fmt == \u001b[33m'\u001b[39m\u001b[33mhtml5\u001b[39m\u001b[33m'\u001b[39m:\n\u001b[32m-> \u001b[39m\u001b[32m1385\u001b[39m     \u001b[38;5;28;01mreturn\u001b[39;00m \u001b[38;5;28;43mself\u001b[39;49m\u001b[43m.\u001b[49m\u001b[43mto_html5_video\u001b[49m\u001b[43m(\u001b[49m\u001b[43m)\u001b[49m\n\u001b[32m   1386\u001b[39m \u001b[38;5;28;01melif\u001b[39;00m fmt == \u001b[33m'\u001b[39m\u001b[33mjshtml\u001b[39m\u001b[33m'\u001b[39m:\n\u001b[32m   1387\u001b[39m     \u001b[38;5;28;01mreturn\u001b[39;00m \u001b[38;5;28mself\u001b[39m.to_jshtml()\n",
      "\u001b[36mFile \u001b[39m\u001b[32m~/github/CS7320-AI/.venv/lib/python3.12/site-packages/matplotlib/animation.py:1302\u001b[39m, in \u001b[36mAnimation.to_html5_video\u001b[39m\u001b[34m(self, embed_limit)\u001b[39m\n\u001b[32m   1299\u001b[39m path = Path(tmpdir, \u001b[33m\"\u001b[39m\u001b[33mtemp.m4v\u001b[39m\u001b[33m\"\u001b[39m)\n\u001b[32m   1300\u001b[39m \u001b[38;5;66;03m# We create a writer manually so that we can get the\u001b[39;00m\n\u001b[32m   1301\u001b[39m \u001b[38;5;66;03m# appropriate size for the tag\u001b[39;00m\n\u001b[32m-> \u001b[39m\u001b[32m1302\u001b[39m Writer = \u001b[43mwriters\u001b[49m\u001b[43m[\u001b[49m\u001b[43mmpl\u001b[49m\u001b[43m.\u001b[49m\u001b[43mrcParams\u001b[49m\u001b[43m[\u001b[49m\u001b[33;43m'\u001b[39;49m\u001b[33;43manimation.writer\u001b[39;49m\u001b[33;43m'\u001b[39;49m\u001b[43m]\u001b[49m\u001b[43m]\u001b[49m\n\u001b[32m   1303\u001b[39m writer = Writer(codec=\u001b[33m'\u001b[39m\u001b[33mh264\u001b[39m\u001b[33m'\u001b[39m,\n\u001b[32m   1304\u001b[39m                 bitrate=mpl.rcParams[\u001b[33m'\u001b[39m\u001b[33manimation.bitrate\u001b[39m\u001b[33m'\u001b[39m],\n\u001b[32m   1305\u001b[39m                 fps=\u001b[32m1000.\u001b[39m / \u001b[38;5;28mself\u001b[39m._interval)\n\u001b[32m   1306\u001b[39m \u001b[38;5;28mself\u001b[39m.save(\u001b[38;5;28mstr\u001b[39m(path), writer=writer)\n",
      "\u001b[36mFile \u001b[39m\u001b[32m~/github/CS7320-AI/.venv/lib/python3.12/site-packages/matplotlib/animation.py:121\u001b[39m, in \u001b[36mMovieWriterRegistry.__getitem__\u001b[39m\u001b[34m(self, name)\u001b[39m\n\u001b[32m    119\u001b[39m \u001b[38;5;28;01mif\u001b[39;00m \u001b[38;5;28mself\u001b[39m.is_available(name):\n\u001b[32m    120\u001b[39m     \u001b[38;5;28;01mreturn\u001b[39;00m \u001b[38;5;28mself\u001b[39m._registered[name]\n\u001b[32m--> \u001b[39m\u001b[32m121\u001b[39m \u001b[38;5;28;01mraise\u001b[39;00m \u001b[38;5;167;01mRuntimeError\u001b[39;00m(\u001b[33mf\u001b[39m\u001b[33m\"\u001b[39m\u001b[33mRequested MovieWriter (\u001b[39m\u001b[38;5;132;01m{\u001b[39;00mname\u001b[38;5;132;01m}\u001b[39;00m\u001b[33m) not available\u001b[39m\u001b[33m\"\u001b[39m)\n",
      "\u001b[31mRuntimeError\u001b[39m: Requested MovieWriter (ffmpeg) not available"
     ]
    },
    {
     "data": {
      "text/plain": [
       "<matplotlib.animation.FuncAnimation at 0x75d673885550>"
      ]
     },
     "execution_count": 19,
     "metadata": {},
     "output_type": "execute_result"
    }
   ],
   "source": [
    "# Note: DFS uses LIFO so the directions come from the stack in reverse order!\n",
    "#tree_search.set_order(\"NESW\")\n",
    "#tree_search.set_order(\"SENW\")\n",
    "#tree_search.set_order(\"WSEN\")\n",
    "tree_search.set_order(random = True)\n",
    "\n",
    "%time result = best_first_search(maze, strategy = \"GBFS\", debug = False, vis = False, animation = True)\n",
    "\n",
    "animate_maze(result)"
   ]
  },
  {
   "cell_type": "markdown",
   "metadata": {},
   "source": [
    "### A* Search"
   ]
  },
  {
   "cell_type": "code",
   "execution_count": 20,
   "metadata": {
    "tags": []
   },
   "outputs": [
    {
     "name": "stdout",
     "output_type": "stream",
     "text": [
      "Directions are checked in the order ['S', 'E', 'N', 'W']\n",
      "CPU times: user 35 ms, sys: 4.38 ms, total: 39.4 ms\n",
      "Wall time: 33.4 ms\n",
      "Path length: 54\n",
      "Reached squares: 273\n",
      "Action sequence: ['W', 'W', 'W', 'W', 'W', 'W', 'W', 'W', 'W', 'W', 'W', 'W', 'W', 'W', 'W', 'W', 'W', 'W', 'W', 'W', 'W', 'S', 'S', 'S', 'S', 'S', 'S', 'S', 'S', 'S', 'S', 'S', 'S', 'S', 'S', 'S', 'S', 'S', 'W', 'W', 'W', 'W', 'W', 'W', 'W', 'W', 'W', 'W', 'W', 'W', 'W', 'S', 'S', 'S']\n"
     ]
    },
    {
     "ename": "RuntimeError",
     "evalue": "Requested MovieWriter (ffmpeg) not available",
     "output_type": "error",
     "traceback": [
      "\u001b[31m---------------------------------------------------------------------------\u001b[39m",
      "\u001b[31mRuntimeError\u001b[39m                              Traceback (most recent call last)",
      "\u001b[36mFile \u001b[39m\u001b[32m~/github/CS7320-AI/.venv/lib/python3.12/site-packages/IPython/core/formatters.py:406\u001b[39m, in \u001b[36mBaseFormatter.__call__\u001b[39m\u001b[34m(self, obj)\u001b[39m\n\u001b[32m    404\u001b[39m     method = get_real_method(obj, \u001b[38;5;28mself\u001b[39m.print_method)\n\u001b[32m    405\u001b[39m     \u001b[38;5;28;01mif\u001b[39;00m method \u001b[38;5;129;01mis\u001b[39;00m \u001b[38;5;129;01mnot\u001b[39;00m \u001b[38;5;28;01mNone\u001b[39;00m:\n\u001b[32m--> \u001b[39m\u001b[32m406\u001b[39m         \u001b[38;5;28;01mreturn\u001b[39;00m \u001b[43mmethod\u001b[49m\u001b[43m(\u001b[49m\u001b[43m)\u001b[49m\n\u001b[32m    407\u001b[39m     \u001b[38;5;28;01mreturn\u001b[39;00m \u001b[38;5;28;01mNone\u001b[39;00m\n\u001b[32m    408\u001b[39m \u001b[38;5;28;01melse\u001b[39;00m:\n",
      "\u001b[36mFile \u001b[39m\u001b[32m~/github/CS7320-AI/.venv/lib/python3.12/site-packages/matplotlib/animation.py:1385\u001b[39m, in \u001b[36mAnimation._repr_html_\u001b[39m\u001b[34m(self)\u001b[39m\n\u001b[32m   1383\u001b[39m fmt = mpl.rcParams[\u001b[33m'\u001b[39m\u001b[33manimation.html\u001b[39m\u001b[33m'\u001b[39m]\n\u001b[32m   1384\u001b[39m \u001b[38;5;28;01mif\u001b[39;00m fmt == \u001b[33m'\u001b[39m\u001b[33mhtml5\u001b[39m\u001b[33m'\u001b[39m:\n\u001b[32m-> \u001b[39m\u001b[32m1385\u001b[39m     \u001b[38;5;28;01mreturn\u001b[39;00m \u001b[38;5;28;43mself\u001b[39;49m\u001b[43m.\u001b[49m\u001b[43mto_html5_video\u001b[49m\u001b[43m(\u001b[49m\u001b[43m)\u001b[49m\n\u001b[32m   1386\u001b[39m \u001b[38;5;28;01melif\u001b[39;00m fmt == \u001b[33m'\u001b[39m\u001b[33mjshtml\u001b[39m\u001b[33m'\u001b[39m:\n\u001b[32m   1387\u001b[39m     \u001b[38;5;28;01mreturn\u001b[39;00m \u001b[38;5;28mself\u001b[39m.to_jshtml()\n",
      "\u001b[36mFile \u001b[39m\u001b[32m~/github/CS7320-AI/.venv/lib/python3.12/site-packages/matplotlib/animation.py:1302\u001b[39m, in \u001b[36mAnimation.to_html5_video\u001b[39m\u001b[34m(self, embed_limit)\u001b[39m\n\u001b[32m   1299\u001b[39m path = Path(tmpdir, \u001b[33m\"\u001b[39m\u001b[33mtemp.m4v\u001b[39m\u001b[33m\"\u001b[39m)\n\u001b[32m   1300\u001b[39m \u001b[38;5;66;03m# We create a writer manually so that we can get the\u001b[39;00m\n\u001b[32m   1301\u001b[39m \u001b[38;5;66;03m# appropriate size for the tag\u001b[39;00m\n\u001b[32m-> \u001b[39m\u001b[32m1302\u001b[39m Writer = \u001b[43mwriters\u001b[49m\u001b[43m[\u001b[49m\u001b[43mmpl\u001b[49m\u001b[43m.\u001b[49m\u001b[43mrcParams\u001b[49m\u001b[43m[\u001b[49m\u001b[33;43m'\u001b[39;49m\u001b[33;43manimation.writer\u001b[39;49m\u001b[33;43m'\u001b[39;49m\u001b[43m]\u001b[49m\u001b[43m]\u001b[49m\n\u001b[32m   1303\u001b[39m writer = Writer(codec=\u001b[33m'\u001b[39m\u001b[33mh264\u001b[39m\u001b[33m'\u001b[39m,\n\u001b[32m   1304\u001b[39m                 bitrate=mpl.rcParams[\u001b[33m'\u001b[39m\u001b[33manimation.bitrate\u001b[39m\u001b[33m'\u001b[39m],\n\u001b[32m   1305\u001b[39m                 fps=\u001b[32m1000.\u001b[39m / \u001b[38;5;28mself\u001b[39m._interval)\n\u001b[32m   1306\u001b[39m \u001b[38;5;28mself\u001b[39m.save(\u001b[38;5;28mstr\u001b[39m(path), writer=writer)\n",
      "\u001b[36mFile \u001b[39m\u001b[32m~/github/CS7320-AI/.venv/lib/python3.12/site-packages/matplotlib/animation.py:121\u001b[39m, in \u001b[36mMovieWriterRegistry.__getitem__\u001b[39m\u001b[34m(self, name)\u001b[39m\n\u001b[32m    119\u001b[39m \u001b[38;5;28;01mif\u001b[39;00m \u001b[38;5;28mself\u001b[39m.is_available(name):\n\u001b[32m    120\u001b[39m     \u001b[38;5;28;01mreturn\u001b[39;00m \u001b[38;5;28mself\u001b[39m._registered[name]\n\u001b[32m--> \u001b[39m\u001b[32m121\u001b[39m \u001b[38;5;28;01mraise\u001b[39;00m \u001b[38;5;167;01mRuntimeError\u001b[39;00m(\u001b[33mf\u001b[39m\u001b[33m\"\u001b[39m\u001b[33mRequested MovieWriter (\u001b[39m\u001b[38;5;132;01m{\u001b[39;00mname\u001b[38;5;132;01m}\u001b[39;00m\u001b[33m) not available\u001b[39m\u001b[33m\"\u001b[39m)\n",
      "\u001b[31mRuntimeError\u001b[39m: Requested MovieWriter (ffmpeg) not available"
     ]
    },
    {
     "data": {
      "text/plain": [
       "<matplotlib.animation.FuncAnimation at 0x75d67385ad50>"
      ]
     },
     "execution_count": 20,
     "metadata": {},
     "output_type": "execute_result"
    }
   ],
   "source": [
    "# Note: DFS uses LIFO so the directions come from the stack in reverse order!\n",
    "#tree_search.set_order(\"NESW\")\n",
    "tree_search.set_order(\"SENW\")\n",
    "#tree_search.set_order(\"WSEN\")\n",
    "#tree_search.set_order(random=True)\n",
    "\n",
    "%time result = best_first_search(maze, strategy = \"A*\", debug = False, vis = False, animation = True)\n",
    "\n",
    "animate_maze(result)"
   ]
  },
  {
   "cell_type": "code",
   "execution_count": 21,
   "metadata": {
    "tags": []
   },
   "outputs": [
    {
     "name": "stdout",
     "output_type": "stream",
     "text": [
      "Directions are checked in the order ['W', 'S', 'E', 'N']\n",
      "CPU times: user 31.9 ms, sys: 66 μs, total: 31.9 ms\n",
      "Wall time: 27.2 ms\n",
      "Path length: 54\n",
      "Reached squares: 216\n",
      "Action sequence: ['S', 'S', 'S', 'S', 'S', 'W', 'W', 'W', 'W', 'W', 'W', 'W', 'W', 'W', 'W', 'W', 'W', 'W', 'W', 'W', 'W', 'S', 'S', 'S', 'S', 'S', 'S', 'S', 'S', 'S', 'S', 'S', 'S', 'S', 'S', 'S', 'W', 'W', 'W', 'W', 'W', 'W', 'W', 'W', 'W', 'W', 'W', 'W', 'W', 'W', 'W', 'W', 'W', 'W']\n"
     ]
    },
    {
     "ename": "RuntimeError",
     "evalue": "Requested MovieWriter (ffmpeg) not available",
     "output_type": "error",
     "traceback": [
      "\u001b[31m---------------------------------------------------------------------------\u001b[39m",
      "\u001b[31mRuntimeError\u001b[39m                              Traceback (most recent call last)",
      "\u001b[36mFile \u001b[39m\u001b[32m~/github/CS7320-AI/.venv/lib/python3.12/site-packages/IPython/core/formatters.py:406\u001b[39m, in \u001b[36mBaseFormatter.__call__\u001b[39m\u001b[34m(self, obj)\u001b[39m\n\u001b[32m    404\u001b[39m     method = get_real_method(obj, \u001b[38;5;28mself\u001b[39m.print_method)\n\u001b[32m    405\u001b[39m     \u001b[38;5;28;01mif\u001b[39;00m method \u001b[38;5;129;01mis\u001b[39;00m \u001b[38;5;129;01mnot\u001b[39;00m \u001b[38;5;28;01mNone\u001b[39;00m:\n\u001b[32m--> \u001b[39m\u001b[32m406\u001b[39m         \u001b[38;5;28;01mreturn\u001b[39;00m \u001b[43mmethod\u001b[49m\u001b[43m(\u001b[49m\u001b[43m)\u001b[49m\n\u001b[32m    407\u001b[39m     \u001b[38;5;28;01mreturn\u001b[39;00m \u001b[38;5;28;01mNone\u001b[39;00m\n\u001b[32m    408\u001b[39m \u001b[38;5;28;01melse\u001b[39;00m:\n",
      "\u001b[36mFile \u001b[39m\u001b[32m~/github/CS7320-AI/.venv/lib/python3.12/site-packages/matplotlib/animation.py:1385\u001b[39m, in \u001b[36mAnimation._repr_html_\u001b[39m\u001b[34m(self)\u001b[39m\n\u001b[32m   1383\u001b[39m fmt = mpl.rcParams[\u001b[33m'\u001b[39m\u001b[33manimation.html\u001b[39m\u001b[33m'\u001b[39m]\n\u001b[32m   1384\u001b[39m \u001b[38;5;28;01mif\u001b[39;00m fmt == \u001b[33m'\u001b[39m\u001b[33mhtml5\u001b[39m\u001b[33m'\u001b[39m:\n\u001b[32m-> \u001b[39m\u001b[32m1385\u001b[39m     \u001b[38;5;28;01mreturn\u001b[39;00m \u001b[38;5;28;43mself\u001b[39;49m\u001b[43m.\u001b[49m\u001b[43mto_html5_video\u001b[49m\u001b[43m(\u001b[49m\u001b[43m)\u001b[49m\n\u001b[32m   1386\u001b[39m \u001b[38;5;28;01melif\u001b[39;00m fmt == \u001b[33m'\u001b[39m\u001b[33mjshtml\u001b[39m\u001b[33m'\u001b[39m:\n\u001b[32m   1387\u001b[39m     \u001b[38;5;28;01mreturn\u001b[39;00m \u001b[38;5;28mself\u001b[39m.to_jshtml()\n",
      "\u001b[36mFile \u001b[39m\u001b[32m~/github/CS7320-AI/.venv/lib/python3.12/site-packages/matplotlib/animation.py:1302\u001b[39m, in \u001b[36mAnimation.to_html5_video\u001b[39m\u001b[34m(self, embed_limit)\u001b[39m\n\u001b[32m   1299\u001b[39m path = Path(tmpdir, \u001b[33m\"\u001b[39m\u001b[33mtemp.m4v\u001b[39m\u001b[33m\"\u001b[39m)\n\u001b[32m   1300\u001b[39m \u001b[38;5;66;03m# We create a writer manually so that we can get the\u001b[39;00m\n\u001b[32m   1301\u001b[39m \u001b[38;5;66;03m# appropriate size for the tag\u001b[39;00m\n\u001b[32m-> \u001b[39m\u001b[32m1302\u001b[39m Writer = \u001b[43mwriters\u001b[49m\u001b[43m[\u001b[49m\u001b[43mmpl\u001b[49m\u001b[43m.\u001b[49m\u001b[43mrcParams\u001b[49m\u001b[43m[\u001b[49m\u001b[33;43m'\u001b[39;49m\u001b[33;43manimation.writer\u001b[39;49m\u001b[33;43m'\u001b[39;49m\u001b[43m]\u001b[49m\u001b[43m]\u001b[49m\n\u001b[32m   1303\u001b[39m writer = Writer(codec=\u001b[33m'\u001b[39m\u001b[33mh264\u001b[39m\u001b[33m'\u001b[39m,\n\u001b[32m   1304\u001b[39m                 bitrate=mpl.rcParams[\u001b[33m'\u001b[39m\u001b[33manimation.bitrate\u001b[39m\u001b[33m'\u001b[39m],\n\u001b[32m   1305\u001b[39m                 fps=\u001b[32m1000.\u001b[39m / \u001b[38;5;28mself\u001b[39m._interval)\n\u001b[32m   1306\u001b[39m \u001b[38;5;28mself\u001b[39m.save(\u001b[38;5;28mstr\u001b[39m(path), writer=writer)\n",
      "\u001b[36mFile \u001b[39m\u001b[32m~/github/CS7320-AI/.venv/lib/python3.12/site-packages/matplotlib/animation.py:121\u001b[39m, in \u001b[36mMovieWriterRegistry.__getitem__\u001b[39m\u001b[34m(self, name)\u001b[39m\n\u001b[32m    119\u001b[39m \u001b[38;5;28;01mif\u001b[39;00m \u001b[38;5;28mself\u001b[39m.is_available(name):\n\u001b[32m    120\u001b[39m     \u001b[38;5;28;01mreturn\u001b[39;00m \u001b[38;5;28mself\u001b[39m._registered[name]\n\u001b[32m--> \u001b[39m\u001b[32m121\u001b[39m \u001b[38;5;28;01mraise\u001b[39;00m \u001b[38;5;167;01mRuntimeError\u001b[39;00m(\u001b[33mf\u001b[39m\u001b[33m\"\u001b[39m\u001b[33mRequested MovieWriter (\u001b[39m\u001b[38;5;132;01m{\u001b[39;00mname\u001b[38;5;132;01m}\u001b[39;00m\u001b[33m) not available\u001b[39m\u001b[33m\"\u001b[39m)\n",
      "\u001b[31mRuntimeError\u001b[39m: Requested MovieWriter (ffmpeg) not available"
     ]
    },
    {
     "data": {
      "text/plain": [
       "<matplotlib.animation.FuncAnimation at 0x75d6735d87a0>"
      ]
     },
     "execution_count": 21,
     "metadata": {},
     "output_type": "execute_result"
    }
   ],
   "source": [
    "# Note: DFS uses LIFO so the directions come from the stack in reverse order!\n",
    "#tree_search.set_order(\"NESW\")\n",
    "#tree_search.set_order(\"SENW\")\n",
    "tree_search.set_order(\"WSEN\")\n",
    "#tree_search.set_order(random = True)\n",
    "\n",
    "%time result = best_first_search(maze, strategy = \"A*\", debug = False, vis = False, animation = True)\n",
    "\n",
    "animate_maze(result)"
   ]
  },
  {
   "cell_type": "code",
   "execution_count": 22,
   "metadata": {
    "tags": []
   },
   "outputs": [
    {
     "name": "stdout",
     "output_type": "stream",
     "text": [
      "Directions are checked at every step in random order.\n",
      "CPU times: user 21 ms, sys: 0 ns, total: 21 ms\n",
      "Wall time: 18 ms\n",
      "Path length: 54\n",
      "Reached squares: 194\n",
      "Action sequence: ['S', 'S', 'W', 'S', 'W', 'S', 'W', 'W', 'W', 'S', 'W', 'W', 'W', 'W', 'W', 'W', 'W', 'W', 'W', 'W', 'W', 'S', 'W', 'S', 'S', 'W', 'S', 'S', 'S', 'S', 'S', 'S', 'W', 'S', 'W', 'S', 'S', 'S', 'S', 'S', 'W', 'W', 'W', 'W', 'W', 'W', 'W', 'W', 'W', 'W', 'W', 'W', 'W', 'W']\n"
     ]
    },
    {
     "ename": "RuntimeError",
     "evalue": "Requested MovieWriter (ffmpeg) not available",
     "output_type": "error",
     "traceback": [
      "\u001b[31m---------------------------------------------------------------------------\u001b[39m",
      "\u001b[31mRuntimeError\u001b[39m                              Traceback (most recent call last)",
      "\u001b[36mFile \u001b[39m\u001b[32m~/github/CS7320-AI/.venv/lib/python3.12/site-packages/IPython/core/formatters.py:406\u001b[39m, in \u001b[36mBaseFormatter.__call__\u001b[39m\u001b[34m(self, obj)\u001b[39m\n\u001b[32m    404\u001b[39m     method = get_real_method(obj, \u001b[38;5;28mself\u001b[39m.print_method)\n\u001b[32m    405\u001b[39m     \u001b[38;5;28;01mif\u001b[39;00m method \u001b[38;5;129;01mis\u001b[39;00m \u001b[38;5;129;01mnot\u001b[39;00m \u001b[38;5;28;01mNone\u001b[39;00m:\n\u001b[32m--> \u001b[39m\u001b[32m406\u001b[39m         \u001b[38;5;28;01mreturn\u001b[39;00m \u001b[43mmethod\u001b[49m\u001b[43m(\u001b[49m\u001b[43m)\u001b[49m\n\u001b[32m    407\u001b[39m     \u001b[38;5;28;01mreturn\u001b[39;00m \u001b[38;5;28;01mNone\u001b[39;00m\n\u001b[32m    408\u001b[39m \u001b[38;5;28;01melse\u001b[39;00m:\n",
      "\u001b[36mFile \u001b[39m\u001b[32m~/github/CS7320-AI/.venv/lib/python3.12/site-packages/matplotlib/animation.py:1385\u001b[39m, in \u001b[36mAnimation._repr_html_\u001b[39m\u001b[34m(self)\u001b[39m\n\u001b[32m   1383\u001b[39m fmt = mpl.rcParams[\u001b[33m'\u001b[39m\u001b[33manimation.html\u001b[39m\u001b[33m'\u001b[39m]\n\u001b[32m   1384\u001b[39m \u001b[38;5;28;01mif\u001b[39;00m fmt == \u001b[33m'\u001b[39m\u001b[33mhtml5\u001b[39m\u001b[33m'\u001b[39m:\n\u001b[32m-> \u001b[39m\u001b[32m1385\u001b[39m     \u001b[38;5;28;01mreturn\u001b[39;00m \u001b[38;5;28;43mself\u001b[39;49m\u001b[43m.\u001b[49m\u001b[43mto_html5_video\u001b[49m\u001b[43m(\u001b[49m\u001b[43m)\u001b[49m\n\u001b[32m   1386\u001b[39m \u001b[38;5;28;01melif\u001b[39;00m fmt == \u001b[33m'\u001b[39m\u001b[33mjshtml\u001b[39m\u001b[33m'\u001b[39m:\n\u001b[32m   1387\u001b[39m     \u001b[38;5;28;01mreturn\u001b[39;00m \u001b[38;5;28mself\u001b[39m.to_jshtml()\n",
      "\u001b[36mFile \u001b[39m\u001b[32m~/github/CS7320-AI/.venv/lib/python3.12/site-packages/matplotlib/animation.py:1302\u001b[39m, in \u001b[36mAnimation.to_html5_video\u001b[39m\u001b[34m(self, embed_limit)\u001b[39m\n\u001b[32m   1299\u001b[39m path = Path(tmpdir, \u001b[33m\"\u001b[39m\u001b[33mtemp.m4v\u001b[39m\u001b[33m\"\u001b[39m)\n\u001b[32m   1300\u001b[39m \u001b[38;5;66;03m# We create a writer manually so that we can get the\u001b[39;00m\n\u001b[32m   1301\u001b[39m \u001b[38;5;66;03m# appropriate size for the tag\u001b[39;00m\n\u001b[32m-> \u001b[39m\u001b[32m1302\u001b[39m Writer = \u001b[43mwriters\u001b[49m\u001b[43m[\u001b[49m\u001b[43mmpl\u001b[49m\u001b[43m.\u001b[49m\u001b[43mrcParams\u001b[49m\u001b[43m[\u001b[49m\u001b[33;43m'\u001b[39;49m\u001b[33;43manimation.writer\u001b[39;49m\u001b[33;43m'\u001b[39;49m\u001b[43m]\u001b[49m\u001b[43m]\u001b[49m\n\u001b[32m   1303\u001b[39m writer = Writer(codec=\u001b[33m'\u001b[39m\u001b[33mh264\u001b[39m\u001b[33m'\u001b[39m,\n\u001b[32m   1304\u001b[39m                 bitrate=mpl.rcParams[\u001b[33m'\u001b[39m\u001b[33manimation.bitrate\u001b[39m\u001b[33m'\u001b[39m],\n\u001b[32m   1305\u001b[39m                 fps=\u001b[32m1000.\u001b[39m / \u001b[38;5;28mself\u001b[39m._interval)\n\u001b[32m   1306\u001b[39m \u001b[38;5;28mself\u001b[39m.save(\u001b[38;5;28mstr\u001b[39m(path), writer=writer)\n",
      "\u001b[36mFile \u001b[39m\u001b[32m~/github/CS7320-AI/.venv/lib/python3.12/site-packages/matplotlib/animation.py:121\u001b[39m, in \u001b[36mMovieWriterRegistry.__getitem__\u001b[39m\u001b[34m(self, name)\u001b[39m\n\u001b[32m    119\u001b[39m \u001b[38;5;28;01mif\u001b[39;00m \u001b[38;5;28mself\u001b[39m.is_available(name):\n\u001b[32m    120\u001b[39m     \u001b[38;5;28;01mreturn\u001b[39;00m \u001b[38;5;28mself\u001b[39m._registered[name]\n\u001b[32m--> \u001b[39m\u001b[32m121\u001b[39m \u001b[38;5;28;01mraise\u001b[39;00m \u001b[38;5;167;01mRuntimeError\u001b[39;00m(\u001b[33mf\u001b[39m\u001b[33m\"\u001b[39m\u001b[33mRequested MovieWriter (\u001b[39m\u001b[38;5;132;01m{\u001b[39;00mname\u001b[38;5;132;01m}\u001b[39;00m\u001b[33m) not available\u001b[39m\u001b[33m\"\u001b[39m)\n",
      "\u001b[31mRuntimeError\u001b[39m: Requested MovieWriter (ffmpeg) not available"
     ]
    },
    {
     "data": {
      "text/plain": [
       "<matplotlib.animation.FuncAnimation at 0x75d673887860>"
      ]
     },
     "execution_count": 22,
     "metadata": {},
     "output_type": "execute_result"
    }
   ],
   "source": [
    "# Note: DFS uses LIFO so the directions come from the stack in reverse order!\n",
    "#tree_search.set_order(\"NESW\")\n",
    "#tree_search.set_order(\"SENW\")\n",
    "#tree_search.set_order(\"WSEN\")\n",
    "tree_search.set_order(random = True)\n",
    "\n",
    "%time result = best_first_search(maze, strategy = \"A*\", debug = False, vis = False, animation = True)\n",
    "\n",
    "animate_maze(result)"
   ]
  },
  {
   "cell_type": "markdown",
   "metadata": {},
   "source": [
    "### Weighted A* Search"
   ]
  },
  {
   "cell_type": "markdown",
   "metadata": {
    "tags": []
   },
   "source": [
    "$W > 1$ tends towards GBFS (optimality is not guaranteed)"
   ]
  },
  {
   "cell_type": "code",
   "execution_count": 23,
   "metadata": {},
   "outputs": [
    {
     "name": "stdout",
     "output_type": "stream",
     "text": [
      "Directions are checked at every step in random order.\n",
      "CPU times: user 26.1 ms, sys: 4.37 ms, total: 30.4 ms\n",
      "Wall time: 28.5 ms\n",
      "Path length: 54\n",
      "Reached squares: 184\n",
      "Action sequence: ['W', 'W', 'W', 'W', 'S', 'S', 'S', 'S', 'W', 'S', 'W', 'W', 'W', 'W', 'W', 'W', 'W', 'W', 'W', 'W', 'W', 'W', 'W', 'W', 'W', 'W', 'S', 'S', 'S', 'S', 'S', 'S', 'S', 'S', 'S', 'S', 'S', 'S', 'W', 'W', 'S', 'W', 'W', 'S', 'S', 'W', 'W', 'W', 'W', 'W', 'W', 'W', 'W', 'W']\n"
     ]
    },
    {
     "ename": "RuntimeError",
     "evalue": "Requested MovieWriter (ffmpeg) not available",
     "output_type": "error",
     "traceback": [
      "\u001b[31m---------------------------------------------------------------------------\u001b[39m",
      "\u001b[31mRuntimeError\u001b[39m                              Traceback (most recent call last)",
      "\u001b[36mFile \u001b[39m\u001b[32m~/github/CS7320-AI/.venv/lib/python3.12/site-packages/IPython/core/formatters.py:406\u001b[39m, in \u001b[36mBaseFormatter.__call__\u001b[39m\u001b[34m(self, obj)\u001b[39m\n\u001b[32m    404\u001b[39m     method = get_real_method(obj, \u001b[38;5;28mself\u001b[39m.print_method)\n\u001b[32m    405\u001b[39m     \u001b[38;5;28;01mif\u001b[39;00m method \u001b[38;5;129;01mis\u001b[39;00m \u001b[38;5;129;01mnot\u001b[39;00m \u001b[38;5;28;01mNone\u001b[39;00m:\n\u001b[32m--> \u001b[39m\u001b[32m406\u001b[39m         \u001b[38;5;28;01mreturn\u001b[39;00m \u001b[43mmethod\u001b[49m\u001b[43m(\u001b[49m\u001b[43m)\u001b[49m\n\u001b[32m    407\u001b[39m     \u001b[38;5;28;01mreturn\u001b[39;00m \u001b[38;5;28;01mNone\u001b[39;00m\n\u001b[32m    408\u001b[39m \u001b[38;5;28;01melse\u001b[39;00m:\n",
      "\u001b[36mFile \u001b[39m\u001b[32m~/github/CS7320-AI/.venv/lib/python3.12/site-packages/matplotlib/animation.py:1385\u001b[39m, in \u001b[36mAnimation._repr_html_\u001b[39m\u001b[34m(self)\u001b[39m\n\u001b[32m   1383\u001b[39m fmt = mpl.rcParams[\u001b[33m'\u001b[39m\u001b[33manimation.html\u001b[39m\u001b[33m'\u001b[39m]\n\u001b[32m   1384\u001b[39m \u001b[38;5;28;01mif\u001b[39;00m fmt == \u001b[33m'\u001b[39m\u001b[33mhtml5\u001b[39m\u001b[33m'\u001b[39m:\n\u001b[32m-> \u001b[39m\u001b[32m1385\u001b[39m     \u001b[38;5;28;01mreturn\u001b[39;00m \u001b[38;5;28;43mself\u001b[39;49m\u001b[43m.\u001b[49m\u001b[43mto_html5_video\u001b[49m\u001b[43m(\u001b[49m\u001b[43m)\u001b[49m\n\u001b[32m   1386\u001b[39m \u001b[38;5;28;01melif\u001b[39;00m fmt == \u001b[33m'\u001b[39m\u001b[33mjshtml\u001b[39m\u001b[33m'\u001b[39m:\n\u001b[32m   1387\u001b[39m     \u001b[38;5;28;01mreturn\u001b[39;00m \u001b[38;5;28mself\u001b[39m.to_jshtml()\n",
      "\u001b[36mFile \u001b[39m\u001b[32m~/github/CS7320-AI/.venv/lib/python3.12/site-packages/matplotlib/animation.py:1302\u001b[39m, in \u001b[36mAnimation.to_html5_video\u001b[39m\u001b[34m(self, embed_limit)\u001b[39m\n\u001b[32m   1299\u001b[39m path = Path(tmpdir, \u001b[33m\"\u001b[39m\u001b[33mtemp.m4v\u001b[39m\u001b[33m\"\u001b[39m)\n\u001b[32m   1300\u001b[39m \u001b[38;5;66;03m# We create a writer manually so that we can get the\u001b[39;00m\n\u001b[32m   1301\u001b[39m \u001b[38;5;66;03m# appropriate size for the tag\u001b[39;00m\n\u001b[32m-> \u001b[39m\u001b[32m1302\u001b[39m Writer = \u001b[43mwriters\u001b[49m\u001b[43m[\u001b[49m\u001b[43mmpl\u001b[49m\u001b[43m.\u001b[49m\u001b[43mrcParams\u001b[49m\u001b[43m[\u001b[49m\u001b[33;43m'\u001b[39;49m\u001b[33;43manimation.writer\u001b[39;49m\u001b[33;43m'\u001b[39;49m\u001b[43m]\u001b[49m\u001b[43m]\u001b[49m\n\u001b[32m   1303\u001b[39m writer = Writer(codec=\u001b[33m'\u001b[39m\u001b[33mh264\u001b[39m\u001b[33m'\u001b[39m,\n\u001b[32m   1304\u001b[39m                 bitrate=mpl.rcParams[\u001b[33m'\u001b[39m\u001b[33manimation.bitrate\u001b[39m\u001b[33m'\u001b[39m],\n\u001b[32m   1305\u001b[39m                 fps=\u001b[32m1000.\u001b[39m / \u001b[38;5;28mself\u001b[39m._interval)\n\u001b[32m   1306\u001b[39m \u001b[38;5;28mself\u001b[39m.save(\u001b[38;5;28mstr\u001b[39m(path), writer=writer)\n",
      "\u001b[36mFile \u001b[39m\u001b[32m~/github/CS7320-AI/.venv/lib/python3.12/site-packages/matplotlib/animation.py:121\u001b[39m, in \u001b[36mMovieWriterRegistry.__getitem__\u001b[39m\u001b[34m(self, name)\u001b[39m\n\u001b[32m    119\u001b[39m \u001b[38;5;28;01mif\u001b[39;00m \u001b[38;5;28mself\u001b[39m.is_available(name):\n\u001b[32m    120\u001b[39m     \u001b[38;5;28;01mreturn\u001b[39;00m \u001b[38;5;28mself\u001b[39m._registered[name]\n\u001b[32m--> \u001b[39m\u001b[32m121\u001b[39m \u001b[38;5;28;01mraise\u001b[39;00m \u001b[38;5;167;01mRuntimeError\u001b[39;00m(\u001b[33mf\u001b[39m\u001b[33m\"\u001b[39m\u001b[33mRequested MovieWriter (\u001b[39m\u001b[38;5;132;01m{\u001b[39;00mname\u001b[38;5;132;01m}\u001b[39;00m\u001b[33m) not available\u001b[39m\u001b[33m\"\u001b[39m)\n",
      "\u001b[31mRuntimeError\u001b[39m: Requested MovieWriter (ffmpeg) not available"
     ]
    },
    {
     "data": {
      "text/plain": [
       "<matplotlib.animation.FuncAnimation at 0x75d673645730>"
      ]
     },
     "execution_count": 23,
     "metadata": {},
     "output_type": "execute_result"
    }
   ],
   "source": [
    "tree_search.set_order(random=True)\n",
    "\n",
    "%time result = best_first_search(maze, strategy = \"A*\", W = 1+1e-9, debug = False, vis = False, animation = True)\n",
    "\n",
    "animate_maze(result)"
   ]
  },
  {
   "cell_type": "code",
   "execution_count": 24,
   "metadata": {},
   "outputs": [
    {
     "name": "stdout",
     "output_type": "stream",
     "text": [
      "CPU times: user 33.4 ms, sys: 145 μs, total: 33.6 ms\n",
      "Wall time: 29.1 ms\n",
      "Path length: 60\n",
      "Reached squares: 176\n",
      "Action sequence: ['S', 'S', 'S', 'W', 'W', 'S', 'W', 'S', 'W', 'S', 'S', 'W', 'S', 'W', 'W', 'W', 'W', 'W', 'W', 'W', 'W', 'W', 'N', 'N', 'N', 'W', 'W', 'W', 'W', 'S', 'S', 'S', 'W', 'S', 'S', 'W', 'W', 'S', 'S', 'S', 'S', 'S', 'S', 'S', 'S', 'W', 'S', 'S', 'W', 'W', 'W', 'W', 'W', 'W', 'W', 'W', 'W', 'W', 'W', 'W']\n"
     ]
    },
    {
     "ename": "RuntimeError",
     "evalue": "Requested MovieWriter (ffmpeg) not available",
     "output_type": "error",
     "traceback": [
      "\u001b[31m---------------------------------------------------------------------------\u001b[39m",
      "\u001b[31mRuntimeError\u001b[39m                              Traceback (most recent call last)",
      "\u001b[36mFile \u001b[39m\u001b[32m~/github/CS7320-AI/.venv/lib/python3.12/site-packages/IPython/core/formatters.py:406\u001b[39m, in \u001b[36mBaseFormatter.__call__\u001b[39m\u001b[34m(self, obj)\u001b[39m\n\u001b[32m    404\u001b[39m     method = get_real_method(obj, \u001b[38;5;28mself\u001b[39m.print_method)\n\u001b[32m    405\u001b[39m     \u001b[38;5;28;01mif\u001b[39;00m method \u001b[38;5;129;01mis\u001b[39;00m \u001b[38;5;129;01mnot\u001b[39;00m \u001b[38;5;28;01mNone\u001b[39;00m:\n\u001b[32m--> \u001b[39m\u001b[32m406\u001b[39m         \u001b[38;5;28;01mreturn\u001b[39;00m \u001b[43mmethod\u001b[49m\u001b[43m(\u001b[49m\u001b[43m)\u001b[49m\n\u001b[32m    407\u001b[39m     \u001b[38;5;28;01mreturn\u001b[39;00m \u001b[38;5;28;01mNone\u001b[39;00m\n\u001b[32m    408\u001b[39m \u001b[38;5;28;01melse\u001b[39;00m:\n",
      "\u001b[36mFile \u001b[39m\u001b[32m~/github/CS7320-AI/.venv/lib/python3.12/site-packages/matplotlib/animation.py:1385\u001b[39m, in \u001b[36mAnimation._repr_html_\u001b[39m\u001b[34m(self)\u001b[39m\n\u001b[32m   1383\u001b[39m fmt = mpl.rcParams[\u001b[33m'\u001b[39m\u001b[33manimation.html\u001b[39m\u001b[33m'\u001b[39m]\n\u001b[32m   1384\u001b[39m \u001b[38;5;28;01mif\u001b[39;00m fmt == \u001b[33m'\u001b[39m\u001b[33mhtml5\u001b[39m\u001b[33m'\u001b[39m:\n\u001b[32m-> \u001b[39m\u001b[32m1385\u001b[39m     \u001b[38;5;28;01mreturn\u001b[39;00m \u001b[38;5;28;43mself\u001b[39;49m\u001b[43m.\u001b[49m\u001b[43mto_html5_video\u001b[49m\u001b[43m(\u001b[49m\u001b[43m)\u001b[49m\n\u001b[32m   1386\u001b[39m \u001b[38;5;28;01melif\u001b[39;00m fmt == \u001b[33m'\u001b[39m\u001b[33mjshtml\u001b[39m\u001b[33m'\u001b[39m:\n\u001b[32m   1387\u001b[39m     \u001b[38;5;28;01mreturn\u001b[39;00m \u001b[38;5;28mself\u001b[39m.to_jshtml()\n",
      "\u001b[36mFile \u001b[39m\u001b[32m~/github/CS7320-AI/.venv/lib/python3.12/site-packages/matplotlib/animation.py:1302\u001b[39m, in \u001b[36mAnimation.to_html5_video\u001b[39m\u001b[34m(self, embed_limit)\u001b[39m\n\u001b[32m   1299\u001b[39m path = Path(tmpdir, \u001b[33m\"\u001b[39m\u001b[33mtemp.m4v\u001b[39m\u001b[33m\"\u001b[39m)\n\u001b[32m   1300\u001b[39m \u001b[38;5;66;03m# We create a writer manually so that we can get the\u001b[39;00m\n\u001b[32m   1301\u001b[39m \u001b[38;5;66;03m# appropriate size for the tag\u001b[39;00m\n\u001b[32m-> \u001b[39m\u001b[32m1302\u001b[39m Writer = \u001b[43mwriters\u001b[49m\u001b[43m[\u001b[49m\u001b[43mmpl\u001b[49m\u001b[43m.\u001b[49m\u001b[43mrcParams\u001b[49m\u001b[43m[\u001b[49m\u001b[33;43m'\u001b[39;49m\u001b[33;43manimation.writer\u001b[39;49m\u001b[33;43m'\u001b[39;49m\u001b[43m]\u001b[49m\u001b[43m]\u001b[49m\n\u001b[32m   1303\u001b[39m writer = Writer(codec=\u001b[33m'\u001b[39m\u001b[33mh264\u001b[39m\u001b[33m'\u001b[39m,\n\u001b[32m   1304\u001b[39m                 bitrate=mpl.rcParams[\u001b[33m'\u001b[39m\u001b[33manimation.bitrate\u001b[39m\u001b[33m'\u001b[39m],\n\u001b[32m   1305\u001b[39m                 fps=\u001b[32m1000.\u001b[39m / \u001b[38;5;28mself\u001b[39m._interval)\n\u001b[32m   1306\u001b[39m \u001b[38;5;28mself\u001b[39m.save(\u001b[38;5;28mstr\u001b[39m(path), writer=writer)\n",
      "\u001b[36mFile \u001b[39m\u001b[32m~/github/CS7320-AI/.venv/lib/python3.12/site-packages/matplotlib/animation.py:121\u001b[39m, in \u001b[36mMovieWriterRegistry.__getitem__\u001b[39m\u001b[34m(self, name)\u001b[39m\n\u001b[32m    119\u001b[39m \u001b[38;5;28;01mif\u001b[39;00m \u001b[38;5;28mself\u001b[39m.is_available(name):\n\u001b[32m    120\u001b[39m     \u001b[38;5;28;01mreturn\u001b[39;00m \u001b[38;5;28mself\u001b[39m._registered[name]\n\u001b[32m--> \u001b[39m\u001b[32m121\u001b[39m \u001b[38;5;28;01mraise\u001b[39;00m \u001b[38;5;167;01mRuntimeError\u001b[39;00m(\u001b[33mf\u001b[39m\u001b[33m\"\u001b[39m\u001b[33mRequested MovieWriter (\u001b[39m\u001b[38;5;132;01m{\u001b[39;00mname\u001b[38;5;132;01m}\u001b[39;00m\u001b[33m) not available\u001b[39m\u001b[33m\"\u001b[39m)\n",
      "\u001b[31mRuntimeError\u001b[39m: Requested MovieWriter (ffmpeg) not available"
     ]
    },
    {
     "data": {
      "text/plain": [
       "<matplotlib.animation.FuncAnimation at 0x75d6736468d0>"
      ]
     },
     "execution_count": 24,
     "metadata": {},
     "output_type": "execute_result"
    }
   ],
   "source": [
    "%time result = best_first_search(maze, strategy = \"A*\", W = 2, debug = False, vis = False, animation = True)\n",
    "\n",
    "animate_maze(result)"
   ]
  },
  {
   "cell_type": "code",
   "execution_count": 25,
   "metadata": {},
   "outputs": [
    {
     "name": "stdout",
     "output_type": "stream",
     "text": [
      "CPU times: user 20.8 ms, sys: 175 μs, total: 21 ms\n",
      "Wall time: 16.7 ms\n",
      "Path length: 60\n",
      "Reached squares: 161\n",
      "Action sequence: ['S', 'W', 'W', 'S', 'W', 'S', 'S', 'S', 'W', 'S', 'W', 'W', 'W', 'W', 'S', 'W', 'S', 'W', 'W', 'W', 'W', 'W', 'N', 'N', 'N', 'W', 'W', 'S', 'S', 'S', 'W', 'W', 'S', 'S', 'W', 'W', 'S', 'S', 'S', 'S', 'S', 'W', 'S', 'S', 'W', 'S', 'S', 'W', 'W', 'W', 'W', 'S', 'W', 'W', 'W', 'W', 'W', 'W', 'W', 'W']\n"
     ]
    },
    {
     "ename": "RuntimeError",
     "evalue": "Requested MovieWriter (ffmpeg) not available",
     "output_type": "error",
     "traceback": [
      "\u001b[31m---------------------------------------------------------------------------\u001b[39m",
      "\u001b[31mRuntimeError\u001b[39m                              Traceback (most recent call last)",
      "\u001b[36mFile \u001b[39m\u001b[32m~/github/CS7320-AI/.venv/lib/python3.12/site-packages/IPython/core/formatters.py:406\u001b[39m, in \u001b[36mBaseFormatter.__call__\u001b[39m\u001b[34m(self, obj)\u001b[39m\n\u001b[32m    404\u001b[39m     method = get_real_method(obj, \u001b[38;5;28mself\u001b[39m.print_method)\n\u001b[32m    405\u001b[39m     \u001b[38;5;28;01mif\u001b[39;00m method \u001b[38;5;129;01mis\u001b[39;00m \u001b[38;5;129;01mnot\u001b[39;00m \u001b[38;5;28;01mNone\u001b[39;00m:\n\u001b[32m--> \u001b[39m\u001b[32m406\u001b[39m         \u001b[38;5;28;01mreturn\u001b[39;00m \u001b[43mmethod\u001b[49m\u001b[43m(\u001b[49m\u001b[43m)\u001b[49m\n\u001b[32m    407\u001b[39m     \u001b[38;5;28;01mreturn\u001b[39;00m \u001b[38;5;28;01mNone\u001b[39;00m\n\u001b[32m    408\u001b[39m \u001b[38;5;28;01melse\u001b[39;00m:\n",
      "\u001b[36mFile \u001b[39m\u001b[32m~/github/CS7320-AI/.venv/lib/python3.12/site-packages/matplotlib/animation.py:1385\u001b[39m, in \u001b[36mAnimation._repr_html_\u001b[39m\u001b[34m(self)\u001b[39m\n\u001b[32m   1383\u001b[39m fmt = mpl.rcParams[\u001b[33m'\u001b[39m\u001b[33manimation.html\u001b[39m\u001b[33m'\u001b[39m]\n\u001b[32m   1384\u001b[39m \u001b[38;5;28;01mif\u001b[39;00m fmt == \u001b[33m'\u001b[39m\u001b[33mhtml5\u001b[39m\u001b[33m'\u001b[39m:\n\u001b[32m-> \u001b[39m\u001b[32m1385\u001b[39m     \u001b[38;5;28;01mreturn\u001b[39;00m \u001b[38;5;28;43mself\u001b[39;49m\u001b[43m.\u001b[49m\u001b[43mto_html5_video\u001b[49m\u001b[43m(\u001b[49m\u001b[43m)\u001b[49m\n\u001b[32m   1386\u001b[39m \u001b[38;5;28;01melif\u001b[39;00m fmt == \u001b[33m'\u001b[39m\u001b[33mjshtml\u001b[39m\u001b[33m'\u001b[39m:\n\u001b[32m   1387\u001b[39m     \u001b[38;5;28;01mreturn\u001b[39;00m \u001b[38;5;28mself\u001b[39m.to_jshtml()\n",
      "\u001b[36mFile \u001b[39m\u001b[32m~/github/CS7320-AI/.venv/lib/python3.12/site-packages/matplotlib/animation.py:1302\u001b[39m, in \u001b[36mAnimation.to_html5_video\u001b[39m\u001b[34m(self, embed_limit)\u001b[39m\n\u001b[32m   1299\u001b[39m path = Path(tmpdir, \u001b[33m\"\u001b[39m\u001b[33mtemp.m4v\u001b[39m\u001b[33m\"\u001b[39m)\n\u001b[32m   1300\u001b[39m \u001b[38;5;66;03m# We create a writer manually so that we can get the\u001b[39;00m\n\u001b[32m   1301\u001b[39m \u001b[38;5;66;03m# appropriate size for the tag\u001b[39;00m\n\u001b[32m-> \u001b[39m\u001b[32m1302\u001b[39m Writer = \u001b[43mwriters\u001b[49m\u001b[43m[\u001b[49m\u001b[43mmpl\u001b[49m\u001b[43m.\u001b[49m\u001b[43mrcParams\u001b[49m\u001b[43m[\u001b[49m\u001b[33;43m'\u001b[39;49m\u001b[33;43manimation.writer\u001b[39;49m\u001b[33;43m'\u001b[39;49m\u001b[43m]\u001b[49m\u001b[43m]\u001b[49m\n\u001b[32m   1303\u001b[39m writer = Writer(codec=\u001b[33m'\u001b[39m\u001b[33mh264\u001b[39m\u001b[33m'\u001b[39m,\n\u001b[32m   1304\u001b[39m                 bitrate=mpl.rcParams[\u001b[33m'\u001b[39m\u001b[33manimation.bitrate\u001b[39m\u001b[33m'\u001b[39m],\n\u001b[32m   1305\u001b[39m                 fps=\u001b[32m1000.\u001b[39m / \u001b[38;5;28mself\u001b[39m._interval)\n\u001b[32m   1306\u001b[39m \u001b[38;5;28mself\u001b[39m.save(\u001b[38;5;28mstr\u001b[39m(path), writer=writer)\n",
      "\u001b[36mFile \u001b[39m\u001b[32m~/github/CS7320-AI/.venv/lib/python3.12/site-packages/matplotlib/animation.py:121\u001b[39m, in \u001b[36mMovieWriterRegistry.__getitem__\u001b[39m\u001b[34m(self, name)\u001b[39m\n\u001b[32m    119\u001b[39m \u001b[38;5;28;01mif\u001b[39;00m \u001b[38;5;28mself\u001b[39m.is_available(name):\n\u001b[32m    120\u001b[39m     \u001b[38;5;28;01mreturn\u001b[39;00m \u001b[38;5;28mself\u001b[39m._registered[name]\n\u001b[32m--> \u001b[39m\u001b[32m121\u001b[39m \u001b[38;5;28;01mraise\u001b[39;00m \u001b[38;5;167;01mRuntimeError\u001b[39;00m(\u001b[33mf\u001b[39m\u001b[33m\"\u001b[39m\u001b[33mRequested MovieWriter (\u001b[39m\u001b[38;5;132;01m{\u001b[39;00mname\u001b[38;5;132;01m}\u001b[39;00m\u001b[33m) not available\u001b[39m\u001b[33m\"\u001b[39m)\n",
      "\u001b[31mRuntimeError\u001b[39m: Requested MovieWriter (ffmpeg) not available"
     ]
    },
    {
     "data": {
      "text/plain": [
       "<matplotlib.animation.FuncAnimation at 0x75d6733d7440>"
      ]
     },
     "execution_count": 25,
     "metadata": {},
     "output_type": "execute_result"
    }
   ],
   "source": [
    "%time result = best_first_search(maze, strategy = \"A*\", W = 1000, debug = False, vis = False, animation = True)\n",
    "\n",
    "animate_maze(result)"
   ]
  },
  {
   "cell_type": "markdown",
   "metadata": {},
   "source": [
    "$W<1$ tends towards Uniform-Cost Search/BFS (optimality is guaranteed)"
   ]
  },
  {
   "cell_type": "code",
   "execution_count": 26,
   "metadata": {},
   "outputs": [
    {
     "name": "stdout",
     "output_type": "stream",
     "text": [
      "CPU times: user 93.4 ms, sys: 4.45 ms, total: 97.8 ms\n",
      "Wall time: 86.4 ms\n",
      "Path length: 54\n",
      "Reached squares: 554\n",
      "Action sequence: ['W', 'W', 'W', 'W', 'W', 'W', 'W', 'W', 'W', 'W', 'W', 'S', 'W', 'S', 'W', 'S', 'W', 'S', 'W', 'S', 'W', 'S', 'S', 'S', 'S', 'S', 'S', 'S', 'S', 'W', 'S', 'W', 'S', 'W', 'S', 'W', 'S', 'W', 'W', 'W', 'W', 'W', 'W', 'W', 'W', 'W', 'W', 'W', 'W', 'S', 'W', 'S', 'W', 'S']\n"
     ]
    },
    {
     "ename": "RuntimeError",
     "evalue": "Requested MovieWriter (ffmpeg) not available",
     "output_type": "error",
     "traceback": [
      "\u001b[31m---------------------------------------------------------------------------\u001b[39m",
      "\u001b[31mRuntimeError\u001b[39m                              Traceback (most recent call last)",
      "\u001b[36mFile \u001b[39m\u001b[32m~/github/CS7320-AI/.venv/lib/python3.12/site-packages/IPython/core/formatters.py:406\u001b[39m, in \u001b[36mBaseFormatter.__call__\u001b[39m\u001b[34m(self, obj)\u001b[39m\n\u001b[32m    404\u001b[39m     method = get_real_method(obj, \u001b[38;5;28mself\u001b[39m.print_method)\n\u001b[32m    405\u001b[39m     \u001b[38;5;28;01mif\u001b[39;00m method \u001b[38;5;129;01mis\u001b[39;00m \u001b[38;5;129;01mnot\u001b[39;00m \u001b[38;5;28;01mNone\u001b[39;00m:\n\u001b[32m--> \u001b[39m\u001b[32m406\u001b[39m         \u001b[38;5;28;01mreturn\u001b[39;00m \u001b[43mmethod\u001b[49m\u001b[43m(\u001b[49m\u001b[43m)\u001b[49m\n\u001b[32m    407\u001b[39m     \u001b[38;5;28;01mreturn\u001b[39;00m \u001b[38;5;28;01mNone\u001b[39;00m\n\u001b[32m    408\u001b[39m \u001b[38;5;28;01melse\u001b[39;00m:\n",
      "\u001b[36mFile \u001b[39m\u001b[32m~/github/CS7320-AI/.venv/lib/python3.12/site-packages/matplotlib/animation.py:1385\u001b[39m, in \u001b[36mAnimation._repr_html_\u001b[39m\u001b[34m(self)\u001b[39m\n\u001b[32m   1383\u001b[39m fmt = mpl.rcParams[\u001b[33m'\u001b[39m\u001b[33manimation.html\u001b[39m\u001b[33m'\u001b[39m]\n\u001b[32m   1384\u001b[39m \u001b[38;5;28;01mif\u001b[39;00m fmt == \u001b[33m'\u001b[39m\u001b[33mhtml5\u001b[39m\u001b[33m'\u001b[39m:\n\u001b[32m-> \u001b[39m\u001b[32m1385\u001b[39m     \u001b[38;5;28;01mreturn\u001b[39;00m \u001b[38;5;28;43mself\u001b[39;49m\u001b[43m.\u001b[49m\u001b[43mto_html5_video\u001b[49m\u001b[43m(\u001b[49m\u001b[43m)\u001b[49m\n\u001b[32m   1386\u001b[39m \u001b[38;5;28;01melif\u001b[39;00m fmt == \u001b[33m'\u001b[39m\u001b[33mjshtml\u001b[39m\u001b[33m'\u001b[39m:\n\u001b[32m   1387\u001b[39m     \u001b[38;5;28;01mreturn\u001b[39;00m \u001b[38;5;28mself\u001b[39m.to_jshtml()\n",
      "\u001b[36mFile \u001b[39m\u001b[32m~/github/CS7320-AI/.venv/lib/python3.12/site-packages/matplotlib/animation.py:1302\u001b[39m, in \u001b[36mAnimation.to_html5_video\u001b[39m\u001b[34m(self, embed_limit)\u001b[39m\n\u001b[32m   1299\u001b[39m path = Path(tmpdir, \u001b[33m\"\u001b[39m\u001b[33mtemp.m4v\u001b[39m\u001b[33m\"\u001b[39m)\n\u001b[32m   1300\u001b[39m \u001b[38;5;66;03m# We create a writer manually so that we can get the\u001b[39;00m\n\u001b[32m   1301\u001b[39m \u001b[38;5;66;03m# appropriate size for the tag\u001b[39;00m\n\u001b[32m-> \u001b[39m\u001b[32m1302\u001b[39m Writer = \u001b[43mwriters\u001b[49m\u001b[43m[\u001b[49m\u001b[43mmpl\u001b[49m\u001b[43m.\u001b[49m\u001b[43mrcParams\u001b[49m\u001b[43m[\u001b[49m\u001b[33;43m'\u001b[39;49m\u001b[33;43manimation.writer\u001b[39;49m\u001b[33;43m'\u001b[39;49m\u001b[43m]\u001b[49m\u001b[43m]\u001b[49m\n\u001b[32m   1303\u001b[39m writer = Writer(codec=\u001b[33m'\u001b[39m\u001b[33mh264\u001b[39m\u001b[33m'\u001b[39m,\n\u001b[32m   1304\u001b[39m                 bitrate=mpl.rcParams[\u001b[33m'\u001b[39m\u001b[33manimation.bitrate\u001b[39m\u001b[33m'\u001b[39m],\n\u001b[32m   1305\u001b[39m                 fps=\u001b[32m1000.\u001b[39m / \u001b[38;5;28mself\u001b[39m._interval)\n\u001b[32m   1306\u001b[39m \u001b[38;5;28mself\u001b[39m.save(\u001b[38;5;28mstr\u001b[39m(path), writer=writer)\n",
      "\u001b[36mFile \u001b[39m\u001b[32m~/github/CS7320-AI/.venv/lib/python3.12/site-packages/matplotlib/animation.py:121\u001b[39m, in \u001b[36mMovieWriterRegistry.__getitem__\u001b[39m\u001b[34m(self, name)\u001b[39m\n\u001b[32m    119\u001b[39m \u001b[38;5;28;01mif\u001b[39;00m \u001b[38;5;28mself\u001b[39m.is_available(name):\n\u001b[32m    120\u001b[39m     \u001b[38;5;28;01mreturn\u001b[39;00m \u001b[38;5;28mself\u001b[39m._registered[name]\n\u001b[32m--> \u001b[39m\u001b[32m121\u001b[39m \u001b[38;5;28;01mraise\u001b[39;00m \u001b[38;5;167;01mRuntimeError\u001b[39;00m(\u001b[33mf\u001b[39m\u001b[33m\"\u001b[39m\u001b[33mRequested MovieWriter (\u001b[39m\u001b[38;5;132;01m{\u001b[39;00mname\u001b[38;5;132;01m}\u001b[39;00m\u001b[33m) not available\u001b[39m\u001b[33m\"\u001b[39m)\n",
      "\u001b[31mRuntimeError\u001b[39m: Requested MovieWriter (ffmpeg) not available"
     ]
    },
    {
     "data": {
      "text/plain": [
       "<matplotlib.animation.FuncAnimation at 0x75d673451520>"
      ]
     },
     "execution_count": 26,
     "metadata": {},
     "output_type": "execute_result"
    }
   ],
   "source": [
    "%time result = best_first_search(maze, strategy = \"A*\", W = 1-1e-9, debug = False, vis = False, animation = True)\n",
    "\n",
    "animate_maze(result)"
   ]
  },
  {
   "cell_type": "code",
   "execution_count": 27,
   "metadata": {},
   "outputs": [
    {
     "name": "stdout",
     "output_type": "stream",
     "text": [
      "CPU times: user 139 ms, sys: 168 μs, total: 139 ms\n",
      "Wall time: 125 ms\n",
      "Path length: 54\n",
      "Reached squares: 679\n",
      "Action sequence: ['W', 'W', 'W', 'W', 'W', 'W', 'W', 'W', 'W', 'W', 'W', 'W', 'S', 'W', 'S', 'S', 'W', 'S', 'W', 'W', 'S', 'S', 'S', 'S', 'S', 'S', 'S', 'S', 'S', 'W', 'W', 'S', 'W', 'S', 'S', 'W', 'W', 'S', 'W', 'W', 'W', 'W', 'W', 'W', 'W', 'W', 'W', 'W', 'W', 'S', 'W', 'S', 'W', 'S']\n"
     ]
    },
    {
     "ename": "RuntimeError",
     "evalue": "Requested MovieWriter (ffmpeg) not available",
     "output_type": "error",
     "traceback": [
      "\u001b[31m---------------------------------------------------------------------------\u001b[39m",
      "\u001b[31mRuntimeError\u001b[39m                              Traceback (most recent call last)",
      "\u001b[36mFile \u001b[39m\u001b[32m~/github/CS7320-AI/.venv/lib/python3.12/site-packages/IPython/core/formatters.py:406\u001b[39m, in \u001b[36mBaseFormatter.__call__\u001b[39m\u001b[34m(self, obj)\u001b[39m\n\u001b[32m    404\u001b[39m     method = get_real_method(obj, \u001b[38;5;28mself\u001b[39m.print_method)\n\u001b[32m    405\u001b[39m     \u001b[38;5;28;01mif\u001b[39;00m method \u001b[38;5;129;01mis\u001b[39;00m \u001b[38;5;129;01mnot\u001b[39;00m \u001b[38;5;28;01mNone\u001b[39;00m:\n\u001b[32m--> \u001b[39m\u001b[32m406\u001b[39m         \u001b[38;5;28;01mreturn\u001b[39;00m \u001b[43mmethod\u001b[49m\u001b[43m(\u001b[49m\u001b[43m)\u001b[49m\n\u001b[32m    407\u001b[39m     \u001b[38;5;28;01mreturn\u001b[39;00m \u001b[38;5;28;01mNone\u001b[39;00m\n\u001b[32m    408\u001b[39m \u001b[38;5;28;01melse\u001b[39;00m:\n",
      "\u001b[36mFile \u001b[39m\u001b[32m~/github/CS7320-AI/.venv/lib/python3.12/site-packages/matplotlib/animation.py:1385\u001b[39m, in \u001b[36mAnimation._repr_html_\u001b[39m\u001b[34m(self)\u001b[39m\n\u001b[32m   1383\u001b[39m fmt = mpl.rcParams[\u001b[33m'\u001b[39m\u001b[33manimation.html\u001b[39m\u001b[33m'\u001b[39m]\n\u001b[32m   1384\u001b[39m \u001b[38;5;28;01mif\u001b[39;00m fmt == \u001b[33m'\u001b[39m\u001b[33mhtml5\u001b[39m\u001b[33m'\u001b[39m:\n\u001b[32m-> \u001b[39m\u001b[32m1385\u001b[39m     \u001b[38;5;28;01mreturn\u001b[39;00m \u001b[38;5;28;43mself\u001b[39;49m\u001b[43m.\u001b[49m\u001b[43mto_html5_video\u001b[49m\u001b[43m(\u001b[49m\u001b[43m)\u001b[49m\n\u001b[32m   1386\u001b[39m \u001b[38;5;28;01melif\u001b[39;00m fmt == \u001b[33m'\u001b[39m\u001b[33mjshtml\u001b[39m\u001b[33m'\u001b[39m:\n\u001b[32m   1387\u001b[39m     \u001b[38;5;28;01mreturn\u001b[39;00m \u001b[38;5;28mself\u001b[39m.to_jshtml()\n",
      "\u001b[36mFile \u001b[39m\u001b[32m~/github/CS7320-AI/.venv/lib/python3.12/site-packages/matplotlib/animation.py:1302\u001b[39m, in \u001b[36mAnimation.to_html5_video\u001b[39m\u001b[34m(self, embed_limit)\u001b[39m\n\u001b[32m   1299\u001b[39m path = Path(tmpdir, \u001b[33m\"\u001b[39m\u001b[33mtemp.m4v\u001b[39m\u001b[33m\"\u001b[39m)\n\u001b[32m   1300\u001b[39m \u001b[38;5;66;03m# We create a writer manually so that we can get the\u001b[39;00m\n\u001b[32m   1301\u001b[39m \u001b[38;5;66;03m# appropriate size for the tag\u001b[39;00m\n\u001b[32m-> \u001b[39m\u001b[32m1302\u001b[39m Writer = \u001b[43mwriters\u001b[49m\u001b[43m[\u001b[49m\u001b[43mmpl\u001b[49m\u001b[43m.\u001b[49m\u001b[43mrcParams\u001b[49m\u001b[43m[\u001b[49m\u001b[33;43m'\u001b[39;49m\u001b[33;43manimation.writer\u001b[39;49m\u001b[33;43m'\u001b[39;49m\u001b[43m]\u001b[49m\u001b[43m]\u001b[49m\n\u001b[32m   1303\u001b[39m writer = Writer(codec=\u001b[33m'\u001b[39m\u001b[33mh264\u001b[39m\u001b[33m'\u001b[39m,\n\u001b[32m   1304\u001b[39m                 bitrate=mpl.rcParams[\u001b[33m'\u001b[39m\u001b[33manimation.bitrate\u001b[39m\u001b[33m'\u001b[39m],\n\u001b[32m   1305\u001b[39m                 fps=\u001b[32m1000.\u001b[39m / \u001b[38;5;28mself\u001b[39m._interval)\n\u001b[32m   1306\u001b[39m \u001b[38;5;28mself\u001b[39m.save(\u001b[38;5;28mstr\u001b[39m(path), writer=writer)\n",
      "\u001b[36mFile \u001b[39m\u001b[32m~/github/CS7320-AI/.venv/lib/python3.12/site-packages/matplotlib/animation.py:121\u001b[39m, in \u001b[36mMovieWriterRegistry.__getitem__\u001b[39m\u001b[34m(self, name)\u001b[39m\n\u001b[32m    119\u001b[39m \u001b[38;5;28;01mif\u001b[39;00m \u001b[38;5;28mself\u001b[39m.is_available(name):\n\u001b[32m    120\u001b[39m     \u001b[38;5;28;01mreturn\u001b[39;00m \u001b[38;5;28mself\u001b[39m._registered[name]\n\u001b[32m--> \u001b[39m\u001b[32m121\u001b[39m \u001b[38;5;28;01mraise\u001b[39;00m \u001b[38;5;167;01mRuntimeError\u001b[39;00m(\u001b[33mf\u001b[39m\u001b[33m\"\u001b[39m\u001b[33mRequested MovieWriter (\u001b[39m\u001b[38;5;132;01m{\u001b[39;00mname\u001b[38;5;132;01m}\u001b[39;00m\u001b[33m) not available\u001b[39m\u001b[33m\"\u001b[39m)\n",
      "\u001b[31mRuntimeError\u001b[39m: Requested MovieWriter (ffmpeg) not available"
     ]
    },
    {
     "data": {
      "text/plain": [
       "<matplotlib.animation.FuncAnimation at 0x75d6735433b0>"
      ]
     },
     "execution_count": 27,
     "metadata": {},
     "output_type": "execute_result"
    }
   ],
   "source": [
    "%time result = best_first_search(maze, strategy = \"A*\", W = .1, debug = False, vis = False, animation = True)\n",
    "\n",
    "animate_maze(result)"
   ]
  }
 ],
 "metadata": {
  "kernelspec": {
   "display_name": ".venv",
   "language": "python",
   "name": "python3"
  },
  "language_info": {
   "codemirror_mode": {
    "name": "ipython",
    "version": 3
   },
   "file_extension": ".py",
   "mimetype": "text/x-python",
   "name": "python",
   "nbconvert_exporter": "python",
   "pygments_lexer": "ipython3",
   "version": "3.12.3"
  }
 },
 "nbformat": 4,
 "nbformat_minor": 4
}
