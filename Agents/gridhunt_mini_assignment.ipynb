{
 "cells": [
  {
   "cell_type": "markdown",
   "metadata": {},
   "source": [
    "# Intelligent Agents: Reflex-Based Agents for GridHunt\n",
    "\n",
    "Student Name: [Add your name]\n",
    "\n",
    "I have used the following AI tools: [list tools]\n",
    "\n",
    "I understand that my submission needs to be my own work: [your initials]"
   ]
  },
  {
   "cell_type": "markdown",
   "metadata": {},
   "source": [
    "## Learning Outcomes\n",
    "\n",
    "* Apply core AI concepts by implementing the agent function for a simple and model-based reflex agents that respond to environmental percepts.\n",
    "* Practice how the environment and the agent function interact.\n",
    "* Analyze agent performance through controlled experiments across different environment configurations.\n",
    "\n",
    "## Instructions\n",
    "\n",
    "Total Points: Undergrads 10\n",
    "\n",
    "Complete this notebook. Use the provided notebook cells and insert additional code and markdown cells as needed. Submit the completely rendered notebook.\n",
    "### AI Use\n",
    "\n",
    "Here are some guidelines that will make it easier for you:\n",
    "\n",
    "* __Don't:__ Rely on AI auto completion. You will waste a lot of time trying to figure out how the suggested code relates to what we do in class. Turn off AI code completion (e.g., Copilot) in your IDE.\n",
    "* __Don't:__ Do not submit code/text that you do not understand or have not checked to make sure that it is complete and correct.\n",
    "* __Do:__ Use AI for debugging and letting it explain code and concepts from class."
   ]
  },
  {
   "cell_type": "markdown",
   "metadata": {},
   "source": [
    "## Introduction\n",
    "\n",
    "Gridhunt-Agent is a small educational game to play with implementing simple agent functions. It is a Python reimplementation based on [Gridhunt2](https://michael.hahsler.net/SMU/CS1342/gridhunt2/). \n",
    "\n",
    "The objective of gridhunt is to implement a hunter who can catch the monster faster than all other hunters. Gridhunt uses a 30x30 grid of squares and a monster moves on this grid. Gridhunt is turn-based. In each turn each hunter gets 1-5 points which she/he can use for actions (e.g., move to an adjacent square, find out where the monster is; teleport to a random location on the grid). A hunter catches the monster if she/he moves on the same square the monster currently occupies first. If the monster survives 100 rounds the monster wins.\n",
    "\n",
    "## PEAS description of the cleaning phase\n",
    "\n",
    "__Performance Measure:__ Each action costs 1 energy unit. The performance is measured as the sum of the energy units used to catch the monster. Catching means to be on the same square.\n",
    "\n",
    "__Environment:__ An arena with $30 \\times 30$ squares. At the beginning the monster and the player is randomly placed in the environment.\n",
    "\n",
    "__Actuators:__ The agent can move to an adjacent square or teleport which will move the agent to a random square in the arena.\n",
    "\n",
    "__Sensors:__ The agent can see its location in the arena and the location of the monster.  \n",
    "\n",
    "\n",
    "## The agent program for a simple randomized agent\n",
    "\n",
    "The agent program is a function that gets sensor information (the current percepts) as the arguments. The arguments are:\n",
    "\n",
    "* A dictionary with boolean entries for the for bumper sensors `north`, `east`, `west`, `south`. E.g., if the agent is on the north-west corner, `bumpers` will be `{\"north\" : True, \"east\" : False, \"south\" : False, \"west\" : True}`.\n",
    "* The dirt sensor produces a boolean.\n",
    "\n",
    "The agent returns the chosen action as a string.\n",
    "\n",
    "Here is an example implementation for the agent program of a simple randomized agent:  "
   ]
  },
  {
   "cell_type": "code",
   "execution_count": null,
   "metadata": {},
   "outputs": [],
   "source": [
    "import numpy as np\n",
    "from IPython.display import clear_output\n",
    "from time import sleep\n",
    "\n",
    "def arena_environment(hunter_agent_function, monster_agent_function, n = 30, max_steps = 100, visualize = False, animation = False):\n",
    "    \"\"\"\n",
    "    Simulate an arena where a hunter agent tries to catch a monster agent.\n",
    "\n",
    "    Parameters:\n",
    "    hunter_agent_function (function): A function that takes the current positions of the hunter and monster\n",
    "                                      and returns the next move for the hunter.\n",
    "    monster_agent_function (function): A function that takes the current positions of the hunter and monster\n",
    "                                       and returns the next move for the monster\n",
    "    n (int): The size of the arena (n x n grid).\n",
    "    max_steps (int): The maximum number of steps to simulate.\n",
    "    visualize (bool): Whether to visualize the arena.\n",
    "    animation (bool): Whether to animate the visualization with a delay.\n",
    "\n",
    "    Returns:\n",
    "    int: The number of steps taken for the hunter to catch the monster or max_steps if not caught.\n",
    "    \"\"\"\n",
    "    \n",
    "    # Initialize positions\n",
    "    monster_pos = np.random.randint(0, n-1, size=2)\n",
    "    hunter_pos = np.random.randint(0, n-1, size=2)\n",
    "    \n",
    "    def move(action, position):\n",
    "        \"\"\"calculate new position for the agent.\"\"\"\n",
    "        if action == 'north':\n",
    "            position[0] -= 1\n",
    "        elif action == 'south':\n",
    "            position[0] += 1\n",
    "        elif action == 'west':\n",
    "            position[1] -= 1\n",
    "        elif action == 'east':\n",
    "            position[1] += 1\n",
    "        else:\n",
    "            raise ValueError(\"Invalid action.\")\n",
    "        \n",
    "        # Ensure position stays within bounds\n",
    "        position = np.clip(position, 0, n-1)\n",
    "        return position\n",
    "\n",
    "    for step in range(max_steps):\n",
    "        if visualize:\n",
    "            if animation:\n",
    "                sleep(1)\n",
    "                clear_output(wait=True)\n",
    "            arena = np.full((n, n), '.', dtype=str)\n",
    "            arena[monster_pos[0], monster_pos[1]] = 'M'\n",
    "            arena[hunter_pos[0], hunter_pos[1]] = 'H'\n",
    "            print(\"\\n\".join(\"\".join(row) for row in arena))\n",
    "        \n",
    "        \n",
    "        if np.array_equal(hunter_pos, monster_pos):\n",
    "            print(f\"Hunter caught the monster in {step} steps!\")\n",
    "            break\n",
    "        \n",
    "        # Get next move from monster agent function\n",
    "        monster_action = monster_agent_function(hunter_pos, monster_pos)\n",
    "        if monster_action != 'stay':\n",
    "            monster_pos = move(monster_action, monster_pos)\n",
    "\n",
    "        # Get next move from hunter agent function\n",
    "        hunter_action = hunter_agent_function(hunter_pos, monster_pos)\n",
    "        if hunter_action == 'teleport':\n",
    "            hunter_pos = np.random.randint(0, n-1, size=2)\n",
    "        else:\n",
    "            hunter_pos = move(hunter_action, hunter_pos)\n",
    "    \n",
    "        if visualize:\n",
    "            print(f\"Hunter chose action '{hunter_action}' and is now at {hunter_pos}\")\n",
    "            print(f\"Monster chose action '{monster_action}' and is now at {monster_pos}\")\n",
    "            print(\"\\n\" + \"=\"*n + \"\\n\")\n",
    "        \n",
    "    return step"
   ]
  },
  {
   "cell_type": "code",
   "execution_count": 14,
   "metadata": {},
   "outputs": [],
   "source": [
    "monster_actions = [\"north\", \"east\", \"west\", \"south\", \"stay\"]\n",
    "\n",
    "def monster_agent_function_simple(hunter_pos, monster_pos):\n",
    "    return np.random.choice(monster_actions, p=[0.125, 0.125, 0.125, 0.125, 0.5])"
   ]
  },
  {
   "cell_type": "code",
   "execution_count": 15,
   "metadata": {},
   "outputs": [],
   "source": [
    "actions = [\"north\", \"east\", \"west\", \"south\", \"teleport\"]\n",
    "\n",
    "def simple_randomized_hunter_agent_function(hunter_location, monster_location):\n",
    "    return np.random.choice(actions)"
   ]
  },
  {
   "cell_type": "code",
   "execution_count": null,
   "metadata": {},
   "outputs": [
    {
     "name": "stdout",
     "output_type": "stream",
     "text": [
      "..H..\n",
      ".....\n",
      ".....\n",
      ".....\n",
      "....M\n",
      "Hunter chose action 'east' and is now at [0 3]\n",
      "Monster chose action 'south' and is now at [4 4]\n",
      "\n",
      "=====\n",
      "\n"
     ]
    },
    {
     "ename": "KeyboardInterrupt",
     "evalue": "",
     "output_type": "error",
     "traceback": [
      "\u001b[31m---------------------------------------------------------------------------\u001b[39m",
      "\u001b[31mKeyboardInterrupt\u001b[39m                         Traceback (most recent call last)",
      "\u001b[36mCell\u001b[39m\u001b[36m \u001b[39m\u001b[32mIn[51]\u001b[39m\u001b[32m, line 1\u001b[39m\n\u001b[32m----> \u001b[39m\u001b[32m1\u001b[39m \u001b[43marena_environment\u001b[49m\u001b[43m(\u001b[49m\u001b[43msimple_randomized_hunter_agent_function\u001b[49m\u001b[43m,\u001b[49m\u001b[43m \u001b[49m\u001b[43mmonster_agent_function_simple\u001b[49m\u001b[43m,\u001b[49m\u001b[43m \u001b[49m\u001b[43mn\u001b[49m\u001b[43m=\u001b[49m\u001b[32;43m5\u001b[39;49m\u001b[43m,\u001b[49m\u001b[43m \u001b[49m\u001b[43mmax_steps\u001b[49m\u001b[43m=\u001b[49m\u001b[32;43m100\u001b[39;49m\u001b[43m,\u001b[49m\u001b[43m \u001b[49m\u001b[43mvisualize\u001b[49m\u001b[43m=\u001b[49m\u001b[38;5;28;43;01mTrue\u001b[39;49;00m\u001b[43m)\u001b[49m\n",
      "\u001b[36mCell\u001b[39m\u001b[36m \u001b[39m\u001b[32mIn[45]\u001b[39m\u001b[32m, line 45\u001b[39m, in \u001b[36marena_environment\u001b[39m\u001b[34m(hunter_agent_function, monster_agent_function, n, max_steps, visualize)\u001b[39m\n\u001b[32m     43\u001b[39m \u001b[38;5;28;01mfor\u001b[39;00m step \u001b[38;5;129;01min\u001b[39;00m \u001b[38;5;28mrange\u001b[39m(max_steps):\n\u001b[32m     44\u001b[39m     \u001b[38;5;28;01mif\u001b[39;00m visualize:\n\u001b[32m---> \u001b[39m\u001b[32m45\u001b[39m         \u001b[43msleep\u001b[49m\u001b[43m(\u001b[49m\u001b[32;43m1\u001b[39;49m\u001b[43m)\u001b[49m\n\u001b[32m     46\u001b[39m         clear_output(wait=\u001b[38;5;28;01mTrue\u001b[39;00m)\n\u001b[32m     47\u001b[39m         arena = np.full((n, n), \u001b[33m'\u001b[39m\u001b[33m.\u001b[39m\u001b[33m'\u001b[39m, dtype=\u001b[38;5;28mstr\u001b[39m)\n",
      "\u001b[31mKeyboardInterrupt\u001b[39m: "
     ]
    }
   ],
   "source": [
    "arena_environment(simple_randomized_hunter_agent_function, monster_agent_function_simple, n=5, max_steps=5, visualize=True)"
   ]
  },
  {
   "cell_type": "code",
   "execution_count": 41,
   "metadata": {},
   "outputs": [
    {
     "name": "stdout",
     "output_type": "stream",
     "text": [
      "Hunter caught the monster in 14 steps!\n"
     ]
    },
    {
     "data": {
      "text/plain": [
       "14"
      ]
     },
     "execution_count": 41,
     "metadata": {},
     "output_type": "execute_result"
    }
   ],
   "source": [
    "arena_environment(simple_randomized_hunter_agent_function, monster_agent_function_simple, n=5, max_steps=100, visualize=False)"
   ]
  }
 ],
 "metadata": {
  "kernelspec": {
   "display_name": ".venv",
   "language": "python",
   "name": "python3"
  },
  "language_info": {
   "codemirror_mode": {
    "name": "ipython",
    "version": 3
   },
   "file_extension": ".py",
   "mimetype": "text/x-python",
   "name": "python",
   "nbconvert_exporter": "python",
   "pygments_lexer": "ipython3",
   "version": "3.12.3"
  },
  "toc-autonumbering": false
 },
 "nbformat": 4,
 "nbformat_minor": 4
}
