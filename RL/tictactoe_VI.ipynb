{
 "cells": [
  {
   "cell_type": "markdown",
   "metadata": {},
   "source": [
    "# Reinforcement Learning: Learning to Play Tic-Tac-Toe with Value Iteration"
   ]
  },
  {
   "cell_type": "markdown",
   "metadata": {},
   "source": [
    "## Introduction \n",
    " \n",
    "Value iteration is a model-based method that uses dynamic programming to find the optimal value function $V^*$ and then extracts the optimal policy $\\pi^*$.\n",
    "\n",
    "\n",
    "Model-based method assumes that we know the transition model and the reward model of the MDP. \n",
    "\n",
    "* Transition model $p(s'|s,a)$ has $|S|\\times|S|\\times|A|$ entries.\n",
    "* Reward model is a function $r(s,a,s')$ has $|S|\\times|S|\\times|A|$ entries.\n",
    "\n",
    "We can implement these as functions, or, if they fit in memory, as lists of precomputed matrices.\n",
    "\n",
    "We first check how large the state space is, then we discover the state spave and set up the MDP. Then we implement value iteration and experiment with the resulting value function and policy."
   ]
  },
  {
   "cell_type": "markdown",
   "metadata": {},
   "source": [
    "Install missing libraries."
   ]
  },
  {
   "cell_type": "code",
   "execution_count": 41,
   "metadata": {},
   "outputs": [
    {
     "name": "stdout",
     "output_type": "stream",
     "text": [
      "Requirement already satisfied: numpy in /home/mhahsler/github/CS7320-AI/.venv/lib/python3.12/site-packages (2.2.5)\n",
      "Requirement already satisfied: pandas in /home/mhahsler/github/CS7320-AI/.venv/lib/python3.12/site-packages (2.3.1)\n",
      "Requirement already satisfied: matplotlib in /home/mhahsler/github/CS7320-AI/.venv/lib/python3.12/site-packages (3.10.5)\n",
      "Requirement already satisfied: python-dateutil>=2.8.2 in /home/mhahsler/github/CS7320-AI/.venv/lib/python3.12/site-packages (from pandas) (2.9.0.post0)\n",
      "Requirement already satisfied: pytz>=2020.1 in /home/mhahsler/github/CS7320-AI/.venv/lib/python3.12/site-packages (from pandas) (2025.2)\n",
      "Requirement already satisfied: tzdata>=2022.7 in /home/mhahsler/github/CS7320-AI/.venv/lib/python3.12/site-packages (from pandas) (2025.2)\n",
      "Requirement already satisfied: contourpy>=1.0.1 in /home/mhahsler/github/CS7320-AI/.venv/lib/python3.12/site-packages (from matplotlib) (1.3.3)\n",
      "Requirement already satisfied: cycler>=0.10 in /home/mhahsler/github/CS7320-AI/.venv/lib/python3.12/site-packages (from matplotlib) (0.12.1)\n",
      "Requirement already satisfied: fonttools>=4.22.0 in /home/mhahsler/github/CS7320-AI/.venv/lib/python3.12/site-packages (from matplotlib) (4.59.1)\n",
      "Requirement already satisfied: kiwisolver>=1.3.1 in /home/mhahsler/github/CS7320-AI/.venv/lib/python3.12/site-packages (from matplotlib) (1.4.9)\n",
      "Requirement already satisfied: packaging>=20.0 in /home/mhahsler/github/CS7320-AI/.venv/lib/python3.12/site-packages (from matplotlib) (25.0)\n",
      "Requirement already satisfied: pillow>=8 in /home/mhahsler/github/CS7320-AI/.venv/lib/python3.12/site-packages (from matplotlib) (11.3.0)\n",
      "Requirement already satisfied: pyparsing>=2.3.1 in /home/mhahsler/github/CS7320-AI/.venv/lib/python3.12/site-packages (from matplotlib) (3.2.3)\n",
      "Requirement already satisfied: six>=1.5 in /home/mhahsler/github/CS7320-AI/.venv/lib/python3.12/site-packages (from python-dateutil>=2.8.2->pandas) (1.17.0)\n",
      "Note: you may need to restart the kernel to use updated packages.\n"
     ]
    }
   ],
   "source": [
    "%pip install numpy pandas matplotlib"
   ]
  },
  {
   "cell_type": "markdown",
   "metadata": {},
   "source": [
    "## State Space\n",
    "\n",
    "### State Space Size\n",
    "\n",
    "Value iteration iteratively calculates a Value function $V$ and then extracts a policy $pi$ that prescribes for each state an action. It is therefore a table of\n",
    "size $|S|$. For this completely observable problem, state and observation are the same.\n",
    "\n",
    "We need to make sure that the policy table fits in memory."
   ]
  },
  {
   "cell_type": "code",
   "execution_count": 42,
   "metadata": {},
   "outputs": [
    {
     "name": "stdout",
     "output_type": "stream",
     "text": [
      "level\tboards\tplayer\n",
      "0 \t 1 \t x\n",
      "1 \t 9 \t o\n",
      "2 \t 72 \t x\n",
      "3 \t 252 \t o\n",
      "4 \t 756 \t x\n",
      "5 \t 1260 \t o\n",
      "6 \t 1680 \t x\n",
      "7 \t 1260 \t o\n",
      "8 \t 630 \t x\n",
      "9 \t 126 \t o\n",
      "Number of boards by player: {'x': 3139, 'o': 2907}\n"
     ]
    }
   ],
   "source": [
    "import math\n",
    "\n",
    "print(\"level\\tboards\\tplayer\")\n",
    "sum = {\"x\":0, \"o\":0}\n",
    "player = \"x\"\n",
    "\n",
    "for i in range(0,10):\n",
    "    # unique states at each level:\n",
    "    # how many different squares can be played played times how we can split them between x and o\n",
    "    boards = math.comb(9, i) * math.comb(i, math.floor(i/2))\n",
    "    print(i, \"\\t\", boards, \"\\t\", player)\n",
    "    \n",
    "    sum[player] += boards\n",
    "\n",
    "    if player == \"x\": \n",
    "        player = \"o\" \n",
    "    else: \n",
    "        player = \"x\"\n",
    "\n",
    "print (f\"Number of boards by player: {sum}\")"
   ]
  },
  {
   "cell_type": "markdown",
   "metadata": {},
   "source": [
    "Some games will end early, so everything should easily fit into memory. "
   ]
  },
  {
   "cell_type": "markdown",
   "metadata": {},
   "source": [
    "### Finding the State Space\n",
    "\n",
    "We need the state space for model-based RL methods. We can find all reachable states by performing a depth-first traversal using the result function. \n",
    "We focus here on player `x`. Note that states for player `x` are only boards where it is `x`'s move or where the game is complete.  "
   ]
  },
  {
   "cell_type": "code",
   "execution_count": 43,
   "metadata": {},
   "outputs": [],
   "source": [
    "# load game mechanics\n",
    "from tictactoe import empty_board, actions, result, terminal, utility, other, show_board\n",
    "import numpy as np\n"
   ]
  },
  {
   "cell_type": "markdown",
   "metadata": {},
   "source": [
    "This is a dept-first traversal of the game tree and store all encountered boards by player. We store information on what player moves next, if the state is terminal and the immediate reward for the state since we will \n",
    "need it to define the MDP."
   ]
  },
  {
   "cell_type": "code",
   "execution_count": 44,
   "metadata": {},
   "outputs": [],
   "source": [
    "def traverse_boards(reward_player = \"x\"):\n",
    "    boards = dict()\n",
    "\n",
    "    def move(board, player):\n",
    "        # print(\"Traversing state\", state, \"for player\", player)\n",
    "        for action in actions(board):\n",
    "            next_board = result(board, player, action)\n",
    "            if tuple(next_board) not in boards:  \n",
    "                if terminal(next_board):\n",
    "                    boards[tuple(next_board)] = { \"player\" : \"terminal\", \"reward\" : utility(next_board, reward_player) } \n",
    "                else:\n",
    "                    boards[tuple(next_board)] = { \"player\" : other(player), \"reward\" : 0.0 }\n",
    "                    move(next_board, other(player))\n",
    "                \n",
    "\n",
    "    start_board = empty_board()\n",
    "    boards[tuple(start_board)] = { \"player\" : \"x\", \"reward\" : 0.0 }\n",
    "    move(start_board, \"x\")\n",
    "  \n",
    "    return boards"
   ]
  },
  {
   "cell_type": "code",
   "execution_count": 45,
   "metadata": {},
   "outputs": [
    {
     "name": "stdout",
     "output_type": "stream",
     "text": [
      "Total unique boards (for player x, o and terminal): 5478\n",
      "Total unique states for player 'x' excluding terminal boards: 2423\n",
      "Total unique states for player 'x' including terminal boards: 3381\n"
     ]
    },
    {
     "data": {
      "text/plain": [
       "[(' ', ' ', ' ', ' ', ' ', ' ', ' ', ' ', ' '),\n",
       " ('x', 'o', ' ', ' ', ' ', ' ', ' ', ' ', ' '),\n",
       " ('x', 'o', 'x', 'o', ' ', ' ', ' ', ' ', ' '),\n",
       " ('x', 'o', 'x', 'o', 'x', 'o', ' ', ' ', ' '),\n",
       " ('x', 'o', 'x', 'o', 'x', 'o', 'x', ' ', ' ')]"
      ]
     },
     "metadata": {},
     "output_type": "display_data"
    },
    {
     "data": {
      "text/plain": [
       "{np.int64(0): np.int64(1),\n",
       " np.int64(2): np.int64(72),\n",
       " np.int64(4): np.int64(756),\n",
       " np.int64(5): np.int64(120),\n",
       " np.int64(6): np.int64(1520),\n",
       " np.int64(7): np.int64(444),\n",
       " np.int64(8): np.int64(390),\n",
       " np.int64(9): np.int64(78)}"
      ]
     },
     "metadata": {},
     "output_type": "display_data"
    }
   ],
   "source": [
    "boards = traverse_boards()\n",
    "print(\"Total unique boards (for player x, o and terminal):\", len(boards.keys()))\n",
    "\n",
    "# filter states for player 'x' to get the state space S\n",
    "S_non_terminal = [state for state in boards.keys() if boards[state][\"player\"] == \"x\"]\n",
    "print(\"Total unique states for player 'x' excluding terminal boards:\", len(S_non_terminal))\n",
    "\n",
    "S = [state for state in boards.keys() if boards[state][\"player\"] == \"x\" or boards[state][\"player\"] == \"terminal\"]\n",
    "print(\"Total unique states for player 'x' including terminal boards:\", len(S))\n",
    "\n",
    "display(S[0:5])  # print first 5 states for player 'x'\n",
    "\n",
    "# compare counts with the combinatorial calculation\n",
    "a = np.array([s.count(\"x\") + s.count(\"o\") for s in S])\n",
    "unique, counts = np.unique(a, return_counts=True)\n",
    "display(dict(zip(unique, counts)))"
   ]
  },
  {
   "cell_type": "markdown",
   "metadata": {},
   "source": [
    "Since we show the agent the terminal board at the end of the game, it is a valid terminal state and part of the state space."
   ]
  },
  {
   "cell_type": "markdown",
   "metadata": {},
   "source": [
    "Check a few boards"
   ]
  },
  {
   "cell_type": "code",
   "execution_count": 46,
   "metadata": {},
   "outputs": [
    {
     "data": {
      "image/png": "[encoded data removed]",
      "text/plain": [
       "<Figure size 192x192 with 1 Axes>"
      ]
     },
     "metadata": {},
     "output_type": "display_data"
    },
    {
     "data": {
      "text/plain": [
       "{'player': 'x', 'reward': 0.0}"
      ]
     },
     "metadata": {},
     "output_type": "display_data"
    },
    {
     "data": {
      "image/png": "[encoded data removed]",
      "text/plain": [
       "<Figure size 192x192 with 1 Axes>"
      ]
     },
     "metadata": {},
     "output_type": "display_data"
    },
    {
     "data": {
      "text/plain": [
       "{'player': 'terminal', 'reward': 1}"
      ]
     },
     "metadata": {},
     "output_type": "display_data"
    },
    {
     "data": {
      "image/png": "[encoded data removed]",
      "text/plain": [
       "<Figure size 192x192 with 1 Axes>"
      ]
     },
     "metadata": {},
     "output_type": "display_data"
    },
    {
     "data": {
      "text/plain": [
       "{'player': 'terminal', 'reward': -1}"
      ]
     },
     "metadata": {},
     "output_type": "display_data"
    }
   ],
   "source": [
    "b = [' ', ' ', ' ', ' ', ' ', ' ', ' ', ' ', ' ']\n",
    "show_board(b)\n",
    "display(boards[tuple(b)]) \n",
    "\n",
    "b = ['x', 'x', 'x', 'o', 'o', ' ', ' ', ' ', ' ']\n",
    "show_board(b)\n",
    "display(boards[tuple(b)]) \n",
    "\n",
    "b = ['x', 'o', 'x', 'x', 'o', ' ', ' ', 'o', ' ']\n",
    "show_board(b)\n",
    "display(boards[tuple(b)]) "
   ]
  },
  {
   "cell_type": "markdown",
   "metadata": {},
   "source": [
    "Let's check the immediate reward distribution."
   ]
  },
  {
   "cell_type": "code",
   "execution_count": 47,
   "metadata": {},
   "outputs": [
    {
     "name": "stdout",
     "output_type": "stream",
     "text": [
      "Count of unique values: {np.float64(-1.0): np.int64(316), np.float64(0.0): np.int64(4536), np.float64(1.0): np.int64(626)}\n"
     ]
    },
    {
     "data": {
      "image/png": "[encoded data removed]",
      "text/plain": [
       "<Figure size 640x480 with 1 Axes>"
      ]
     },
     "metadata": {},
     "output_type": "display_data"
    }
   ],
   "source": [
    "import matplotlib.pyplot as plt\n",
    "\n",
    "r = [r[\"reward\"] for r in boards.values()]\n",
    "\n",
    "unique_elements, counts = np.unique(r, return_counts=True)\n",
    "print(f\"Count of unique values: {dict(zip(unique_elements, counts))}\")\n",
    "\n",
    "plt.hist(r, bins=10)\n",
    "plt.xlabel(\"Value\")\n",
    "plt.ylabel(\"Frequency\")\n",
    "plt.show()"
   ]
  },
  {
   "cell_type": "markdown",
   "metadata": {},
   "source": [
    "## Transition and Reward Model\n",
    "\n",
    "We define the MDP's transition and reward model as methods in a class. We will precompute the transition model and the reward model as lists of matrices for each action. We do this so the algorithm runs faster using matrix multiplications.\n",
    "\n",
    "Let's see how much memory we need."
   ]
  },
  {
   "cell_type": "code",
   "execution_count": 48,
   "metadata": {},
   "outputs": [
    {
     "name": "stdout",
     "output_type": "stream",
     "text": [
      "Number of entries in the transaction model: 102880449\n",
      "Memory needed in MB: 392.45776748657227\n"
     ]
    }
   ],
   "source": [
    "A = [0, 1, 2, 3, 4, 5, 6, 7, 8]\n",
    "\n",
    "entries = len(S) * len(S) * len(A)\n",
    "print(f\"Number of entries in the transaction model: {entries}\")\n",
    "\n",
    "# for np.float64 = 4 bytes\n",
    "print(f\"Memory needed in MB: {entries*4/1024/1024}\")"
   ]
  },
  {
   "cell_type": "markdown",
   "metadata": {},
   "source": [
    "We need this twice (plus some minimal data structure overhead), once for the transaction model and once for the matrices in the reward model. Less then 1 GB fits easily into memory. \n",
    "\n",
    "__Implementation__\n",
    "\n",
    "* $p(s'|s,a)$ is implemented as a list one element for each action. The elements are matrices representing the transition $s \\rightarrow s'$.\n",
    "* $r(s,a,s')$ is implemented as a list one element for each action. The elements are matrices representing the transition $s \\rightarrow s'$.\n",
    "\n",
    "__Important issues for the transition model:__\n",
    "* Illegal actions: We define that the agent stays in its state with a probability of 1.\n",
    "* Terminal states: We define that the agent stays in the terminal state with a probability of 1 no matter the action. This is an absorbing state.\n",
    "* Opponents actions: We define here that the opponent pursues a random policy and chooses uniformly from the available actions.\n",
    "\n",
    "__Important issues for the reward model:__\n",
    "* The reward is for entering a state so it focuses on $s'$.\n",
    "* Illegal actions: These are forbidden with a reward of $-\\infty$. However since python has issues with multiplying infinity with 0, we use a large negative immediate reward.\n",
    "* Terminal states: The argent only gets a reward for entering the terminal state (winning or losing the game). When it stays in the absorbing state the \n",
    "    immediate reward will be 0. \n"
   ]
  },
  {
   "cell_type": "markdown",
   "metadata": {},
   "source": [
    "# Defining the MDP\n",
    "\n",
    "We need model access for the transition model and the reward model."
   ]
  },
  {
   "cell_type": "code",
   "execution_count": 49,
   "metadata": {},
   "outputs": [],
   "source": [
    "class MDPModel:\n",
    "    def __init__(self, player = \"x\"):\n",
    "        \"\"\"initialize the MDP model with state space S and the player to move\"\"\"\n",
    "        self.player = player\n",
    "        \n",
    "        # actions\n",
    "        self.A = [0,1,2,3,4,5,6,7,8]\n",
    "\n",
    "        print(\"Exploring the state space...\")\n",
    "        self.boards = traverse_boards()\n",
    "        \n",
    "        # S is a hashed in dictionary S_lookup state -> id for faster lookup\n",
    "        S = [state for state in self.boards.keys() if self.boards[state][\"player\"] == self.player or self.boards[state][\"player\"] == \"terminal\"] \n",
    "        self.S = S\n",
    "        self.S_lookup = dict(zip(S, range(len(S))))\n",
    "        print(f\"Total unique states for player {self.player} including terminal boards: {len(self.S)}\")\n",
    "        \n",
    "        print(\"Precomputing transition matrices...\")\n",
    "        # make access to transition probabilities faster by precomputing them\n",
    "        self.p = None\n",
    "        self.p = self.transition_matrix_list()\n",
    "        \n",
    "        # make access to rewards faster by precomputing them for all actions\n",
    "        print(\"Precomputing reward matrix...\")\n",
    "        self.r = None\n",
    "        self.r = self.reward_matrix_list()\n",
    "\n",
    "        print(\"Done.\")\n",
    "\n",
    "    \n",
    "    def get_state_id(self, state):\n",
    "        \"\"\"returns the id of a state in S used for indexing into arrays and matrices\"\"\"\n",
    "        if isinstance(state, (int, float)):\n",
    "            return state # already an id\n",
    "        \n",
    "        if tuple(state) not in self.S_lookup:\n",
    "            raise ValueError(f\"State {state} not in state space S\")\n",
    "        \n",
    "        return self.S_lookup[tuple(state)]\n",
    "    \n",
    "    def get_state(self, state_id):\n",
    "        \"\"\"returns the state for a given id in S\"\"\"\n",
    "        if not isinstance(state_id, int) or state_id < 0 or state_id >= len(self.S):\n",
    "            raise ValueError(f\"State id {state_id} not in state space S\")\n",
    "        \n",
    "        # reverse lookup\n",
    "        return self.S[state_id]\n",
    "    \n",
    "    def transition_probability(self, state, action):\n",
    "        \"\"\"returns a vector p of length |S| with the transition probabilities\n",
    "        p[s'] = p(s' | state, action) for all s' in S\n",
    "        \"\"\"\n",
    "\n",
    "        state_id = self.get_state_id(state)\n",
    "\n",
    "        # use precomputed matrix if available\n",
    "        if self.p is not None and action in self.p:\n",
    "            return self.p[action][state_id, :]  \n",
    "\n",
    "        p = np.zeros(len(self.S))\n",
    "        \n",
    "        # stay in place if the game is over or the action is not valid\n",
    "        if terminal(state) or action not in actions(state):\n",
    "            p[state_id] = 1.0\n",
    "            return p\n",
    "\n",
    "        # the agent\n",
    "        next_state = result(list(state), self.player, action)\n",
    "        if terminal(next_state):\n",
    "            if tuple(next_state) not in self.S:\n",
    "                print(f\"state {state}, next_state {next_state}, action {action} not in state space S\")\n",
    "                raise ValueError(f\"Next state {next_state} not in state space S\")\n",
    "            \n",
    "            p[self.get_state_id(next_state)] = 1.0\n",
    "            return p\n",
    "        \n",
    "        # the opponent (we assume random play)\n",
    "        next_states = [result(next_state, other(self.player), a) for a in actions(next_state)]\n",
    "\n",
    "        for next_state in next_states:\n",
    "            p[self.get_state_id(next_state)] += 1.0 / len(next_states)\n",
    "        \n",
    "        return p\n",
    "    \n",
    "    def transition_matrix(self, action):\n",
    "        \"\"\"returns the full transition matrix P for and action  \n",
    "        with P[s, s'] = p(s' | s, action) for all s, s' in S\n",
    "        \"\"\"\n",
    "\n",
    "        # use precomputed matrix if available\n",
    "        if self.p is not None and action in self.p:\n",
    "            return self.p[action]   \n",
    "\n",
    "        p_matrix = np.zeros(shape=(len(self.S), len(self.S)))\n",
    "        for i, s in enumerate(self.S):\n",
    "            p = self.transition_probability(s, action)\n",
    "            p_matrix[i, :] = p\n",
    "\n",
    "        return p_matrix\n",
    "\n",
    "    def transition_matrix_list(self):\n",
    "        \"\"\"returns the full transition matrix P as a list of matrices for each action a in A\n",
    "        with P[a][s, s'] = p(s' | s, a) for all s, s' in S and a in A\n",
    "        \"\"\"\n",
    "        if self.p is not None:\n",
    "            return self.p\n",
    "    \n",
    "        P = dict()\n",
    "        for a in self.A:\n",
    "            P[a] = self.transition_matrix(action=a)\n",
    "\n",
    "        return P\n",
    "\n",
    "    def reward(self, state, action, next_state):\n",
    "        \"\"\"returns the reward for a state.\n",
    "        For this game only the state we get to (a win or loss) counts for the reward so we have R(s,a,s') = R(s,s')\"\"\"\n",
    "        \n",
    "        state_id = self.get_state_id(state)\n",
    "        next_state_id = self.get_state_id(next_state)\n",
    "        \n",
    "        if self.boards[tuple(state)][\"player\"] == \"terminal\":\n",
    "            return 0.0 \n",
    "\n",
    "        # illegal moves are forbidden\n",
    "        if state == next_state:\n",
    "            # return -np.inf\n",
    "            # unfortunately Python has issues with -inf * 0 being not defined\n",
    "            # so we use a large negative number instead.\n",
    "            return -1e6 \n",
    "        \n",
    "        # use precomputed matrix if available\n",
    "        if self.r is not None and action in self.r:\n",
    "            return self.r[action][state_id, next_state_id]  \n",
    "\n",
    "        return self.boards[tuple(next_state)][\"reward\"]\n",
    "    \n",
    "    def reward_vector(self, state, action):\n",
    "        \"\"\"returns a vector r of length |S| with the rewards\n",
    "        r[s'] = R(state, action, s') for all s' in S\n",
    "        \"\"\"\n",
    "\n",
    "        r = [self.reward(state, action, s) for s in self.S]\n",
    "        return r\n",
    "\n",
    "    def reward_matrix(self, action):\n",
    "        \"\"\"returns the reward matrix R[s,s'] for action a\"\"\"\n",
    "        # use precomputed matrix if available\n",
    "        if self.r is not None and action in self.r:\n",
    "            return self.r[action]\n",
    "    \n",
    "        r_matrix = np.zeros(shape=(len(self.S), len(self.S)))\n",
    "        for i, s in enumerate(self.S):\n",
    "            r = self.reward_vector(s, action)\n",
    "            r_matrix[i, :] = r\n",
    "\n",
    "        return r_matrix\n",
    "    \n",
    "    def reward_matrix_list(self):\n",
    "        \"\"\"returns the reward vector R with R[s] = R(s) for all s in S\"\"\"\n",
    "        if self.r is not None:\n",
    "            return self.r\n",
    "        \n",
    "        # reward does not depend on action in this game\n",
    "        r_matrix = self.reward_matrix(action=None)\n",
    "\n",
    "        R = dict() \n",
    "        for a in self.A:\n",
    "            R[a] = r_matrix\n",
    "\n",
    "        return R\n"
   ]
  },
  {
   "cell_type": "markdown",
   "metadata": {},
   "source": [
    "Create the model and precaluclating all the matrices takes a while!"
   ]
  },
  {
   "cell_type": "code",
   "execution_count": 50,
   "metadata": {},
   "outputs": [
    {
     "name": "stdout",
     "output_type": "stream",
     "text": [
      "Exploring the state space...\n",
      "Total unique states for player x including terminal boards: 3381\n",
      "Precomputing transition matrices...\n",
      "Precomputing reward matrix...\n",
      "Done.\n"
     ]
    }
   ],
   "source": [
    "mdp = MDPModel(player=\"x\")"
   ]
  },
  {
   "cell_type": "markdown",
   "metadata": {},
   "source": [
    "Make sure the entries in the transition model makes sense."
   ]
  },
  {
   "cell_type": "code",
   "execution_count": 51,
   "metadata": {},
   "outputs": [
    {
     "data": {
      "text/plain": [
       "'Transition vector: [0.    0.125 0.    ... 0.    0.    0.   ]'"
      ]
     },
     "metadata": {},
     "output_type": "display_data"
    },
    {
     "name": "stdout",
     "output_type": "stream",
     "text": [
      "Vector sums to 1.0 (should be 1)\n",
      "\n",
      "Transition matrix:\n",
      "[[0.    0.125 0.    ... 0.    0.    0.   ]\n",
      " [0.    1.    0.    ... 0.    0.    0.   ]\n",
      " [0.    0.    1.    ... 0.    0.    0.   ]\n",
      " ...\n",
      " [0.    0.    0.    ... 0.    0.    0.   ]\n",
      " [0.    0.    0.    ... 0.    0.    0.   ]\n",
      " [0.    0.    0.    ... 0.    0.    0.   ]]\n",
      "Do all rows add up to 1? True\n"
     ]
    }
   ],
   "source": [
    "b = empty_board()\n",
    "\n",
    "p = mdp.transition_probability(b, 0)\n",
    "display(f\"Transition vector: {p}\")  \n",
    "print(f\"Vector sums to {p.sum()} (should be 1)\") \n",
    "\n",
    "m = mdp.transition_matrix(0)  # transition matrix for action 0 from board b\n",
    "print(f\"\\nTransition matrix:\\n{m}\")\n",
    "\n",
    "colsums = np.round(np.sum(m, axis=1), 3) \n",
    "print(f\"Do all rows add up to 1? {all(colsums == 1.0)}\")"
   ]
  },
  {
   "cell_type": "markdown",
   "metadata": {},
   "source": [
    "Look at some entries in the reward model."
   ]
  },
  {
   "cell_type": "code",
   "execution_count": 52,
   "metadata": {},
   "outputs": [
    {
     "data": {
      "text/plain": [
       "array([[-1000000.,        0.,        0., ...,        0.,        0.,\n",
       "               0.],\n",
       "       [       0., -1000000.,        0., ...,        0.,        0.,\n",
       "               0.],\n",
       "       [       0.,        0., -1000000., ...,        0.,        0.,\n",
       "               0.],\n",
       "       ...,\n",
       "       [       0.,        0.,        0., ..., -1000000.,        0.,\n",
       "               0.],\n",
       "       [       0.,        0.,        0., ...,        0., -1000000.,\n",
       "               0.],\n",
       "       [       0.,        0.,        0., ...,        0.,        0.,\n",
       "        -1000000.]], shape=(3381, 3381))"
      ]
     },
     "metadata": {},
     "output_type": "display_data"
    },
    {
     "name": "stdout",
     "output_type": "stream",
     "text": [
      "\n",
      "Current board: ['x', 'o', ' ', 'x', 'o', ' ', ' ', ' ', ' ']\n"
     ]
    },
    {
     "data": {
      "image/png": "[encoded data removed]",
      "text/plain": [
       "<Figure size 192x192 with 1 Axes>"
      ]
     },
     "metadata": {},
     "output_type": "display_data"
    },
    {
     "name": "stdout",
     "output_type": "stream",
     "text": [
      "Reward after playing 6: 1.0\n"
     ]
    }
   ],
   "source": [
    "r = mdp.reward_matrix(action=0)\n",
    "display(r)\n",
    "\n",
    "\n",
    "b = ['x', 'o', ' ', 'x', 'o', ' ', ' ', ' ', ' ']\n",
    "print(f\"\\nCurrent board: {b}\")\n",
    "show_board(b)\n",
    "\n",
    "# Playing action 6 leads to a win (terminal state)\n",
    "b_next = result(b, \"x\", 6) \n",
    "r = mdp.reward(b, 6, b_next)\n",
    "print(f\"Reward after playing 6: {r}\")"
   ]
  },
  {
   "cell_type": "markdown",
   "metadata": {},
   "source": [
    "Now, since we have access to the MDP model, we can implement model-based RL methods."
   ]
  },
  {
   "cell_type": "markdown",
   "metadata": {},
   "source": [
    "# Implement Value Iteration\n",
    "\n",
    "![Value Iteration](figures/RL_VI.png)\n",
    "\n",
    "Page 83 of the RL text book. We use here $p(s'|s,a)$ and $r(s,a,S')$ instead of $p(s',r|s,a)$ because the reward model is determinisitic.\n",
    "\n",
    "The implementation follows exactly the pseudo code from the RL text book."
   ]
  },
  {
   "cell_type": "code",
   "execution_count": 53,
   "metadata": {},
   "outputs": [],
   "source": [
    "def value_iteration(mdp, gamma=1, theta=1e-6, max_iterations=100, verbose = True):\n",
    "    \"\"\"Value Iteration algorithm for MDPs\n",
    "    mdp: an MDP model with methods transition_probability(state, action) and reward(state, action, next_state)\n",
    "    gamma: discount factor\n",
    "    theta: threshold for stopping criterion\n",
    "    returns: V, a dictionary mapping states to values\n",
    "    \"\"\"\n",
    "    \n",
    "    # note: the algorithm uses state ids (integers) instead of states for faster access\n",
    "    # get model components for faster access\n",
    "    r = mdp.reward_matrix_list()\n",
    "    p = mdp.transition_matrix_list()\n",
    "    A = mdp.A\n",
    "    S = mdp.S\n",
    "    \n",
    "    V = np.zeros(len(S)) # initialize value function to 0 for all states\n",
    "\n",
    "    i = 0\n",
    "    while True:\n",
    "        i += 1\n",
    "        if verbose:\n",
    "            print(f\"Iteration {i}\")\n",
    "     \n",
    "        delta = 0.0\n",
    "        for s in range(len(S)):\n",
    "            v = V[s]\n",
    "            # instead of p(s',r|s,a) we have  p(s'|s,a) and r(s,a,s')\n",
    "            V[s] = np.max([np.sum(p[a][s, :] * (r[a][s, :] + gamma * V)) for a in A])\n",
    "            delta = max(delta, abs(v - V[s]))\n",
    "        \n",
    "        if verbose:\n",
    "            print(f\"V (min/max) {np.min(V)}/{np.max(V):.2f}\")\n",
    "            print(f\"Max change in value function delta: {delta}\")\n",
    "        \n",
    "        if delta < theta:\n",
    "            break\n",
    "\n",
    "        if i >= max_iterations:\n",
    "            if verbose:\n",
    "                print(\"Maximum iterations reached\")\n",
    "            break\n",
    "\n",
    "        # calculate the policy\n",
    "        pi = np.zeros(len(S))\n",
    "        for s in range(len(S)):\n",
    "            # note: np.argmax does not break ties randomly, but returns the first!\n",
    "            pi[s] = np.argmax([np.sum(p[a][s, :] * (r[a][s, :] + gamma * V)) for a in A])\n",
    "\n",
    "    return V, pi"
   ]
  },
  {
   "cell_type": "code",
   "execution_count": 54,
   "metadata": {},
   "outputs": [
    {
     "name": "stdout",
     "output_type": "stream",
     "text": [
      "Iteration 1\n",
      "V (min/max) -1.0/1.00\n",
      "Max change in value function delta: 1.0\n",
      "Iteration 2\n",
      "V (min/max) -1.0/1.00\n",
      "Max change in value function delta: 1.0\n",
      "Iteration 3\n",
      "V (min/max) -1.0/1.00\n",
      "Max change in value function delta: 0.125\n",
      "Iteration 4\n",
      "V (min/max) -1.0/1.00\n",
      "Max change in value function delta: 0.0\n"
     ]
    }
   ],
   "source": [
    "V, pi = value_iteration(mdp, gamma=1, theta=1e-6, max_iterations=100)"
   ]
  },
  {
   "cell_type": "markdown",
   "metadata": {},
   "source": [
    "Let's look at the optimal value function $V^*$."
   ]
  },
  {
   "cell_type": "code",
   "execution_count": 55,
   "metadata": {},
   "outputs": [
    {
     "data": {
      "text/plain": [
       "array([0.99479167, 1.        , 1.        , ..., 1.        , 1.        ,\n",
       "       1.        ], shape=(3381,))"
      ]
     },
     "execution_count": 55,
     "metadata": {},
     "output_type": "execute_result"
    }
   ],
   "source": [
    "V"
   ]
  },
  {
   "cell_type": "code",
   "execution_count": 56,
   "metadata": {},
   "outputs": [
    {
     "data": {
      "image/png": "[encoded data removed]",
      "text/plain": [
       "<Figure size 640x480 with 1 Axes>"
      ]
     },
     "metadata": {},
     "output_type": "display_data"
    }
   ],
   "source": [
    "import matplotlib.pyplot as plt\n",
    "\n",
    "plt.hist(V, bins=30)\n",
    "plt.xlabel(\"Value\")\n",
    "plt.ylabel(\"Frequency\")\n",
    "plt.show()"
   ]
  },
  {
   "cell_type": "markdown",
   "metadata": {},
   "source": [
    "There are some boards which create a immediate reward of -1. Let's see how they look like."
   ]
  },
  {
   "cell_type": "code",
   "execution_count": 57,
   "metadata": {},
   "outputs": [
    {
     "name": "stdout",
     "output_type": "stream",
     "text": [
      "[ 522  557 1010 1186 1274 1502 1582 1812 1859 1873 2461 2598 2624 2660\n",
      " 2748 3179]\n"
     ]
    },
    {
     "data": {
      "image/png": "[encoded data removed]",
      "text/plain": [
       "<Figure size 192x192 with 1 Axes>"
      ]
     },
     "metadata": {},
     "output_type": "display_data"
    },
    {
     "data": {
      "image/png": "[encoded data removed]",
      "text/plain": [
       "<Figure size 192x192 with 1 Axes>"
      ]
     },
     "metadata": {},
     "output_type": "display_data"
    },
    {
     "data": {
      "image/png": "[encoded data removed]",
      "text/plain": [
       "<Figure size 192x192 with 1 Axes>"
      ]
     },
     "metadata": {},
     "output_type": "display_data"
    },
    {
     "data": {
      "image/png": "[encoded data removed]",
      "text/plain": [
       "<Figure size 192x192 with 1 Axes>"
      ]
     },
     "metadata": {},
     "output_type": "display_data"
    },
    {
     "data": {
      "image/png": "[encoded data removed]",
      "text/plain": [
       "<Figure size 192x192 with 1 Axes>"
      ]
     },
     "metadata": {},
     "output_type": "display_data"
    }
   ],
   "source": [
    "bad = np.where(V == -1)[0]\n",
    "print(bad)\n",
    "\n",
    "for b in bad[0:5]:\n",
    "    show_board(mdp.S[b]) \n"
   ]
  },
  {
   "cell_type": "markdown",
   "metadata": {},
   "source": [
    "Luckily, if we follow the optimal policy, then we will never get to one of these boards.\n",
    "\n",
    "Here is the optimal policy $\\pi^*$."
   ]
  },
  {
   "cell_type": "code",
   "execution_count": 58,
   "metadata": {},
   "outputs": [
    {
     "data": {
      "text/plain": [
       "array([0., 3., 4., ..., 6., 0., 5.], shape=(3381,))"
      ]
     },
     "execution_count": 58,
     "metadata": {},
     "output_type": "execute_result"
    }
   ],
   "source": [
    "pi"
   ]
  },
  {
   "cell_type": "markdown",
   "metadata": {},
   "source": [
    "# Experiments\n",
    "\n",
    "We will try a few boards and look at the value and the action prescribed by the policy.\n",
    "\n",
    "### Empty Board"
   ]
  },
  {
   "cell_type": "code",
   "execution_count": 59,
   "metadata": {},
   "outputs": [
    {
     "data": {
      "image/png": "[encoded data removed]",
      "text/plain": [
       "<Figure size 192x192 with 1 Axes>"
      ]
     },
     "metadata": {},
     "output_type": "display_data"
    },
    {
     "name": "stdout",
     "output_type": "stream",
     "text": [
      "V(s) = 0.9947916666666666; pi(s) = 0.0\n"
     ]
    }
   ],
   "source": [
    "board = empty_board() \n",
    "show_board(board)\n",
    "print(f\"V(s) = {V[mdp.get_state_id(board)]}; pi(s) = {pi[mdp.get_state_id(board)]}\")\n"
   ]
  },
  {
   "cell_type": "markdown",
   "metadata": {},
   "source": [
    "Observations: \n",
    "* We have determined the optimal policy for `x` and `o` plays randomly. For tic-tac-toe this means that `x`\n",
    "  can never lose and the minimum reward is 0. For the first move, `x` will most likely win against `o` with a value close to 1.\n",
    "* The `np.argmax()` implementation always returns action 0 when all rewards are the same. This happens for the first move and for terminal boards."
   ]
  },
  {
   "cell_type": "markdown",
   "metadata": {},
   "source": [
    "### Ready for a Trap"
   ]
  },
  {
   "cell_type": "code",
   "execution_count": 60,
   "metadata": {},
   "outputs": [
    {
     "data": {
      "image/png": "[encoded data removed]",
      "text/plain": [
       "<Figure size 192x192 with 1 Axes>"
      ]
     },
     "metadata": {},
     "output_type": "display_data"
    },
    {
     "name": "stdout",
     "output_type": "stream",
     "text": [
      "V(s) = 1.0; pi(s) = 2.0\n"
     ]
    }
   ],
   "source": [
    "\n",
    "board = empty_board() \n",
    "board[0] = 'x'\n",
    "board[1] = 'o'\n",
    "board[3] = 'o'\n",
    "board[4] = 'x'\n",
    "show_board(board)\n",
    "print(f\"V(s) = {V[mdp.get_state_id(board)]}; pi(s) = {pi[mdp.get_state_id(board)]}\")"
   ]
  },
  {
   "cell_type": "markdown",
   "metadata": {},
   "source": [
    "Observations:\n",
    "* We do not use discounting so 2, 6, 8 lead to the same reward and it picks the first action."
   ]
  },
  {
   "cell_type": "markdown",
   "metadata": {},
   "source": [
    "### Terminal Win Board"
   ]
  },
  {
   "cell_type": "code",
   "execution_count": 61,
   "metadata": {},
   "outputs": [
    {
     "data": {
      "image/png": "[encoded data removed]",
      "text/plain": [
       "<Figure size 192x192 with 1 Axes>"
      ]
     },
     "metadata": {},
     "output_type": "display_data"
    },
    {
     "name": "stdout",
     "output_type": "stream",
     "text": [
      "V(s) = 0.0; pi(s) = 0.0\n"
     ]
    }
   ],
   "source": [
    "board[8] = 'x'\n",
    "show_board(board)\n",
    "print(f\"V(s) = {V[mdp.get_state_id(board)]}; pi(s) = {pi[mdp.get_state_id(board)]}\")"
   ]
  },
  {
   "cell_type": "markdown",
   "metadata": {},
   "source": [
    "Observations:\n",
    "* No legal actions. arg.max returns action 0.\n",
    "* Terminal states have by definition a value of 0."
   ]
  },
  {
   "cell_type": "markdown",
   "metadata": {},
   "source": [
    "### Avoided Loss"
   ]
  },
  {
   "cell_type": "code",
   "execution_count": 62,
   "metadata": {},
   "outputs": [
    {
     "data": {
      "image/png": "[encoded data removed]",
      "text/plain": [
       "<Figure size 192x192 with 1 Axes>"
      ]
     },
     "metadata": {},
     "output_type": "display_data"
    },
    {
     "name": "stdout",
     "output_type": "stream",
     "text": [
      "V(s) = 0.5; pi(s) = 7.0\n"
     ]
    }
   ],
   "source": [
    "board = empty_board() \n",
    "board[0] = 'x'\n",
    "board[1] = 'o'\n",
    "board[2] = 'x'\n",
    "board[4] = 'o'\n",
    "show_board(board)\n",
    "print(f\"V(s) = {V[mdp.get_state_id(board)]}; pi(s) = {pi[mdp.get_state_id(board)]}\")"
   ]
  },
  {
   "cell_type": "markdown",
   "metadata": {},
   "source": [
    "### Lost Board"
   ]
  },
  {
   "cell_type": "code",
   "execution_count": 63,
   "metadata": {},
   "outputs": [
    {
     "data": {
      "image/png": "[encoded data removed]",
      "text/plain": [
       "<Figure size 192x192 with 1 Axes>"
      ]
     },
     "metadata": {},
     "output_type": "display_data"
    },
    {
     "name": "stdout",
     "output_type": "stream",
     "text": [
      "V(s) = 0.0; pi(s) = 0.0\n"
     ]
    }
   ],
   "source": [
    "board[3] = 'x'\n",
    "board[7] = 'o'\n",
    "show_board(board)\n",
    "print(f\"V(s) = {V[mdp.get_state_id(board)]}; pi(s) = {pi[mdp.get_state_id(board)]}\")"
   ]
  },
  {
   "cell_type": "markdown",
   "metadata": {},
   "source": [
    "Observations:\n",
    "* No legal actions. arg.max returns action 0.\n",
    "* Terminal states have by definition a value of 0."
   ]
  },
  {
   "cell_type": "markdown",
   "metadata": {},
   "source": [
    "### Bad Situation"
   ]
  },
  {
   "cell_type": "code",
   "execution_count": 64,
   "metadata": {},
   "outputs": [
    {
     "data": {
      "image/png": "[encoded data removed]",
      "text/plain": [
       "<Figure size 192x192 with 1 Axes>"
      ]
     },
     "metadata": {},
     "output_type": "display_data"
    },
    {
     "name": "stdout",
     "output_type": "stream",
     "text": [
      "V(s) = -0.5; pi(s) = 1.0\n"
     ]
    }
   ],
   "source": [
    "board =  ['x', ' ', ' ', 'o', 'o', ' ', 'x', 'o', 'x']\n",
    "show_board(board)\n",
    "print(f\"V(s) = {V[mdp.get_state_id(board)]}; pi(s) = {pi[mdp.get_state_id(board)]}\")"
   ]
  },
  {
   "cell_type": "markdown",
   "metadata": {},
   "source": [
    "Observations:\n",
    "* `x` has no chance, but since `o` plays randomly it still has a 50% chance of messing it up."
   ]
  }
 ],
 "metadata": {
  "kernelspec": {
   "display_name": ".venv",
   "language": "python",
   "name": "python3"
  },
  "language_info": {
   "codemirror_mode": {
    "name": "ipython",
    "version": 3
   },
   "file_extension": ".py",
   "mimetype": "text/x-python",
   "name": "python",
   "nbconvert_exporter": "python",
   "pygments_lexer": "ipython3",
   "version": "3.12.3"
  }
 },
 "nbformat": 4,
 "nbformat_minor": 4
}
